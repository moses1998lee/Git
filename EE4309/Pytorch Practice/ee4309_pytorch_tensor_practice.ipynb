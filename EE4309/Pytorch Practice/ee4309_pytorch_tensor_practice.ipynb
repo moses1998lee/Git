{
  "cells": [
    {
      "cell_type": "code",
      "execution_count": 9,
      "id": "e9a216c2",
      "metadata": {
        "id": "e9a216c2"
      },
      "outputs": [],
      "source": [
        "# Please ensure 1. miniconda has been installed in your system; 2. visual studio code can use 'Python: Select your interpreter' (Press F1 and search this) to find the miniconda's python interpreter path; 3. The top-right has been correctly shown the python kernel\n",
        "import torch"
      ]
    },
    {
      "cell_type": "markdown",
      "id": "40bad0ce",
      "metadata": {
        "id": "40bad0ce"
      },
      "source": [
        "1. Write a program to create a tensor of 10 zeros, 10 ones, 10 fives"
      ]
    },
    {
      "cell_type": "code",
      "execution_count": 11,
      "id": "249211f8",
      "metadata": {
        "id": "249211f8",
        "outputId": "6e3bf16b-7a43-49af-f86c-7bf803e4711c"
      },
      "outputs": [
        {
          "name": "stdout",
          "output_type": "stream",
          "text": [
            "A tensor of 10 zeros:\n",
            "tensor([0., 0., 0., 0., 0., 0., 0., 0., 0., 0.])\n",
            "\n",
            "A tensor of 10 ones:\n",
            "tensor([1., 1., 1., 1., 1., 1., 1., 1., 1., 1.])\n",
            "\n",
            "A tensor of 10 fives:\n",
            "tensor([5, 5, 5, 5, 5, 5, 5, 5, 5, 5])\n"
          ]
        }
      ],
      "source": [
        "### start your implementation here ###\n",
        "\n",
        "### end your implementation here ###\n",
        "print(\"A tensor of 10 zeros:\")\n",
        "print(x)\n",
        "\n",
        "### start your implementation here ###\n",
        "### end your implementation here ###\n",
        "print(\"\\nA tensor of 10 ones:\")\n",
        "print(x)\n",
        "\n",
        "### start your implementation here ###\n",
        "### end your implementation here ###\n",
        "print(\"\\nA tensor of 10 fives:\")\n",
        "print(x)"
      ]
    },
    {
      "cell_type": "markdown",
      "id": "17cba006",
      "metadata": {
        "id": "17cba006"
      },
      "source": [
        "2. Write a program to create a tensor of the integers from 30 to 70."
      ]
    },
    {
      "cell_type": "code",
      "execution_count": 12,
      "id": "5d80e4aa",
      "metadata": {
        "id": "5d80e4aa",
        "outputId": "12f5b4fe-1ca5-497f-e8f0-c509c0238769"
      },
      "outputs": [
        {
          "name": "stdout",
          "output_type": "stream",
          "text": [
            "Tensor of the integers from 30 to 70\n",
            "tensor([30, 31, 32, 33, 34, 35, 36, 37, 38, 39, 40, 41, 42, 43, 44, 45, 46, 47,\n",
            "        48, 49, 50, 51, 52, 53, 54, 55, 56, 57, 58, 59, 60, 61, 62, 63, 64, 65,\n",
            "        66, 67, 68, 69, 70])\n"
          ]
        }
      ],
      "source": [
        "### start your implementation here ###\n",
        "\n",
        "### end your implementation here ###\n",
        "print(\"Tensor of the integers from 30 to 70\")\n",
        "print(x)"
      ]
    },
    {
      "cell_type": "markdown",
      "id": "622071b8",
      "metadata": {
        "id": "622071b8"
      },
      "source": [
        "3. Write a program to create a 3x3 identity matrix."
      ]
    },
    {
      "cell_type": "code",
      "execution_count": 14,
      "id": "1314236d",
      "metadata": {
        "id": "1314236d",
        "outputId": "324aacbf-7639-45bd-acc4-93b79dd8f54a"
      },
      "outputs": [
        {
          "name": "stdout",
          "output_type": "stream",
          "text": [
            "3x3 matrix:\n",
            "tensor([[1., 0., 0.],\n",
            "        [0., 1., 0.],\n",
            "        [0., 0., 1.]])\n"
          ]
        }
      ],
      "source": [
        "### start your implementation here ###\n",
        "\n",
        "### end your implementation here ###\n",
        "print('3x3 matrix:')\n",
        "print(x)"
      ]
    },
    {
      "cell_type": "markdown",
      "id": "5acc3dd6",
      "metadata": {
        "id": "5acc3dd6"
      },
      "source": [
        "4. Write a program to create a 10x10 matrix, in which the elements on the borders will be equal to 1, and inside 0."
      ]
    },
    {
      "cell_type": "code",
      "execution_count": 35,
      "id": "fa9d9f8c",
      "metadata": {
        "id": "fa9d9f8c",
        "outputId": "d51f1599-4774-48f0-b385-444944ab3a23"
      },
      "outputs": [
        {
          "name": "stdout",
          "output_type": "stream",
          "text": [
            "tensor([[1., 1., 1., 1., 1., 1., 1., 1., 1., 1.],\n",
            "        [1., 0., 0., 0., 0., 0., 0., 0., 0., 1.],\n",
            "        [1., 0., 0., 0., 0., 0., 0., 0., 0., 1.],\n",
            "        [1., 0., 0., 0., 0., 0., 0., 0., 0., 1.],\n",
            "        [1., 0., 0., 0., 0., 0., 0., 0., 0., 1.],\n",
            "        [1., 0., 0., 0., 0., 0., 0., 0., 0., 1.],\n",
            "        [1., 0., 0., 0., 0., 0., 0., 0., 0., 1.],\n",
            "        [1., 0., 0., 0., 0., 0., 0., 0., 0., 1.],\n",
            "        [1., 0., 0., 0., 0., 0., 0., 0., 0., 1.],\n",
            "        [1., 1., 1., 1., 1., 1., 1., 1., 1., 1.]])\n"
          ]
        }
      ],
      "source": [
        "### start your implementation here ###\n",
        "\n",
        "### end your implementation here ###\n",
        "print(x)"
      ]
    },
    {
      "cell_type": "markdown",
      "id": "de72278f",
      "metadata": {
        "id": "de72278f"
      },
      "source": [
        "5. Write a program to create a 4x4 matrix in which 0 and 1 are staggered, with zeros on the main diagonal."
      ]
    },
    {
      "cell_type": "code",
      "execution_count": 32,
      "id": "13a4e090",
      "metadata": {
        "id": "13a4e090",
        "outputId": "0b9ee336-a22e-4f8d-d46f-0dd1dce83158"
      },
      "outputs": [
        {
          "name": "stdout",
          "output_type": "stream",
          "text": [
            "tensor([[0., 1., 0., 1.],\n",
            "        [1., 0., 1., 0.],\n",
            "        [0., 1., 0., 1.],\n",
            "        [1., 0., 1., 0.]])\n"
          ]
        }
      ],
      "source": [
        "### start your implementation here ###\n",
        "\n",
        "### end your implementation here ###\n",
        "print(x)"
      ]
    },
    {
      "cell_type": "markdown",
      "id": "0656481f",
      "metadata": {
        "id": "0656481f"
      },
      "source": [
        "6. Write a program to create a 4x4 with ascending values from 0~15, now create a new x from the said x swapping first and last rows."
      ]
    },
    {
      "cell_type": "code",
      "execution_count": 36,
      "id": "e3ff17c9",
      "metadata": {
        "id": "e3ff17c9",
        "outputId": "d9f08a17-626d-46e2-8c53-2b562f7dbe7b"
      },
      "outputs": [
        {
          "name": "stdout",
          "output_type": "stream",
          "text": [
            "Original x:\n",
            "tensor([[ 0,  1,  2,  3],\n",
            "        [ 4,  5,  6,  7],\n",
            "        [ 8,  9, 10, 11],\n",
            "        [12, 13, 14, 15]])\n",
            "\n",
            "New x after swapping first and last rows of the said x:\n",
            "tensor([[12, 13, 14, 15],\n",
            "        [ 4,  5,  6,  7],\n",
            "        [ 8,  9, 10, 11],\n",
            "        [ 0,  1,  2,  3]])\n"
          ]
        }
      ],
      "source": [
        "x = torch.arange(16).reshape(-1, 4)\n",
        "print(\"Original x:\")\n",
        "print(x)\n",
        "print(\"\\nNew x after swapping first and last rows of the said x:\")\n",
        "### start your implementation here ###\n",
        "\n",
        "### end your implementation here ###\n",
        "print(x)"
      ]
    },
    {
      "cell_type": "markdown",
      "id": "a74cfc12",
      "metadata": {
        "id": "a74cfc12"
      },
      "source": [
        "7. Write a program to Create a 1-D x of 30 evenly spaced elements between 2.5. and 6.5, inclusive."
      ]
    },
    {
      "cell_type": "code",
      "execution_count": 37,
      "id": "bb70829f",
      "metadata": {
        "id": "bb70829f",
        "outputId": "3075ed08-08e4-4a00-9bf9-92983ae14035"
      },
      "outputs": [
        {
          "name": "stdout",
          "output_type": "stream",
          "text": [
            "tensor([2.5000, 2.6379, 2.7759, 2.9138, 3.0517, 3.1897, 3.3276, 3.4655, 3.6034,\n",
            "        3.7414, 3.8793, 4.0172, 4.1552, 4.2931, 4.4310, 4.5690, 4.7069, 4.8448,\n",
            "        4.9828, 5.1207, 5.2586, 5.3966, 5.5345, 5.6724, 5.8103, 5.9483, 6.0862,\n",
            "        6.2241, 6.3621, 6.5000])\n"
          ]
        }
      ],
      "source": [
        "x = None\n",
        "\n",
        "### start your implementation here ###\n",
        "\n",
        "### end your implementation here ###\n",
        "print(x)"
      ]
    },
    {
      "cell_type": "markdown",
      "id": "7fb69d88",
      "metadata": {
        "id": "7fb69d88"
      },
      "source": [
        "8. Write a program to replace all elements of x that are greater than 0.5 to be 0.5."
      ]
    },
    {
      "cell_type": "code",
      "execution_count": 38,
      "id": "6affc4e0",
      "metadata": {
        "id": "6affc4e0",
        "outputId": "78a13f36-adda-4972-c10b-dc0b3a1914ee"
      },
      "outputs": [
        {
          "name": "stdout",
          "output_type": "stream",
          "text": [
            "Original x:\n",
            "tensor([[0.4244, 0.4856, 0.3292],\n",
            "        [0.7440, 0.5822, 0.3821],\n",
            "        [0.5098, 0.3453, 0.1563]])\n",
            "Replace all elements of the said x with .5 which are greater than .5\n",
            "tensor([[0.4244, 0.4856, 0.3292],\n",
            "        [0.5000, 0.5000, 0.3821],\n",
            "        [0.5000, 0.3453, 0.1563]])\n"
          ]
        }
      ],
      "source": [
        "x = torch.tensor([[ 0.42436315, 0.48558583, 0.32924763], [ 0.7439979,0.58220701,0.38213418], [ 0.5097581,0.34528799,0.1563123 ]])\n",
        "print(\"Original x:\")\n",
        "print(x)\n",
        "print(\"Replace all elements of the said x with .5 which are greater than .5\")\n",
        "### start your implementation here ###\n",
        "\n",
        "### end your implementation here ###\n",
        "print(x)"
      ]
    },
    {
      "cell_type": "markdown",
      "id": "85b34c63",
      "metadata": {
        "id": "85b34c63"
      },
      "source": [
        "9. Write a program to stack xs in sequence horizontally (column wise)."
      ]
    },
    {
      "cell_type": "code",
      "execution_count": 42,
      "id": "3b02acbb",
      "metadata": {
        "id": "3b02acbb",
        "outputId": "a7773642-a89b-40b5-c279-3d5b36a3d7d3"
      },
      "outputs": [
        {
          "name": "stdout",
          "output_type": "stream",
          "text": [
            "\n",
            "Original xs:\n",
            "x-1\n",
            "tensor([[0, 1, 2],\n",
            "        [3, 4, 5],\n",
            "        [6, 7, 8]])\n",
            "x-2\n",
            "tensor([[ 0,  3,  6],\n",
            "        [ 9, 12, 15],\n",
            "        [18, 21, 24]])\n",
            "\n",
            "Stack xs in sequence horizontally:\n",
            "tensor([[ 0,  1,  2,  0,  3,  6],\n",
            "        [ 3,  4,  5,  9, 12, 15],\n",
            "        [ 6,  7,  8, 18, 21, 24]])\n"
          ]
        }
      ],
      "source": [
        "print(\"\\nOriginal xs:\")\n",
        "x = torch.arange(9).reshape(3,3)\n",
        "y = x*3\n",
        "print(\"x-1\")\n",
        "print(x)\n",
        "print(\"x-2\")\n",
        "print(y)\n",
        "\n",
        "new_x = None\n",
        "### start your implementation here ###\n",
        "\n",
        "### end your implementation here ###\n",
        "print(\"\\nStack xs in sequence horizontally:\")\n",
        "print(new_x)"
      ]
    },
    {
      "cell_type": "markdown",
      "id": "61fd9378",
      "metadata": {},
      "source": [
        "10. Write a program to stack arrays in sequence vertically."
      ]
    },
    {
      "cell_type": "code",
      "execution_count": 46,
      "id": "f83be1b6",
      "metadata": {
        "id": "f83be1b6",
        "outputId": "a19cd39c-38e1-4453-f159-cd6afe270d82"
      },
      "outputs": [
        {
          "name": "stdout",
          "output_type": "stream",
          "text": [
            "\n",
            "Original arrays:\n",
            "Array-1\n",
            "tensor([[0, 1, 2],\n",
            "        [3, 4, 5],\n",
            "        [6, 7, 8]])\n",
            "Array-2\n",
            "tensor([[ 0,  3,  6],\n",
            "        [ 9, 12, 15],\n",
            "        [18, 21, 24]])\n",
            "\n",
            "Stack arrays in sequence vertically:\n",
            "tensor([[ 0,  1,  2],\n",
            "        [ 3,  4,  5],\n",
            "        [ 6,  7,  8],\n",
            "        [ 0,  3,  6],\n",
            "        [ 9, 12, 15],\n",
            "        [18, 21, 24]])\n"
          ]
        }
      ],
      "source": [
        "print(\"\\nOriginal arrays:\")\n",
        "x = torch.arange(9).reshape(3,3)\n",
        "y = x*3\n",
        "print(\"Array-1\")\n",
        "print(x)\n",
        "print(\"Array-2\")\n",
        "print(y)\n",
        "\n",
        "### start your implementation here ###\n",
        "\n",
        "### end your implementation here ###\n",
        "print(\"\\nStack arrays in sequence vertically:\")\n",
        "print(new_x)"
      ]
    },
    {
      "cell_type": "markdown",
      "id": "16a9f806",
      "metadata": {
        "id": "16a9f806"
      },
      "source": [
        "11. Write a program to extract first, third and fifth elements of the third and fifth rows from a given (6x6) x."
      ]
    },
    {
      "cell_type": "code",
      "execution_count": 50,
      "id": "43637ecd",
      "metadata": {
        "id": "43637ecd",
        "outputId": "7b8780d8-2bfc-431a-f0c9-192d2fa45e13"
      },
      "outputs": [
        {
          "name": "stdout",
          "output_type": "stream",
          "text": [
            "Original x:\n",
            "tensor([[ 0,  1,  2,  3,  4,  5],\n",
            "        [ 6,  7,  8,  9, 10, 11],\n",
            "        [12, 13, 14, 15, 16, 17],\n",
            "        [18, 19, 20, 21, 22, 23],\n",
            "        [24, 25, 26, 27, 28, 29],\n",
            "        [30, 31, 32, 33, 34, 35]])\n",
            "\n",
            "Extracted data: First, third and fifth elements of the third and fifth rows\n",
            "tensor([[12, 14, 16],\n",
            "        [24, 26, 28]])\n"
          ]
        }
      ],
      "source": [
        "x = torch.arange(0,36).reshape((6, 6))\n",
        "print(\"Original x:\")\n",
        "print(x)\n",
        "print(\"\\nExtracted data: First, third and fifth elements of the third and fifth rows\")\n",
        "\n",
        "### start your implementation here ###\n",
        "\n",
        "### end your implementation here ###"
      ]
    },
    {
      "cell_type": "markdown",
      "id": "985d568f",
      "metadata": {
        "id": "985d568f"
      },
      "source": [
        "12. Write a program to check whether a x contains a specified row."
      ]
    },
    {
      "cell_type": "code",
      "execution_count": 54,
      "id": "5ac2aed9",
      "metadata": {
        "id": "5ac2aed9",
        "outputId": "885d962e-7233-46b8-bcef-84ff20de356e"
      },
      "outputs": [
        {
          "name": "stdout",
          "output_type": "stream",
          "text": [
            "Original x:\n",
            "tensor([[ 0,  1,  2,  3,  4],\n",
            "        [ 5,  6,  7,  8,  9],\n",
            "        [10, 11, 12, 13, 14],\n",
            "        [15, 16, 17, 18, 19]])\n",
            "tensor(True)\n",
            "tensor(False)\n",
            "tensor(True)\n"
          ]
        }
      ],
      "source": [
        "x = torch.arange(20).reshape(4,5)\n",
        "print(\"Original x:\")\n",
        "print(x)\n",
        "### start your implementation here ###\n",
        " #check if [0, 1, 2, 3, 4] is in arr1\n",
        " #check if [0, 1, 2, 3, 5] is in arr1\n",
        " #check if [15, 16, 17, 18, 19] is in arr1\n",
        "### end your implementation here ###"
      ]
    },
    {
      "cell_type": "markdown",
      "id": "83c65a54",
      "metadata": {
        "id": "83c65a54"
      },
      "source": [
        "13. Write a program to compute the multiplication of two given matrixes."
      ]
    },
    {
      "cell_type": "code",
      "execution_count": 58,
      "id": "38ee1d7d",
      "metadata": {
        "id": "38ee1d7d",
        "outputId": "3e4555bb-3e17-452f-d87a-3fef78d745f6"
      },
      "outputs": [
        {
          "name": "stdout",
          "output_type": "stream",
          "text": [
            "original matrix:\n",
            "tensor([[1, 0],\n",
            "        [0, 1]])\n",
            "tensor([[1, 2],\n",
            "        [3, 4]])\n",
            "\n",
            "Result of the said matrix multiplication:\n",
            "tensor([[1, 2],\n",
            "        [3, 4]])\n"
          ]
        }
      ],
      "source": [
        "p = torch.tensor([[1, 0], [0, 1]])\n",
        "q = torch.tensor([[1, 2], [3, 4]])\n",
        "print(\"original matrix:\")\n",
        "print(p)\n",
        "print(q)\n",
        "\n",
        "### start your implementation here ###\n",
        "\n",
        "### end your implementation here ###\n",
        "print(\"\\nResult of the said matrix multiplication:\")\n",
        "print(result)"
      ]
    },
    {
      "cell_type": "markdown",
      "id": "81b06285",
      "metadata": {
        "id": "81b06285"
      },
      "source": [
        "14. Write a program to compute the outer product of two given vectors."
      ]
    },
    {
      "cell_type": "code",
      "execution_count": 60,
      "id": "54a66486",
      "metadata": {
        "id": "54a66486",
        "outputId": "1e22ee3b-6091-4c90-82f1-acc6aed50de0"
      },
      "outputs": [
        {
          "name": "stdout",
          "output_type": "stream",
          "text": [
            "original matrix:\n",
            "tensor([1, 0, 0, 1])\n",
            "tensor([1, 2, 3, 4])\n",
            "\n",
            "Outer product of the said two vectors:\n",
            "tensor([[1, 2, 3, 4],\n",
            "        [0, 0, 0, 0],\n",
            "        [0, 0, 0, 0],\n",
            "        [1, 2, 3, 4]])\n"
          ]
        }
      ],
      "source": [
        "p = torch.tensor([1, 0, 0, 1])\n",
        "q = torch.tensor([1, 2, 3, 4])\n",
        "print(\"original matrix:\")\n",
        "print(p)\n",
        "print(q)\n",
        "\n",
        "### start your implementation here ###\n",
        "\n",
        "### end your implementation here ###\n",
        "print(\"\\nOuter product of the said two vectors:\")\n",
        "print(result)"
      ]
    },
    {
      "cell_type": "markdown",
      "id": "0c423400",
      "metadata": {
        "id": "0c423400"
      },
      "source": [
        "15. Write a program to create a 5x5 x with random values and find the minimum and maximum values."
      ]
    },
    {
      "cell_type": "code",
      "execution_count": 64,
      "id": "363b045d",
      "metadata": {
        "id": "363b045d",
        "outputId": "0b79a347-4850-483d-bd2a-b0a8d988ceaa"
      },
      "outputs": [
        {
          "name": "stdout",
          "output_type": "stream",
          "text": [
            "Original x:\n",
            "tensor([[0.2961, 0.5166, 0.2517, 0.6886, 0.0740],\n",
            "        [0.8665, 0.1366, 0.1025, 0.1841, 0.7264],\n",
            "        [0.3153, 0.6871, 0.0756, 0.1966, 0.3164],\n",
            "        [0.4017, 0.1186, 0.8274, 0.3821, 0.6605],\n",
            "        [0.8536, 0.5932, 0.6367, 0.9826, 0.2745]])\n",
            "\n",
            "Minimum and Maximum Values:\n",
            "tensor(0.0740) tensor(0.9826)\n"
          ]
        }
      ],
      "source": [
        "torch.manual_seed(123)\n",
        "x = torch.rand(5,5)\n",
        "print(\"Original x:\")\n",
        "print(x)\n",
        "\n",
        "### start your implementation here ###\n",
        "\n",
        "### end your implementation here ###\n",
        "print(\"\\nMinimum and Maximum Values:\")\n",
        "print(xmin, xmax)"
      ]
    },
    {
      "cell_type": "markdown",
      "id": "46127858",
      "metadata": {
        "id": "46127858"
      },
      "source": [
        "16. Write a program to normalize a 3x3 random matrix following `x = (x - min)/(max - min)`."
      ]
    },
    {
      "cell_type": "code",
      "execution_count": 65,
      "id": "a34e573c",
      "metadata": {
        "id": "a34e573c",
        "outputId": "1df55be9-7538-41de-a988-dc57aed9c515"
      },
      "outputs": [
        {
          "name": "stdout",
          "output_type": "stream",
          "text": [
            "Original x:\n",
            "tensor([[0.2961, 0.5166, 0.2517],\n",
            "        [0.6886, 0.0740, 0.8665],\n",
            "        [0.1366, 0.1025, 0.1841]])\n",
            "\n",
            "After normalization:\n",
            "tensor([[0.2803, 0.5584, 0.2242],\n",
            "        [0.7755, 0.0000, 1.0000],\n",
            "        [0.0790, 0.0360, 0.1389]])\n"
          ]
        }
      ],
      "source": [
        "torch.manual_seed(123)\n",
        "x = torch.rand(3,3)\n",
        "print(\"Original x:\")\n",
        "print(x)\n",
        "### start your implementation here ###\n",
        "\n",
        "### end your implementation here ###\n",
        "print(\"\\nAfter normalization:\")\n",
        "print(x)"
      ]
    },
    {
      "cell_type": "markdown",
      "id": "8ff78a8f",
      "metadata": {
        "id": "8ff78a8f"
      },
      "source": [
        "17. Write a program to find the nearest value from a given value(0.5) in an x."
      ]
    },
    {
      "cell_type": "code",
      "execution_count": 69,
      "id": "c95859d5",
      "metadata": {
        "id": "c95859d5",
        "outputId": "b280c9c3-2f63-49ba-aa4b-b60f1c9f0582"
      },
      "outputs": [
        {
          "name": "stdout",
          "output_type": "stream",
          "text": [
            "tensor(0.5166)\n"
          ]
        }
      ],
      "source": [
        "torch.manual_seed(123)\n",
        "x = torch.rand(10)\n",
        "v = 0.5\n",
        "n = None\n",
        "### start your implementation here ###\n",
        "\n",
        "### end your implementation here ###\n",
        "print(n)"
      ]
    },
    {
      "cell_type": "markdown",
      "id": "1c175d18",
      "metadata": {
        "id": "1c175d18"
      },
      "source": [
        "18. Write a program to create random vector of size 15 and replace the maximum value by -1."
      ]
    },
    {
      "cell_type": "code",
      "execution_count": 70,
      "id": "d325ec02",
      "metadata": {
        "id": "d325ec02",
        "outputId": "26892a48-6a50-48ba-b582-e90f96a9ff9d"
      },
      "outputs": [
        {
          "name": "stdout",
          "output_type": "stream",
          "text": [
            "Original x:\n",
            "tensor([0.2961, 0.5166, 0.2517, 0.6886, 0.0740, 0.8665, 0.1366, 0.1025, 0.1841,\n",
            "        0.7264, 0.3153, 0.6871, 0.0756, 0.1966, 0.3164])\n",
            "\n",
            "Maximum value replaced by -1:\n",
            "tensor([ 0.2961,  0.5166,  0.2517,  0.6886,  0.0740, -1.0000,  0.1366,  0.1025,\n",
            "         0.1841,  0.7264,  0.3153,  0.6871,  0.0756,  0.1966,  0.3164])\n"
          ]
        }
      ],
      "source": [
        "torch.manual_seed(123)\n",
        "x = torch.rand(15)\n",
        "print(\"Original x:\")\n",
        "print(x)\n",
        "\n",
        "### start your implementation here ###\n",
        "\n",
        "### end your implementation here ###\n",
        "print(\"\\nMaximum value replaced by -1:\")\n",
        "print(x)"
      ]
    },
    {
      "cell_type": "markdown",
      "id": "76b6dbf6",
      "metadata": {
        "id": "76b6dbf6"
      },
      "source": [
        "19. Write a program to get the n largest values of an x."
      ]
    },
    {
      "cell_type": "code",
      "execution_count": 73,
      "id": "f84b0434",
      "metadata": {
        "id": "f84b0434",
        "outputId": "b723e9d8-a7b0-41a6-81a6-b575685f35f8"
      },
      "outputs": [
        {
          "name": "stdout",
          "output_type": "stream",
          "text": [
            "Original x:\n",
            "tensor([0.2961, 0.5166, 0.2517, 0.6886, 0.0740, 0.8665, 0.1366, 0.1025, 0.1841,\n",
            "        0.7264])\n",
            "\n",
            "3-largest values:  tensor([0.8665, 0.7264, 0.6886])\n"
          ]
        }
      ],
      "source": [
        "torch.manual_seed(123)\n",
        "x = torch.rand(10)\n",
        "print(\"Original x:\")\n",
        "print(x)\n",
        "\n",
        "n = 3\n",
        "### start your implementation here ###\n",
        "\n",
        "### end your implementation here ###\n",
        "print (f\"\\n{n}-largest values: \", result)"
      ]
    },
    {
      "cell_type": "markdown",
      "id": "093e9e6c",
      "metadata": {
        "id": "093e9e6c"
      },
      "source": [
        "20. Write a program to get the floor, ceiling and truncated values of the elements of x."
      ]
    },
    {
      "cell_type": "code",
      "execution_count": 74,
      "id": "88c423da",
      "metadata": {
        "id": "88c423da",
        "outputId": "2a727e53-b5b8-40f9-975b-65fd027db41b"
      },
      "outputs": [
        {
          "name": "stdout",
          "output_type": "stream",
          "text": [
            "Original x:\n",
            "\n",
            "Floor values of the above x elements:\n",
            "tensor([-2., -2., -1.,  0.,  1.,  1.,  2.])\n",
            "\n",
            "Ceil values of the above x elements:\n",
            "tensor([-1., -1., -0.,  1.,  2.,  2.,  2.])\n",
            "\n",
            "Truncated values of the above x elements:\n",
            "tensor([-1., -1., -0.,  0.,  1.,  1.,  2.])\n"
          ]
        }
      ],
      "source": [
        "x = torch.tensor([-1.6, -1.5, -0.3, 0.1, 1.4, 1.8, 2.0])\n",
        "print(\"Original x:\")\n",
        "\n",
        "print(\"\\nFloor values of the above x elements:\")\n",
        "### start your implementation here ###\n",
        "\n",
        "### end your implementation here ###\n",
        "\n",
        "print(\"\\nCeil values of the above x elements:\")\n",
        "### start your implementation here ###\n",
        "\n",
        "### end your implementation here ###\n",
        "\n",
        "print(\"\\nTruncated values of the above x elements:\")\n",
        "### start your implementation here ###\n",
        "\n",
        "### end your implementation here ###"
      ]
    },
    {
      "cell_type": "markdown",
      "id": "746d270d",
      "metadata": {
        "id": "746d270d"
      },
      "source": [
        "21. Write a program to calculate the probabilities given the unnormalized logits (Refer to Deep Learning - Part I - Softmax Loss)."
      ]
    },
    {
      "cell_type": "code",
      "execution_count": 76,
      "id": "f4cdfb5d",
      "metadata": {
        "id": "f4cdfb5d",
        "outputId": "2164ee2a-9029-4d4a-cd03-b8c59fad4abc"
      },
      "outputs": [
        {
          "name": "stdout",
          "output_type": "stream",
          "text": [
            "tensor([0.0880, 0.1097, 0.0842, 0.1303, 0.0705, 0.1557, 0.0750, 0.0725, 0.0787,\n",
            "        0.1353])\n",
            "tensor(1.)\n"
          ]
        }
      ],
      "source": [
        "torch.manual_seed(123)\n",
        "num_classes = 10\n",
        "logits = torch.rand(num_classes)\n",
        "\n",
        "### start your implementation here ###\n",
        "\n",
        "### end your implementation here ###\n",
        "\n",
        "print(prob)\n",
        "print(prob.sum()) # check if prob is summed up to 1."
      ]
    },
    {
      "cell_type": "markdown",
      "id": "c2f1606f",
      "metadata": {
        "id": "c2f1606f"
      },
      "source": [
        "22. Write a program to calculate the probabilities given the unnormalized logits. Here, the x of logits is of 2 dimensions: `(num_samples x num_classes)`. Figure out the probabilities for each sample."
      ]
    },
    {
      "cell_type": "code",
      "execution_count": 77,
      "id": "990301bc",
      "metadata": {
        "id": "990301bc",
        "outputId": "5f51ccb4-9f29-41de-b5da-b9d550f5f662"
      },
      "outputs": [
        {
          "name": "stdout",
          "output_type": "stream",
          "text": [
            "tensor([[0.0880, 0.1097, 0.0842, 0.1303, 0.0705, 0.1557, 0.0750, 0.0725, 0.0787,\n",
            "         0.1353],\n",
            "        [0.0894, 0.1296, 0.0703, 0.0794, 0.0895, 0.0974, 0.0734, 0.1492, 0.0956,\n",
            "         0.1262],\n",
            "        [0.1227, 0.0945, 0.0988, 0.1396, 0.0687, 0.1009, 0.0690, 0.1231, 0.1284,\n",
            "         0.0543],\n",
            "        [0.1395, 0.1156, 0.1132, 0.1119, 0.1380, 0.0852, 0.0596, 0.0789, 0.0640,\n",
            "         0.0941]])\n",
            "tensor([1.0000, 1.0000, 1.0000, 1.0000])\n"
          ]
        }
      ],
      "source": [
        "torch.manual_seed(123)\n",
        "\n",
        "num_samples = 4\n",
        "num_classes = 10\n",
        "\n",
        "logits = torch.rand(num_samples, num_classes)\n",
        "### start your implementation here ###\n",
        "\n",
        "### end your implementation here ###\n",
        "print(prob)\n",
        "print(prob.sum(1)) # check: for each sample, prob is summed up to 1."
      ]
    },
    {
      "cell_type": "markdown",
      "id": "d7f01421",
      "metadata": {
        "id": "d7f01421"
      },
      "source": [
        "23. Write a program to calculate the Softmax Loss given the unnormalized logits and the ground-truth labels of the samples. Here, the shape of logits is: `(num_samples x num_classes)` and the shape of GT labels is `(num_samples,)`, each of which is the corresponding label for that sample. Figure out the total Softmax Loss."
      ]
    },
    {
      "cell_type": "code",
      "execution_count": 78,
      "id": "dfda0683",
      "metadata": {
        "id": "dfda0683",
        "outputId": "688e6420-2bb7-4fd8-c6b0-4f34738bb3d5"
      },
      "outputs": [
        {
          "name": "stdout",
          "output_type": "stream",
          "text": [
            "tensor(2.4774)\n"
          ]
        }
      ],
      "source": [
        "torch.manual_seed(123)\n",
        "\n",
        "n_samples = 4\n",
        "n_classes = 10\n",
        "\n",
        "logits = torch.rand(n_samples, n_classes)\n",
        "labels = torch.randint(0, 10, size=(n_samples,))\n",
        "\n",
        "### start your implementation here ###\n",
        "\n",
        "### end your implementation here ###\n",
        "\n",
        "print(loss)"
      ]
    },
    {
      "cell_type": "markdown",
      "id": "2b666655",
      "metadata": {
        "id": "2b666655"
      },
      "source": [
        "24. Write a program to calculate the accuracy for classification. Given the output logits of the model (`num_samples x num_classes`) and the ground-truth labels of corresponding samples (`num_samples`,), calculate the accuracy of the classification result."
      ]
    },
    {
      "cell_type": "code",
      "execution_count": 81,
      "id": "1ceb97d2",
      "metadata": {
        "id": "1ceb97d2",
        "outputId": "13d24d14-db71-45a9-b320-cc8e2fd5d851"
      },
      "outputs": [
        {
          "name": "stdout",
          "output_type": "stream",
          "text": [
            "tensor(0.0300)\n"
          ]
        }
      ],
      "source": [
        "torch.manual_seed(123)\n",
        "\n",
        "n_samples = 100\n",
        "n_classes = 20\n",
        "\n",
        "logits = torch.rand(n_samples, n_classes)\n",
        "labels = torch.randint(0, n_classes, (n_samples,))\n",
        "\n",
        "### start your implementation here ###\n",
        "\n",
        "### end your implementation here ###\n",
        "\n",
        "print(acc)"
      ]
    },
    {
      "cell_type": "markdown",
      "id": "3dcfa3f7",
      "metadata": {
        "id": "3dcfa3f7"
      },
      "source": [
        "25. Write a program to calculate the precision, recall and f1-score for a binary-classification problem:\n",
        "\n",
        "(1). Given the output of a model (`num_samples`,), calculate the probability of being class-1 by implementing a sigmoid function, i.e., $p(x=1)=sigmoid(output)$.\n",
        "\n",
        "(2). Suppose we use a threshold $\\tau=0.5$, and if $p(x)>\\tau$, the model will predict the corresponding sample as class-1, else class-0.\n",
        "\n",
        "(3). Compare the model predictions with the given ground-truth labels (`num_samples`,), and calculate the precision, recall of class-1."
      ]
    },
    {
      "cell_type": "code",
      "execution_count": 93,
      "id": "3ee491c2",
      "metadata": {
        "id": "3ee491c2",
        "outputId": "b592c4d1-8189-4319-d006-033776fc0c52"
      },
      "outputs": [
        {
          "name": "stdout",
          "output_type": "stream",
          "text": [
            "recall of class-1: 0.35555556416511536, precision of class-1:0.35555556416511536.\n"
          ]
        }
      ],
      "source": [
        "torch.manual_seed(123)\n",
        "n_samples = 100\n",
        "thres = 0.5\n",
        "r = 0.7\n",
        "\n",
        "labels = torch.randint(0,1+1, size=(n_samples,))\n",
        "outp = torch.randn((n_samples,))\n",
        "\n",
        "# sigmoid function\n",
        "def sigmoid(x):\n",
        "    ### start your implementation here ###\n",
        "\n",
        "    ### end your implementation here ###\n",
        "    \n",
        "p = sigmoid(outp)\n",
        "### start your implementation here ###\n",
        "# ...\n",
        "pred = p > thres\n",
        "### end your implementation here ###\n",
        "\n",
        "# TP of class-1\n",
        "### start your implementation here ###\n",
        "# tp =  # true positive\n",
        "### end your implementation here ###\n",
        "\n",
        "# recall of class-1\n",
        "### your implementation here ###\n",
        "# recall = ...\n",
        "### your implementation here ###\n",
        "\n",
        "# precision of class-1\n",
        "### start your implementation here ###\n",
        "# prec = ...\n",
        "### end your implementation here ###\n",
        "\n",
        "print(f\"recall of class-1: {recall}, precision of class-1:{prec}.\")"
      ]
    }
  ],
  "metadata": {
    "colab": {
      "provenance": []
    },
    "kernelspec": {
      "display_name": "Python 3 (ipykernel)",
      "language": "python",
      "name": "python3"
    },
    "language_info": {
      "codemirror_mode": {
        "name": "ipython",
        "version": 3
      },
      "file_extension": ".py",
      "mimetype": "text/x-python",
      "name": "python",
      "nbconvert_exporter": "python",
      "pygments_lexer": "ipython3",
      "version": "3.11.4"
    },
    "vscode": {
      "interpreter": {
        "hash": "d45edca2f5434c2403be42af79178c45e0e83c032d39fe4a399216f220979472"
      }
    }
  },
  "nbformat": 4,
  "nbformat_minor": 5
}
