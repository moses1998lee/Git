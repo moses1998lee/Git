{
 "cells": [
  {
   "cell_type": "markdown",
   "id": "36d1f3cc-6927-4dd9-959c-e7852273000c",
   "metadata": {},
   "source": [
    "## Question 1\n",
    "\n",
    "1. Refer back to **Question 1.1** of **Exercise 4**. Write the code to get the same result in reverse, i.e. `tylan`.\n",
    "\n",
    "**Solution:**"
   ]
  },
  {
   "cell_type": "code",
   "execution_count": 1,
   "id": "e94c4fdc-2f12-4ebe-add6-05d319dad762",
   "metadata": {},
   "outputs": [
    {
     "name": "stdout",
     "output_type": "stream",
     "text": [
      "tylan\n",
      "tylan\n"
     ]
    }
   ],
   "source": [
    "sentence = \"Business analytics\"\n",
    "print(sentence[10:15][::-1])\n",
    "print(sentence[-8:-3][::-1])"
   ]
  },
  {
   "cell_type": "markdown",
   "id": "3651b52d-d31a-4bcd-a15e-ef3309a73217",
   "metadata": {},
   "source": [
    "**Note 1.1:** The below example does not work (prints an empty `string`) because we are trying to slice *forward* from position 10 to position 15 while taking steps of 1 *backward* (-1). Therefore, there are actually no characters that can be sliced!"
   ]
  },
  {
   "cell_type": "code",
   "execution_count": 82,
   "id": "05cc518a-d2e3-4a2c-b730-00128a998f44",
   "metadata": {},
   "outputs": [
    {
     "name": "stdout",
     "output_type": "stream",
     "text": [
      "\n"
     ]
    }
   ],
   "source": [
    "print(sentence[10:15:-1])"
   ]
  },
  {
   "cell_type": "markdown",
   "id": "b06fff24-e753-42a0-b4ee-acff927819f4",
   "metadata": {},
   "source": [
    "**Note 1.2:** Then, are we able to slice backward and then take steps backwards too? Yes, as you can see below, we achieved the required result."
   ]
  },
  {
   "cell_type": "code",
   "execution_count": 89,
   "id": "5eb2c4cd-a8d2-46d8-bb96-62e77876cb05",
   "metadata": {},
   "outputs": [
    {
     "name": "stdout",
     "output_type": "stream",
     "text": [
      "tylan\n"
     ]
    }
   ],
   "source": [
    "print(sentence[14:9:-1])"
   ]
  },
  {
   "cell_type": "markdown",
   "id": "e228fae3-0a95-4a8a-b069-33937a0693b8",
   "metadata": {},
   "source": [
    "Now, implement **Note 1.2** using negative indexes to verify your understanding.\n",
    "\n",
    "**Solution:**"
   ]
  },
  {
   "cell_type": "code",
   "execution_count": null,
   "id": "7737445f-2a24-4e19-8de1-283e09638e87",
   "metadata": {},
   "outputs": [],
   "source": []
  },
  {
   "cell_type": "markdown",
   "id": "3be5f8b3-e7a0-4257-baa4-74ad498e0184",
   "metadata": {},
   "source": [
    "---"
   ]
  },
  {
   "cell_type": "markdown",
   "id": "2a1966c3-2a44-4b69-8037-616f1117c464",
   "metadata": {},
   "source": [
    "## Question 2\n",
    "\n",
    "1. Refer back to **Question 1.4** of **Exercise 4**. Write the code for the following:\n",
    "\n",
    "For natural numbers from 1 to 30, \n",
    "- if the number is even, ignore it\n",
    "- if the number is odd,\n",
    "  - mulitiply is by 2 if it is divisible by 7\n",
    "  - otherwise keep the same number\n",
    "\n",
    "**Solution:**"
   ]
  },
  {
   "cell_type": "code",
   "execution_count": null,
   "id": "81e8a7d3-c0cb-4d44-94bb-4050a5ec2d37",
   "metadata": {},
   "outputs": [],
   "source": []
  },
  {
   "cell_type": "markdown",
   "id": "5af641b8-82c4-488f-aaee-2ee6b9a818d3",
   "metadata": {},
   "source": [
    "2. Discuss the solution for (1).\n",
    "\n",
    "**Solution:**"
   ]
  },
  {
   "cell_type": "code",
   "execution_count": null,
   "id": "8e34419a-ee27-4287-9ea1-fe888edb6776",
   "metadata": {},
   "outputs": [],
   "source": []
  },
  {
   "cell_type": "markdown",
   "id": "a8880df5-79ec-4a4c-84ca-acd2b32dca6a",
   "metadata": {
    "tags": []
   },
   "source": [
    "3. Refer back to **Question 1.4** of **Exercise 4**. Write the code for the following:\n",
    "\n",
    "For natural numbers from 1 to 35, \n",
    "- if the number is even, ignore it\n",
    "- if the number is odd,\n",
    "  - mulitiply is by 3 if it is divisible by 7 and 5\n",
    "  - otherwise mulitiply is by 2 if it is divisible by 7\n",
    "  - otherwise keep the same number\n",
    "\n",
    "**Solution:**"
   ]
  },
  {
   "cell_type": "code",
   "execution_count": null,
   "id": "e900d648-3c9b-4f31-b6f1-cf684a19bd45",
   "metadata": {},
   "outputs": [],
   "source": []
  },
  {
   "cell_type": "markdown",
   "id": "9b9e9825-4aaa-4301-b7d6-500b681cbc47",
   "metadata": {},
   "source": [
    "---"
   ]
  },
  {
   "cell_type": "markdown",
   "id": "bf9457d0-b763-42c7-b8df-64fd2034a8b6",
   "metadata": {},
   "source": [
    "## Question 3\n",
    "\n",
    "Refer back to **Question 4** of **Exercise 4**. Now, we allow digits in names, and we also want to use the correct articles on digits. Modify your solution for **Question 4** of **Exercise 4** and run your code with the name `Gr8 Kent Ridge 4eva`.\n",
    "\n",
    "**Solution:**"
   ]
  },
  {
   "cell_type": "code",
   "execution_count": null,
   "id": "93c5a2e7-af96-4cc1-b29b-d713bf5217a4",
   "metadata": {},
   "outputs": [],
   "source": []
  },
  {
   "cell_type": "markdown",
   "id": "14801a23-7948-46e9-8ccd-bb96c10d8884",
   "metadata": {},
   "source": [
    "---"
   ]
  },
  {
   "cell_type": "markdown",
   "id": "925307b5-6949-4f0d-92aa-44f8a34b7a4e",
   "metadata": {},
   "source": [
    "## Question 4\n",
    "\n",
    "1. Write code to find out the number of words in the following passage:"
   ]
  },
  {
   "cell_type": "code",
   "execution_count": 3,
   "id": "0b6637a0-45fb-4422-aa6f-b6bc8922136c",
   "metadata": {},
   "outputs": [
    {
     "name": "stdout",
     "output_type": "stream",
     "text": [
      "Today, every student has a computer small enough to fit into his book. He can solve any math problem by simply pushing the computer's little seats.\n"
     ]
    }
   ],
   "source": [
    "passage = \"Today, every student has a computer small enough to \" \\\n",
    "+ \"fit into his book. He can solve any math problem by simply \" \\\n",
    "+ \"pushing the computer's little seats.\"\n",
    "\n",
    "print(passage)"
   ]
  },
  {
   "cell_type": "markdown",
   "id": "55bfa740-ce6b-4fde-8d2b-dccc27ff69f9",
   "metadata": {},
   "source": [
    "**Solution**:"
   ]
  },
  {
   "cell_type": "code",
   "execution_count": null,
   "id": "0c90a58d-f018-4ee4-b8bd-424880db65c1",
   "metadata": {},
   "outputs": [],
   "source": []
  },
  {
   "cell_type": "markdown",
   "id": "dd3e7917-fc0e-41f8-98c3-8baa37135c55",
   "metadata": {},
   "source": [
    "2. Modify your code in (1) to print every word on a new line. You are allowed to print any punctuation together with the word just before it.\n",
    "\n",
    "**Solution**:"
   ]
  },
  {
   "cell_type": "code",
   "execution_count": null,
   "id": "3e3d641f-dd8f-4668-a81d-50ae7906285a",
   "metadata": {},
   "outputs": [],
   "source": []
  },
  {
   "cell_type": "markdown",
   "id": "96933e9e-ee80-462d-820a-2be4e90ba881",
   "metadata": {},
   "source": [
    "3. Modify your code in (2) to print every word on a new line and exclude any punctuation that is not part of the word.\n",
    "\n",
    "**Solution**:"
   ]
  },
  {
   "cell_type": "code",
   "execution_count": null,
   "id": "900d4c43-d980-4d23-aa94-d87b34750c13",
   "metadata": {},
   "outputs": [],
   "source": []
  },
  {
   "cell_type": "markdown",
   "id": "296eb630-64fd-4df8-87e1-41016eefa999",
   "metadata": {},
   "source": [
    "---"
   ]
  },
  {
   "cell_type": "markdown",
   "id": "53305ec1",
   "metadata": {},
   "source": [
    "## Question 5\n",
    "\n",
    "1. The solution of **Question 6** in **Exercise4** is not well designed because:\n",
    "\n",
    "- If the entered value is valid, the user still need to answer all the subsequent questions, before the message \"Incorrect inputs, please key in again.\" is shown. For example, if the input hour number is invalid, the user still needs to enter minutes, seconds, and AM/PM values before going to the next iteration to key in the valid inputs. \n",
    "- If an enter value is invalid, the user needs to answer all questions again, even if the previous entered values are valid. For example, a users enters valid values for hours, minutes, and seconds, but gives invalid AM/PM value. The user needs to answer all questions again, instead of just answering the last question. \n",
    "\n",
    "Rewrite the program for **Question 6** such that \n",
    "\n",
    "- The program tells the user immediately if an input is invalid.\n",
    "- If an input value is invalid, the program keeps a memory of all previous valid inputs, so the user just need to re-enter the current invalid input again.\n",
    "\n",
    "*Hint*: We can use separate `while`-loops for each question to be asked to the user.\n",
    "\n",
    "**Solution**:"
   ]
  },
  {
   "cell_type": "code",
   "execution_count": null,
   "id": "c4acdccf-5f3e-416a-bca0-f9619201b867",
   "metadata": {},
   "outputs": [],
   "source": []
  }
 ],
 "metadata": {
  "kernelspec": {
   "display_name": "python3",
   "language": "python",
   "name": "python3"
  },
  "language_info": {
   "codemirror_mode": {
    "name": "ipython",
    "version": 3
   },
   "file_extension": ".py",
   "mimetype": "text/x-python",
   "name": "python",
   "nbconvert_exporter": "python",
   "pygments_lexer": "ipython3",
   "version": "3.7.11"
  },
  "varInspector": {
   "cols": {
    "lenName": 16,
    "lenType": 16,
    "lenVar": 40
   },
   "kernels_config": {
    "python": {
     "delete_cmd_postfix": "",
     "delete_cmd_prefix": "del ",
     "library": "var_list.py",
     "varRefreshCmd": "print(var_dic_list())"
    },
    "r": {
     "delete_cmd_postfix": ") ",
     "delete_cmd_prefix": "rm(",
     "library": "var_list.r",
     "varRefreshCmd": "cat(var_dic_list()) "
    }
   },
   "types_to_exclude": [
    "module",
    "function",
    "builtin_function_or_method",
    "instance",
    "_Feature"
   ],
   "window_display": false
  }
 },
 "nbformat": 4,
 "nbformat_minor": 5
}
