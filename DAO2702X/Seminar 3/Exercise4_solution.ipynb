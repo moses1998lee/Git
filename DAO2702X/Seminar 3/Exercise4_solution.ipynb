{
 "cells": [
  {
   "cell_type": "markdown",
   "id": "20eefa59",
   "metadata": {},
   "source": [
    "## Question 1\n",
    "\n",
    "1. What is the printed message of the following code segment? (Ans: B)\n",
    "\n",
    "```python\n",
    "####################\n",
    "sentence = \"Business analytics\"\n",
    "print(sentence[-8:-3])\n",
    "####################\n",
    "```\n",
    "\n",
    "    A. analyt\n",
    "    B. nalyt\n",
    "    C. analyti\n",
    "    D. nalyti\n",
    "    \n",
    "**Solution:**"
   ]
  },
  {
   "cell_type": "code",
   "execution_count": 15,
   "id": "e1c355be",
   "metadata": {},
   "outputs": [
    {
     "name": "stdout",
     "output_type": "stream",
     "text": [
      "nalyt\n"
     ]
    }
   ],
   "source": [
    "sentence = \"Business analytics\"\n",
    "print(sentence[-8:-3])"
   ]
  },
  {
   "cell_type": "markdown",
   "id": "6ea2f1a4-08a9-4b10-a1ee-faebd369cace",
   "metadata": {},
   "source": [
    "---"
   ]
  },
  {
   "cell_type": "markdown",
   "id": "beeec046",
   "metadata": {},
   "source": [
    "2. What is the printed message of the following code segment? (Ans: A)\n",
    "\n",
    "```python\n",
    "####################\n",
    "list_1 = [True, \"2.0\", 3.5]\n",
    "list_2 = list_1 * 2\n",
    "list_1.remove(3.5)\n",
    "list_2.remove(\"2.0\")\n",
    "print(list_1 + list_2)\n",
    "####################\n",
    "```\n",
    "\n",
    "    A. [True, '2.0', True, 3.5, True, '2.0', 3.5]\n",
    "    B. [True, True, True]\n",
    "    C. [True, '2.0', True, 3.5, True, 3.5]\n",
    "    D. [True, '2.0', True, True]\n",
    "    \n",
    "**Solution:**"
   ]
  },
  {
   "cell_type": "code",
   "execution_count": 3,
   "id": "ac2e7a19",
   "metadata": {},
   "outputs": [
    {
     "name": "stdout",
     "output_type": "stream",
     "text": [
      "[True, '2.0', True, 3.5, True, '2.0', 3.5]\n"
     ]
    }
   ],
   "source": [
    "list_1 = [True, \"2.0\", 3.5]\n",
    "list_2 = list_1 * 2     # list_2 is [True, \"2.0\", 3.5, True, \"2.0\", 3.5]\n",
    "list_1.remove(3.5)      # list_1 becomes [True, \"2.0\"]\n",
    "list_2.remove(\"2.0\")    # list_2 becomes [True, 3.5, True, \"2.0\", 3.5]\n",
    "print(list_1 + list_2)"
   ]
  },
  {
   "cell_type": "markdown",
   "id": "f0b7d8f1-f337-41fc-a2d6-8b7fe2c8f4c8",
   "metadata": {},
   "source": [
    "---"
   ]
  },
  {
   "cell_type": "markdown",
   "id": "9e5276c5",
   "metadata": {},
   "source": [
    "3. What is the printed message of the code segment below? (Ans: C)\n",
    "\n",
    "```python\n",
    "####################\n",
    "print([(i+1) % 4 for i in range(6)])\n",
    "####################\n",
    "```\n",
    "\n",
    "    A. [0, 1, 2, 3, 0, 1]\n",
    "    B. [1, 2, 3, 4, 1, 2]\n",
    "    C. [1, 2, 3, 0, 1, 2]\n",
    "    D. [0, 1, 2, 3, 4, 5]\n",
    "    \n",
    "**Solution:**"
   ]
  },
  {
   "cell_type": "code",
   "execution_count": 8,
   "id": "fbd1c0ec",
   "metadata": {
    "scrolled": true
   },
   "outputs": [
    {
     "name": "stdout",
     "output_type": "stream",
     "text": [
      "[1, 2, 3, 0, 1, 2]\n"
     ]
    }
   ],
   "source": [
    "print([(i+1) % 4 for i in range(6)])"
   ]
  },
  {
   "cell_type": "markdown",
   "id": "a53941f9-bcd1-45c7-9e51-2d1f3250f7b4",
   "metadata": {},
   "source": [
    "---"
   ]
  },
  {
   "cell_type": "markdown",
   "id": "7406038d",
   "metadata": {},
   "source": [
    "4. Given the code below,\n",
    "\n",
    "```python\n",
    "####################\n",
    "output = []\n",
    "for i in range(10):\n",
    "    if i % 2 == 0:\n",
    "        continue\n",
    "    \n",
    "    output.append(i)\n",
    "####################\n",
    "```\n",
    "\n",
    "and it is equivalent to which of the following code segments? (Ans: B)\n",
    "\n",
    "    A. \n",
    "```python\n",
    "output = [i for i in range(10) if i%2 == 0]\n",
    "```\n",
    "\n",
    "    B.\n",
    "```python\n",
    "output = [i for i in range(10) if i%2 == 1]\n",
    "```\n",
    "\n",
    "    C.\n",
    "```python\n",
    "output = [i if i%2==0 for i in range(10)]\n",
    "```\n",
    "\n",
    "    D.\n",
    "```python\n",
    "output = [if i%2==1 for i in range(10)]\n",
    "```\n",
    "\n",
    "**Solution:**"
   ]
  },
  {
   "cell_type": "code",
   "execution_count": 5,
   "id": "4dc68606",
   "metadata": {},
   "outputs": [
    {
     "name": "stdout",
     "output_type": "stream",
     "text": [
      "[1, 3, 5, 7, 9]\n",
      "[1, 3, 5, 7, 9]\n"
     ]
    }
   ],
   "source": [
    "output = []\n",
    "for i in range(10):\n",
    "    if i % 2 == 0:\n",
    "        continue\n",
    "\n",
    "    output.append(i)\n",
    "print(output)\n",
    "\n",
    "output = [i for i in range(10) if i%2 == 1]\n",
    "print(output)"
   ]
  },
  {
   "cell_type": "markdown",
   "id": "f08e37ec-aeb7-4e3d-9f67-5171d5dfbe0a",
   "metadata": {},
   "source": [
    "Note that the syntaxes for option C and D are wrong."
   ]
  },
  {
   "cell_type": "code",
   "execution_count": 6,
   "id": "f9cc581b-fa95-431c-904f-80497b4e5107",
   "metadata": {},
   "outputs": [
    {
     "ename": "SyntaxError",
     "evalue": "invalid syntax (<ipython-input-6-67f1f52ac714>, line 1)",
     "output_type": "error",
     "traceback": [
      "\u001b[0;36m  Input \u001b[0;32mIn [6]\u001b[0;36m\u001b[0m\n\u001b[0;31m    [i if i%2==0 for i in range(10)]\u001b[0m\n\u001b[0m                 ^\u001b[0m\n\u001b[0;31mSyntaxError\u001b[0m\u001b[0;31m:\u001b[0m invalid syntax\n"
     ]
    }
   ],
   "source": [
    "[i if i%2==0 for i in range(10)]"
   ]
  },
  {
   "cell_type": "markdown",
   "id": "3bd5e076-763b-456e-896f-3457aff01201",
   "metadata": {},
   "source": [
    "---"
   ]
  },
  {
   "cell_type": "markdown",
   "id": "93bc79f9",
   "metadata": {},
   "source": [
    "## Question 2\n",
    "\n",
    "Create a list of integers that satisfy all conditions below:\n",
    "1. The values are between 1 and 100.\n",
    "2. They are divisible by seven.\n",
    "3. They are not divisible by five.\n",
    "\n",
    "**Solution**:"
   ]
  },
  {
   "cell_type": "code",
   "execution_count": 1,
   "id": "01e85c06",
   "metadata": {},
   "outputs": [
    {
     "name": "stdout",
     "output_type": "stream",
     "text": [
      "[7, 14, 21, 28, 42, 49, 56, 63, 77, 84, 91, 98]\n"
     ]
    }
   ],
   "source": [
    "integers = []\n",
    "for i in range(1, 101):\n",
    "    if i%7 == 0 and i%5 > 0:\n",
    "        integers.append(i)\n",
    "\n",
    "print(integers)"
   ]
  },
  {
   "cell_type": "code",
   "execution_count": 18,
   "id": "6ac8bca6",
   "metadata": {},
   "outputs": [
    {
     "name": "stdout",
     "output_type": "stream",
     "text": [
      "[7, 14, 21, 28, 42, 49, 56, 63, 77, 84, 91, 98]\n"
     ]
    }
   ],
   "source": [
    "integers = [i for i in range(1, 101) if i%7 == 0 and i%5 > 0]\n",
    "\n",
    "print(integers)"
   ]
  },
  {
   "cell_type": "code",
   "execution_count": 19,
   "id": "6e19e966",
   "metadata": {
    "scrolled": true
   },
   "outputs": [
    {
     "name": "stdout",
     "output_type": "stream",
     "text": [
      "[7, 14, 21, 28, 42, 49, 56, 63, 77, 84, 91, 98]\n"
     ]
    }
   ],
   "source": [
    "integers = []\n",
    "for i in range(1, 100//7 + 1):\n",
    "    if i%5 > 0:\n",
    "        integers.append(7*i)\n",
    "\n",
    "print(integers)"
   ]
  },
  {
   "cell_type": "code",
   "execution_count": 20,
   "id": "ac52cbba",
   "metadata": {},
   "outputs": [
    {
     "name": "stdout",
     "output_type": "stream",
     "text": [
      "[7, 14, 21, 28, 42, 49, 56, 63, 77, 84, 91, 98]\n"
     ]
    }
   ],
   "source": [
    "integers = [7*i for i in range(1, 100//7 + 1) if i%5 > 0]\n",
    "\n",
    "print(integers)"
   ]
  },
  {
   "cell_type": "markdown",
   "id": "a6b1d14f-8db3-493e-bba6-5033ca48ef81",
   "metadata": {},
   "source": [
    "---"
   ]
  },
  {
   "cell_type": "markdown",
   "id": "2852ee89",
   "metadata": {},
   "source": [
    "## Question 3\n",
    "\n",
    "Given a list `a_list` of numbers, where some numbers may appear more than once. Create a new list `new_list` that includes all the unique numbers from `a_list`.\n",
    "\n",
    "For example, if the given list is \\[2, 3, 1, 2, 3.5, 1, 3.5, 2, 0\\], then the new list should be \\[2, 3, 1, 3.5, 0\\].\n",
    "\n",
    "***Hint***: you could use the `in` operator to check if a number appears in a list.\n",
    "\n",
    "**Solution**:"
   ]
  },
  {
   "cell_type": "code",
   "execution_count": 21,
   "id": "726dbd58",
   "metadata": {},
   "outputs": [
    {
     "name": "stdout",
     "output_type": "stream",
     "text": [
      "[2, 3, 1, 3.5, 0]\n"
     ]
    }
   ],
   "source": [
    "a_list =  [2, 3, 1, 2, 3.5, 1, 3.5, 2, 0]\n",
    "\n",
    "new_list = []\n",
    "for item in a_list:\n",
    "    if item not in new_list:\n",
    "        new_list.append(item)\n",
    "\n",
    "print(new_list)"
   ]
  },
  {
   "cell_type": "code",
   "execution_count": 22,
   "id": "8f9daf88",
   "metadata": {},
   "outputs": [
    {
     "name": "stdout",
     "output_type": "stream",
     "text": [
      "[2, 3, 1, 3.5, 0]\n"
     ]
    }
   ],
   "source": [
    "a_list =  [2, 3, 1, 2, 3.5, 1, 3.5, 2, 0]\n",
    "\n",
    "new_list = []\n",
    "for item in a_list:\n",
    "    if not item in new_list:\n",
    "        new_list.append(item)\n",
    "\n",
    "print(new_list)"
   ]
  },
  {
   "cell_type": "markdown",
   "id": "ff5cdc8e-2498-4550-85d8-4d5590f7dd7d",
   "metadata": {},
   "source": [
    "---"
   ]
  },
  {
   "cell_type": "markdown",
   "id": "621ee2d2",
   "metadata": {},
   "source": [
    "## Question 4\n",
    "\n",
    "You may find that our \"Cheerleader\" program is not perfect. We want to make two changes: \n",
    "1. The article (\"a\" or \"an\") used for letters was sometimes wrong. For example, it should be \"Give me an I\" instead of \"Give me a I\". Try to correct the wrong articles.\n",
    "2. When individual letters are shout out, always use upper case to show the passion of the cheer!\n",
    "\n",
    "One example is given below."
   ]
  },
  {
   "cell_type": "raw",
   "id": "a92896fd",
   "metadata": {},
   "source": [
    "What is your name? Kent Ridge\n",
    "Give me a K: \n",
    "K!!!\n",
    "Give me an E: \n",
    "E!!!\n",
    "Give me an N: \n",
    "N!!!\n",
    "Give me a T: \n",
    "T!!!\n",
    "Give me an R: \n",
    "R!!!\n",
    "Give me an I: \n",
    "I!!!\n",
    "Give me a D: \n",
    "D!!!\n",
    "Give me a G: \n",
    "G!!!\n",
    "Give me an E: \n",
    "E!!!\n",
    "What's that spell?\n",
    "Kent Ridge!!\n",
    "Go! Go! Kent Ridge!!"
   ]
  },
  {
   "cell_type": "markdown",
   "id": "58e3b48d",
   "metadata": {},
   "source": [
    "**Solution**:"
   ]
  },
  {
   "cell_type": "code",
   "execution_count": 4,
   "id": "31b05214",
   "metadata": {},
   "outputs": [
    {
     "name": "stdin",
     "output_type": "stream",
     "text": [
      "What is your name?  Kent Ridge\n"
     ]
    },
    {
     "name": "stdout",
     "output_type": "stream",
     "text": [
      "Give me a K:\n",
      "K !!!\n",
      "Give me an E:\n",
      "E !!!\n",
      "Give me an N:\n",
      "N !!!\n",
      "Give me a T:\n",
      "T !!!\n",
      "Give me an R:\n",
      "R !!!\n",
      "Give me an I:\n",
      "I !!!\n",
      "Give me a D:\n",
      "D !!!\n",
      "Give me a G:\n",
      "G !!!\n",
      "Give me an E:\n",
      "E !!!\n",
      "What's that spell?\n",
      "Kent Ridge!!\n",
      "Go! Go! Kent Ridge!!\n"
     ]
    }
   ],
   "source": [
    "name = input(\"What is your name? \")\n",
    "\n",
    "for letter in name:   # Iterate each letter in name\n",
    "    if letter == \" \":\n",
    "        continue\n",
    "    \n",
    "    article = \"an\" if letter.lower() in \"aefhilmnorsx\" else \"a\"\n",
    "    letter_upper = letter.upper()\n",
    "        \n",
    "    print(f\"Give me {article} {letter_upper}:\")\n",
    "    print(f\"{letter_upper} !!!\")\n",
    "\n",
    "print(\"What's that spell?\")\n",
    "print(f\"{name}!!\")\n",
    "print(f\"Go! Go! {name}!!\")"
   ]
  },
  {
   "cell_type": "markdown",
   "id": "cac25bec-a638-4036-af1d-64c23a71b008",
   "metadata": {},
   "source": [
    "---"
   ]
  },
  {
   "cell_type": "markdown",
   "id": "1a88d5ed",
   "metadata": {},
   "source": [
    "## Question 5\n",
    "\n",
    "**Mad Libs** is a phrasal template word game. It consists of one player prompting others for a list of words to substitute for blanks in a story before reading aloud. The game is frequently played as a party game or as a pastime. Use Python to create a Mad Libs game, and you may use the template below."
   ]
  },
  {
   "cell_type": "raw",
   "id": "0e3e0456",
   "metadata": {},
   "source": [
    "Enter a noun: book\n",
    "Enter a plural noun: seats\n",
    "Enter a verb (present tense): eat\n",
    "Enter a verb (present tense): jump\n",
    "\n",
    "Today, every student has a computer small enough to fit into his book. \n",
    "He can solve any math problem by simply pushing the computer's little\n",
    "seats. Computers can add, multiply, divide, and eat. They can also \n",
    "jump better than a human. "
   ]
  },
  {
   "cell_type": "markdown",
   "id": "e7147cd2",
   "metadata": {},
   "source": [
    "**Solution**:"
   ]
  },
  {
   "cell_type": "code",
   "execution_count": 26,
   "id": "b654a664",
   "metadata": {},
   "outputs": [
    {
     "name": "stdin",
     "output_type": "stream",
     "text": [
      "Enter a noun:  book\n",
      "Enter a plural noun:  seats\n",
      "Enter a verb (present tense):  eat\n",
      "Enter a verb (present tense):  jump\n"
     ]
    },
    {
     "name": "stdout",
     "output_type": "stream",
     "text": [
      "\n",
      "Today, every student has a computer small enough to fit into his book. \n",
      "He can solve any math problem by simply pushing the computer's little \n",
      "seats. Computers can add, multiply, divide, and eat. They can also \n",
      "jump better than a human.\n",
      "\n"
     ]
    }
   ],
   "source": [
    "word1 = input('Enter a noun: ')\n",
    "word2 = input('Enter a plural noun: ')\n",
    "word3 = input('Enter a verb (present tense): ')\n",
    "word4 = input('Enter a verb (present tense): ')\n",
    "\n",
    "message = f\"\"\"\n",
    "Today, every student has a computer small enough to fit into his {word1}. \n",
    "He can solve any math problem by simply pushing the computer's little \n",
    "{word2}. Computers can add, multiply, divide, and {word3}. They can also \n",
    "{word4} better than a human.\n",
    "\"\"\"\n",
    "\n",
    "print(message)"
   ]
  },
  {
   "cell_type": "markdown",
   "id": "1ccaec19-cba4-4a58-a5ff-e3a93af8f725",
   "metadata": {},
   "source": [
    "---"
   ]
  },
  {
   "cell_type": "markdown",
   "id": "1d5f9009",
   "metadata": {},
   "source": [
    "## Question 6\n",
    "\n",
    "Write a time conversion program similar to **Question 4** of **Exercise 3**. Before doing the time conversion, check users' inputs. If users' inputs are correct, in the sense that:\n",
    "1. Hours are integers running from 1 to 12;\n",
    "2. Minutes are integers running from 0 to 59;\n",
    "3. Seconds are integers running from 0 to 59;\n",
    "4. AM/PM could be strings: 'AM', 'Am', 'aM', 'am', or 'PM', 'Pm', 'pM', 'pm';\n",
    "\n",
    "then calculate the total number of seconds. If any input does not follow the given format, ask the user to key in inputs 1 to 4 again. \n",
    "\n",
    "***Hint***: You may use the following code to create a list of correct inputs for each variable."
   ]
  },
  {
   "cell_type": "code",
   "execution_count": 70,
   "id": "d3746867",
   "metadata": {},
   "outputs": [],
   "source": [
    "correct_hr = [str(num) for num in range(1, 13)]"
   ]
  },
  {
   "cell_type": "markdown",
   "id": "79474dd0",
   "metadata": {},
   "source": [
    "All valid values (`str` type) of hours are included in the list above, so we can simply use the `in` operator to check if the value given by the user is valid or not."
   ]
  },
  {
   "cell_type": "code",
   "execution_count": 73,
   "id": "83d64004",
   "metadata": {
    "scrolled": true
   },
   "outputs": [
    {
     "name": "stdout",
     "output_type": "stream",
     "text": [
      "True\n",
      "False\n",
      "False\n"
     ]
    }
   ],
   "source": [
    "print(\"7\" in correct_hr)\n",
    "print(\"21\" in correct_hr)\n",
    "print(\"13.5\" in correct_hr)"
   ]
  },
  {
   "cell_type": "markdown",
   "id": "c84e9f82",
   "metadata": {},
   "source": [
    "**Solution**:"
   ]
  },
  {
   "cell_type": "code",
   "execution_count": 75,
   "id": "b786870d",
   "metadata": {},
   "outputs": [
    {
     "name": "stdin",
     "output_type": "stream",
     "text": [
      "Hours:    12\n",
      "Minutes:  3242\n",
      "Seconds:  aa\n",
      "AM/PM:    b\n"
     ]
    },
    {
     "name": "stdout",
     "output_type": "stream",
     "text": [
      "Incorrect inputs, please key in again.\n",
      "\n",
      "\n"
     ]
    },
    {
     "name": "stdin",
     "output_type": "stream",
     "text": [
      "Hours:    12\n",
      "Minutes:  7\n",
      "Seconds:  30\n",
      "AM/PM:    Pm\n"
     ]
    },
    {
     "name": "stdout",
     "output_type": "stream",
     "text": [
      "Time:    43650s\n"
     ]
    }
   ],
   "source": [
    "correct_hr = [str(num) for num in range(1, 13)]\n",
    "correct_mn = [str(num) for num in range(60)]\n",
    "correct_sc = [str(num) for num in range(60)]\n",
    "correct_am_pm = ['am', 'pm']\n",
    "\n",
    "while True:\n",
    "    hr_str = input('Hours:   ')\n",
    "    mn_str = input('Minutes: ')\n",
    "    sc_str = input('Seconds: ')\n",
    "    am_pm = input('AM/PM:   ')\n",
    "\n",
    "    if (hr_str in correct_hr and \n",
    "        mn_str in correct_mn and \n",
    "        sc_str in correct_sc and \n",
    "        am_pm.lower() in correct_am_pm):\n",
    "        break\n",
    "    else:\n",
    "        print('Incorrect inputs, please key in again.')\n",
    "        print('\\n')\n",
    "\n",
    "hours = int(hr_str)%12 + 12 if am_pm.lower() == 'pm' else int(hr_str)%12\n",
    "minutes = int(mn_str)\n",
    "seconds = int(sc_str)\n",
    "\n",
    "time = hours*3600 + minutes*60 + seconds\n",
    "\n",
    "print('Time:    ' +str(time) + 's')"
   ]
  }
 ],
 "metadata": {
  "kernelspec": {
   "display_name": "watchful_py_py3_8_12",
   "language": "python",
   "name": "watchful_py_py3_8_12"
  },
  "language_info": {
   "codemirror_mode": {
    "name": "ipython",
    "version": 3
   },
   "file_extension": ".py",
   "mimetype": "text/x-python",
   "name": "python",
   "nbconvert_exporter": "python",
   "pygments_lexer": "ipython3",
   "version": "3.8.12"
  },
  "varInspector": {
   "cols": {
    "lenName": 16,
    "lenType": 16,
    "lenVar": 40
   },
   "kernels_config": {
    "python": {
     "delete_cmd_postfix": "",
     "delete_cmd_prefix": "del ",
     "library": "var_list.py",
     "varRefreshCmd": "print(var_dic_list())"
    },
    "r": {
     "delete_cmd_postfix": ") ",
     "delete_cmd_prefix": "rm(",
     "library": "var_list.r",
     "varRefreshCmd": "cat(var_dic_list()) "
    }
   },
   "types_to_exclude": [
    "module",
    "function",
    "builtin_function_or_method",
    "instance",
    "_Feature"
   ],
   "window_display": false
  }
 },
 "nbformat": 4,
 "nbformat_minor": 5
}
