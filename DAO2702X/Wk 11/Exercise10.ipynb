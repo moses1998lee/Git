{
 "cells": [
  {
   "cell_type": "code",
   "execution_count": 2,
   "id": "a4caf95d",
   "metadata": {},
   "outputs": [],
   "source": [
    "from scipy.stats import binom"
   ]
  },
  {
   "attachments": {},
   "cell_type": "markdown",
   "id": "8b92408d",
   "metadata": {},
   "source": [
    "## Question 1\n",
    "\n",
    "1. It is assumed that in Singapore, the proportion of people who prefer Coke over Pepsi among the overall population is p=0.4. We are doing a survey on 20 randomly selected people, and what is the probability that at least 10 of them prefer Coke?\n",
    "\n",
    "    A. \n",
    "```python\n",
    "####################\n",
    "from scipy.stats import binom\n",
    "1 - binom.ppf(9, 20, 0.4)\n",
    "####################\n",
    "```\n",
    "\n",
    "    B.\n",
    "```python\n",
    "####################\n",
    "from scipy.stats import binom\n",
    "binom.cdf(10, 20, 0.4)\n",
    "####################\n",
    "```\n",
    "\n",
    "    C.\n",
    "```python\n",
    "####################\n",
    "from scipy.stats import binom\n",
    "1 - binom.cdf(9, 20, 0.4)\n",
    "####################\n",
    "```\n",
    "\n",
    "    D.\n",
    "```python\n",
    "####################\n",
    "from scipy.stats import binom\n",
    "binom.ppf(10, 20, 0.4)\n",
    "####################\n",
    "```\n",
    "\n",
    "**Solution:**"
   ]
  },
  {
   "cell_type": "markdown",
   "id": "ff56c931-c1b5-4b22-9988-77052cf22124",
   "metadata": {},
   "source": [
    "(C)"
   ]
  },
  {
   "cell_type": "markdown",
   "id": "6d52999c-9229-450a-b4e5-11381b0b77a0",
   "metadata": {},
   "source": [
    "2. In the Pepsi and Coke case, suppose that the population proportion of people preferring Coke is $p$. Let variable $X_i$ be the choice of the $i$th person interviewed, where $X_i=1$ if this person selects Coke, and $X_i=0$ otherwise. For a sample of only two independent interviews $X_1$ and $X_2$, what is the variance of $X_1+X_1-X_2$?\n",
    "\n",
    "\n",
    "    A. $p(1-p)$\n",
    "    \n",
    "    B. $3p(1-p)$\n",
    "    \n",
    "    C. $5p(1-p)$\n",
    "    \n",
    "    D. $9p(1-p)$\n",
    "    \n",
    "**Solution:**"
   ]
  },
  {
   "cell_type": "code",
   "execution_count": null,
   "id": "1999dd33-f596-4ad4-969f-24c32573b108",
   "metadata": {},
   "outputs": [],
   "source": []
  },
  {
   "cell_type": "markdown",
   "id": "cf428dc5-786f-4bfb-a2b8-805fe7c14915",
   "metadata": {},
   "source": [
    "---"
   ]
  },
  {
   "cell_type": "markdown",
   "id": "f62f16c9",
   "metadata": {},
   "source": [
    "## Question 2\n",
    "\n",
    "The table below shows the joint probability for the number of credit cards owned by card holders ($X$) and the number of credit card purchases made in a week by them ($Y$).\n",
    "\n",
    "|| $$Y=0$$ | $$Y=1$$ | $$Y=2$$ | $$Y=3$$ | $$Y=4$$ |\n",
    "|---:|---:|---:|----:|---:|----:|\n",
    "|$X=1$|0.08 |0.13|0.09|0.06|0.03|\n",
    "|$X=2$|0.03 |0.08|0.08|0.09|0.07|\n",
    "|$X=3$|0.01 |0.03|0.06|0.08|0.08|\n",
    "\n",
    "The joint distribution is also given as the two-dimensional array below."
   ]
  },
  {
   "cell_type": "code",
   "execution_count": 7,
   "id": "2b73108c",
   "metadata": {},
   "outputs": [
    {
     "data": {
      "text/plain": [
       "array([[0.08, 0.13, 0.09, 0.06, 0.03],\n",
       "       [0.03, 0.08, 0.08, 0.09, 0.07],\n",
       "       [0.01, 0.03, 0.06, 0.08, 0.08]])"
      ]
     },
     "execution_count": 7,
     "metadata": {},
     "output_type": "execute_result"
    }
   ],
   "source": [
    "import numpy as np\n",
    "\n",
    "distr = np.array([[0.08, 0.13, 0.09, 0.06, 0.03],\n",
    "                  [0.03, 0.08, 0.08, 0.09, 0.07],\n",
    "                  [0.01, 0.03, 0.06, 0.08, 0.08]])\n",
    "distr"
   ]
  },
  {
   "cell_type": "markdown",
   "id": "f93620de",
   "metadata": {},
   "source": [
    "1. What is the mean number of cards held by a person from this group?\n",
    "\n",
    "**Solution**:"
   ]
  },
  {
   "cell_type": "code",
   "execution_count": 26,
   "id": "865246c5",
   "metadata": {},
   "outputs": [
    {
     "data": {
      "text/plain": [
       "1.8699999999999999"
      ]
     },
     "execution_count": 26,
     "metadata": {},
     "output_type": "execute_result"
    }
   ],
   "source": [
    "mean = 0\n",
    "\n",
    "for i in range(distr.shape[0]):\n",
    "    for j in range(distr.shape[1]):\n",
    "        mean += ((i+1)*distr[i][j])\n",
    "\n",
    "mean\n"
   ]
  },
  {
   "cell_type": "markdown",
   "id": "fdd6e498",
   "metadata": {},
   "source": [
    "2. What is the variance of the number of purchases made by a person from this group?\n",
    "\n",
    "**Solution**:"
   ]
  },
  {
   "cell_type": "code",
   "execution_count": 27,
   "id": "4c5598dc",
   "metadata": {},
   "outputs": [
    {
     "data": {
      "text/plain": [
       "2.1100000000000003"
      ]
     },
     "execution_count": 27,
     "metadata": {},
     "output_type": "execute_result"
    }
   ],
   "source": [
    "n = distr.shape[0] * distr.shape[1]\n",
    "\n",
    "mean_purchases = 0\n",
    "\n",
    "for j in range(distr.shape[1]):\n",
    "    for i in range(distr.shape[0]):\n",
    "        mean_purchases += (j*distr[i][j])\n",
    "\n",
    "for j in range(distr.shape[1]):\n",
    "    for i in range(distr.shape[0]):\n",
    "        \n",
    "\n"
   ]
  },
  {
   "cell_type": "markdown",
   "id": "4a8d4b51",
   "metadata": {},
   "source": [
    "3. What is the probability that a person made at least three purchases in this week?\n",
    "\n",
    "**Solution**:"
   ]
  },
  {
   "cell_type": "code",
   "execution_count": 29,
   "id": "6305aca0",
   "metadata": {},
   "outputs": [
    {
     "data": {
      "text/plain": [
       "array([ 0,  1,  2,  3,  4,  5,  6,  7,  8,  9, 10, 11, 12, 13, 14, 15])"
      ]
     },
     "execution_count": 29,
     "metadata": {},
     "output_type": "execute_result"
    }
   ],
   "source": [
    "x=np.arange(n+1)\n",
    "x"
   ]
  },
  {
   "cell_type": "markdown",
   "id": "84c17880-0e84-40a2-a95a-36e797d9c56b",
   "metadata": {},
   "source": [
    "---"
   ]
  },
  {
   "cell_type": "markdown",
   "id": "ceb30f24",
   "metadata": {},
   "source": [
    "## Question 3\n",
    "\n",
    "For investors, stocks are risky but they generate high returns. Bonds are safer but they offer proportionally less returns. It is thus preferred to combine these asset classes in a portfolio to achieve a better trade off between mean returns and risks. Particularly, in cases where the stocks and bonds are negatively correlated, combining these assets in a portfolio can actually increase returns without increasing risk. \n",
    "\n",
    "Suppose that the means and standard deviations of the return rates of bonds and stocks, together with the covariance between the bond and stock returns, are given in the following code cell."
   ]
  },
  {
   "cell_type": "code",
   "execution_count": 11,
   "id": "0a292f14",
   "metadata": {},
   "outputs": [],
   "source": [
    "mean_s = 0.0819         # Mean of the stock return\n",
    "std_s = 0.1791          # Standard deviation of the stock return\n",
    "\n",
    "mean_b = 0.0490         # Mean of the bonds return\n",
    "std_b = 0.0416          # Standard deviation of the bonds return\n",
    "\n",
    "cov = -0.00244          # Covariance between the bonds and stocks return"
   ]
  },
  {
   "cell_type": "markdown",
   "id": "56239938",
   "metadata": {},
   "source": [
    "1. The classic [60/40 portfolio](https://portfoliocharts.com/portfolio/classic-60-40/) allocates $60\\%$ of the budget in stocks and $40\\%$ in bonds. It is usually served as a benchmark when analyzing other investment strategies. Use the mean values, standard deviations, and covariance given above to calculate the mean return and standard deviation of the 60/40 portfolio.\n",
    "\n",
    "**Solution**:"
   ]
  },
  {
   "cell_type": "code",
   "execution_count": null,
   "id": "bfb52b48",
   "metadata": {},
   "outputs": [],
   "source": []
  },
  {
   "cell_type": "markdown",
   "id": "f8d41ea9",
   "metadata": {},
   "source": [
    "2. Let $x$ be the percentage of investment in stocks, which can be changed between $0$ and $100\\%$ inclusive. Show the trade-off between the mean returns and standard deviations of the portfolio on the y-aixs and x-axis respectively. You may refer to [Historical Risk versus Return of Stocks and Bonds](https://engineeredportfolio.com/2016/08/05/historical-risk-return-of-stocks-bonds/) for the digram of showing the trade-off.\n",
    "\n",
    "**Solution**:"
   ]
  },
  {
   "cell_type": "code",
   "execution_count": 1,
   "id": "ab1f7568",
   "metadata": {},
   "outputs": [],
   "source": [
    "import numpy as np\n",
    "import matplotlib.pyplot as plt"
   ]
  },
  {
   "cell_type": "markdown",
   "id": "05497cb6",
   "metadata": {},
   "source": [
    "3. Alternatively, the risk can be expressed as the probability that the return rate is worse than a given value, such as 0, -0.01, or -0.05. Visualize the trade-off between the mean returns and the new risk measure on the y-aixs and x-axis respectively, assuming that the returns of stocks and bonds both follow normal distributions.\n",
    "\n",
    "**Solution**:"
   ]
  },
  {
   "cell_type": "code",
   "execution_count": 2,
   "id": "eb979b96",
   "metadata": {
    "scrolled": true
   },
   "outputs": [],
   "source": [
    "from scipy.stats import norm"
   ]
  }
 ],
 "metadata": {
  "kernelspec": {
   "display_name": "Python 3",
   "language": "python",
   "name": "python3"
  },
  "language_info": {
   "codemirror_mode": {
    "name": "ipython",
    "version": 3
   },
   "file_extension": ".py",
   "mimetype": "text/x-python",
   "name": "python",
   "nbconvert_exporter": "python",
   "pygments_lexer": "ipython3",
   "version": "3.11.2"
  },
  "varInspector": {
   "cols": {
    "lenName": 16,
    "lenType": 16,
    "lenVar": 40
   },
   "kernels_config": {
    "python": {
     "delete_cmd_postfix": "",
     "delete_cmd_prefix": "del ",
     "library": "var_list.py",
     "varRefreshCmd": "print(var_dic_list())"
    },
    "r": {
     "delete_cmd_postfix": ") ",
     "delete_cmd_prefix": "rm(",
     "library": "var_list.r",
     "varRefreshCmd": "cat(var_dic_list()) "
    }
   },
   "types_to_exclude": [
    "module",
    "function",
    "builtin_function_or_method",
    "instance",
    "_Feature"
   ],
   "window_display": false
  }
 },
 "nbformat": 4,
 "nbformat_minor": 5
}
