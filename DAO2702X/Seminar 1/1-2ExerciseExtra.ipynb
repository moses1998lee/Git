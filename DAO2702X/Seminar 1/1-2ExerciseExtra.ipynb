{
 "cells": [
  {
   "cell_type": "markdown",
   "id": "66758605",
   "metadata": {},
   "source": [
    "## Extra Exercises\n",
    "\n",
    "1. Draw the flowchart for the program that calculates $1+1/3 + 1/5 + 1/7 ...$, the summation of $n$ terms and the denominator of each term is an odd integer. \n",
    "\n",
    "(Lecture 2 Example 5)"
   ]
  },
  {
   "cell_type": "markdown",
   "id": "485e807e",
   "metadata": {},
   "source": [
    " <img src=\"https://github.com/XiongPengNUS/dao_resources/blob/main/odd_sum.png?raw=true\">"
   ]
  },
  {
   "cell_type": "markdown",
   "id": "3847fc04",
   "metadata": {},
   "source": [
    "2. Consider all integers between 1 and $n$, a program counts the number of integers that contain the digit 3. Draw the flowchart for the program. \n",
    "\n",
    "(Lecture 2 Example 5 and Question 2)"
   ]
  },
  {
   "cell_type": "markdown",
   "id": "8db69ec9",
   "metadata": {},
   "source": [
    "  <img src=\"https://github.com/XiongPengNUS/dao_resources/blob/main/count_digit3.png?raw=true\">"
   ]
  },
  {
   "cell_type": "code",
   "execution_count": null,
   "id": "263dd76a-8b10-4fda-b669-a2399aefea72",
   "metadata": {},
   "outputs": [],
   "source": []
  }
 ],
 "metadata": {
  "kernelspec": {
   "display_name": "python3",
   "language": "python",
   "name": "python3"
  },
  "language_info": {
   "codemirror_mode": {
    "name": "ipython",
    "version": 3
   },
   "file_extension": ".py",
   "mimetype": "text/x-python",
   "name": "python",
   "nbconvert_exporter": "python",
   "pygments_lexer": "ipython3",
   "version": "3.7.11"
  },
  "varInspector": {
   "cols": {
    "lenName": 16,
    "lenType": 16,
    "lenVar": 40
   },
   "kernels_config": {
    "python": {
     "delete_cmd_postfix": "",
     "delete_cmd_prefix": "del ",
     "library": "var_list.py",
     "varRefreshCmd": "print(var_dic_list())"
    },
    "r": {
     "delete_cmd_postfix": ") ",
     "delete_cmd_prefix": "rm(",
     "library": "var_list.r",
     "varRefreshCmd": "cat(var_dic_list()) "
    }
   },
   "types_to_exclude": [
    "module",
    "function",
    "builtin_function_or_method",
    "instance",
    "_Feature"
   ],
   "window_display": false
  }
 },
 "nbformat": 4,
 "nbformat_minor": 5
}
