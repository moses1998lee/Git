{
 "cells": [
  {
   "cell_type": "markdown",
   "id": "956900e4-f56d-4430-a248-38e0eef15968",
   "metadata": {},
   "source": [
    "## Question 1\n",
    "\n",
    "1. An investment bond pays a coupon at the start of every year over 25 years. The first year's coupon is \\\\$500 and it increases by 2% for each subsequent year. Each time a coupon is paid out, an amount is immediately withdrawn from it. The withdrawals also occur over 25 years. The first year's withdrawal is \\\\$220 and it increases by 5% for each subsequent year. \n",
    "\n",
    "i. Using a `for`-loop, calculate the total amount of money available at the end of 25 years.\n",
    "\n",
    "**Solution:**"
   ]
  },
  {
   "cell_type": "code",
   "execution_count": null,
   "id": "cfbd2368-00a0-4f3f-93b8-486ef0b6a39d",
   "metadata": {},
   "outputs": [],
   "source": [
    "import numpy as np\n",
    "\n",
    "first_coupon = 500\n",
    "rate_coupon = 0.02\n",
    "\n",
    "first_withdrawal = 220\n",
    "rate_withdrawal = 0.05"
   ]
  },
  {
   "cell_type": "code",
   "execution_count": null,
   "id": "30879b0b-de85-42fc-a485-6bfcd4f845c1",
   "metadata": {},
   "outputs": [],
   "source": []
  },
  {
   "cell_type": "markdown",
   "id": "20a56056-b0ba-44b5-a9a3-93ec70afc79a",
   "metadata": {},
   "source": [
    "ii. Without using a `for`-loop and using only NumPy arrays, calculate the total amount of money available at the end of 25 years.\n",
    "\n",
    "**Solution:**"
   ]
  },
  {
   "cell_type": "code",
   "execution_count": null,
   "id": "6c92612c-c809-43c9-bf29-8ab33f0007cc",
   "metadata": {},
   "outputs": [],
   "source": []
  },
  {
   "cell_type": "markdown",
   "id": "d3dc854f-b67a-471b-a756-a147853f555a",
   "metadata": {},
   "source": [
    "2. The yearly savings, given by the coupon less the withdrawal, can be re-invested at an interest rate of 3.5%. Since the coupon and withdrawal occur at the start of every year, the 1st year savings can be re-invested for 25 years, the 2nd year savings can be re-invested for 24 years, and so on.\n",
    "\n",
    "i. Using a `for`-loop, calculate the total amount of money available at the end of 25 years.\n",
    "\n",
    "**Solution:**"
   ]
  },
  {
   "cell_type": "code",
   "execution_count": null,
   "id": "d60f33a4-f67e-455d-aab7-6e583de3222a",
   "metadata": {},
   "outputs": [],
   "source": [
    "import numpy as np\n",
    "\n",
    "first_coupon = 500\n",
    "rate_coupon = 0.02\n",
    "\n",
    "first_withdrawal = 220\n",
    "rate_withdrawal = 0.05\n",
    "\n",
    "rate_reinvest = 0.035"
   ]
  },
  {
   "cell_type": "code",
   "execution_count": null,
   "id": "3acdb60f-8ada-4c54-bf84-b9e7dfd08af1",
   "metadata": {},
   "outputs": [],
   "source": []
  },
  {
   "cell_type": "markdown",
   "id": "5182105a-3f60-4cf1-8a7b-4ded010fcb09",
   "metadata": {},
   "source": [
    "ii. Without using a `for`-loop and using only NumPy arrays, calculate the total amount of money available at the end of 25 years.\n",
    "\n",
    "**Solution:**"
   ]
  },
  {
   "cell_type": "code",
   "execution_count": null,
   "id": "288bf1e5-995a-4f03-a60d-c7b615c1f7cd",
   "metadata": {},
   "outputs": [],
   "source": []
  },
  {
   "cell_type": "markdown",
   "id": "e0baa03d-b25e-40a4-a501-6fd0bb40a2ba",
   "metadata": {},
   "source": [
    "---"
   ]
  },
  {
   "cell_type": "markdown",
   "id": "64732d0c-223a-437d-ba7a-f3f795f2f647",
   "metadata": {
    "tags": []
   },
   "source": [
    "## Question 2\n",
    "\n",
    "In an experiment, there are 3 independent variables $x_{1}$, $x_{2}$ and $x_{3}$, and a target variable $y$. A regression model that predicts the target variable from the 3 independent variables is given by:\n",
    "\n",
    "$$y = c_{1}x_{1} + c_{2}x_{2} + c_{3}x_{3} + k$$\n",
    "\n",
    ", where $c_{1}$, $c_{2}$, $c_{3}$ and $k$ are constants having the values 2, -1.5, 0.25 and -4 respectively. These values are stored in the variables `C` and `k` in the code below.\n",
    "\n",
    "Trials were conducted with 50 sets of variables ($x_{1}$, $x_{2}$ and $x_{3}$) and the corresponding 50 targets ($y$) were measured. These values are stored in the variables `X` and `Y` in the code below."
   ]
  },
  {
   "cell_type": "code",
   "execution_count": 9,
   "id": "efc537dd-4012-4092-920d-627127db5434",
   "metadata": {},
   "outputs": [],
   "source": [
    "import numpy as np\n",
    "\n",
    "C = np.array([2, -1.5, 0.25])\n",
    "k = -4\n",
    "\n",
    "X = np.array(\n",
    "    [\n",
    "        [-1.27994862, -2.00833301,  4.35470703],\n",
    "        [ 2.3575397 ,  2.1900513 ,  4.70714659],\n",
    "        [ 2.69568653,  3.9822844 , -4.479938  ],\n",
    "        [-2.34855841, -3.6046311 , -2.73621909],\n",
    "        [-2.15324825, -0.3160609 , -1.97170037],\n",
    "        [ 2.77291018, -1.78621655, -2.70693227],\n",
    "        [-0.34567943, -0.05375634,  3.52568006],\n",
    "        [-3.343598  , -3.9959347 , -2.28452531],\n",
    "        [-0.10666847,  4.95766307,  0.09966833],\n",
    "        [ 2.1134465 ,  0.45242131, -3.14817092],\n",
    "        [-0.56823648, -3.98530092, -4.35246532],\n",
    "        [ 2.41387991,  3.64144437,  3.6112922 ],\n",
    "        [-4.68502224,  1.60078109,  0.58004203],\n",
    "        [ 2.47835482, -1.09951547, -2.47634247],\n",
    "        [ 0.61771175,  0.41789135, -4.15402677],\n",
    "        [ 3.67200757, -2.21428508, -4.83567372],\n",
    "        [-4.40176118, -0.49342952,  3.97045484],\n",
    "        [-2.12173808,  3.5997863 , -4.0539965 ],\n",
    "        [-3.52956163,  1.44864319, -1.82652284],\n",
    "        [-3.27116354, -0.9382212 , -2.55223887],\n",
    "        [ 0.41286064, -0.93712636, -2.55323857],\n",
    "        [-1.49534429,  3.48084357,  4.90760101],\n",
    "        [ 3.74750121, -1.72088311,  1.99616205],\n",
    "        [ 1.46813042, -2.27865723, -2.37782418],\n",
    "        [-3.62541042, -2.11313475, -2.32509991],\n",
    "        [-0.47463952,  2.79720017,  3.20780827],\n",
    "        [-2.66030376, -1.77952777,  4.67912552],\n",
    "        [ 4.45351231,  4.26845734,  3.64692316],\n",
    "        [-3.52479623,  3.52615968, -2.937238  ],\n",
    "        [-2.68428994,  0.13493695,  4.70906298],\n",
    "        [-3.00602626,  4.11696303, -4.57539642],\n",
    "        [ 2.18975987, -1.18805352,  2.0781888 ],\n",
    "        [-4.95718531,  2.1910507 ,  2.40070363],\n",
    "        [-0.41870248,  3.8913928 , -3.6690367 ],\n",
    "        [ 4.31727817, -2.46084513,  0.70426095],\n",
    "        [ 3.76776215, -3.23679407,  0.95732406],\n",
    "        [ 3.97268983,  1.35199518,  1.54405574],\n",
    "        [ 4.51772414,  0.91551731,  4.54937601],\n",
    "        [ 3.29671628, -0.12627322, -4.68295224],\n",
    "        [-3.8342117 , -4.05143067,  2.90241875],\n",
    "        [ 1.16590628, -0.69315536, -1.26114304],\n",
    "        [-0.19891324,  4.13958958,  0.87763127],\n",
    "        [-1.18722836,  2.1746008 ,  2.58996079],\n",
    "        [-1.55049991,  3.50372332, -2.89415936],\n",
    "        [ 1.71913453, -0.09923548,  0.95858612],\n",
    "        [-4.97530484,  3.09579452,  0.06135507],\n",
    "        [ 0.60751536, -2.62866259,  0.93473901],\n",
    "        [ 2.66803174,  0.98652283,  1.84006456],\n",
    "        [ 4.4141781 ,  2.30750609, -2.43571085],\n",
    "        [ 3.00976235,  2.85241691,  2.37438668]\n",
    "    ]\n",
    ")\n",
    "\n",
    "Y = np.array(\n",
    "    [-3.50826163,  -0.88999236,  -5.36625584,  -4.51390845,\n",
    "     -6.84374326,   3.58632431,  -3.73241611,  -3.89762681,\n",
    "     -10.72074272,  -1.47938328,   1.30153317,  -2.53015715,\n",
    "     -14.11830385,   2.7443395 ,  -5.01946172,   5.52277177,\n",
    "     -11.42599621, -14.27417238, -14.27158378,  -9.98628883,\n",
    "     -2.2239412 , -11.49863003,   6.50345116,   1.26107381,\n",
    "     -9.00637514,  -6.80653729,  -5.07910976,  -1.09090736,\n",
    "     -16.12649206,  -7.49587759, -17.62592494,   0.9023704 ,\n",
    "     -16.78832406, -12.08378518,  10.24476146,   7.93224704,\n",
    "     1.27462937,   4.74654424,   1.58759392,  -3.22094267,\n",
    "     -0.51917191, -10.65929345,  -7.93195233, -13.92000401,\n",
    "     -1.00311098, -17.7804012 ,   2.15787496,   0.02504515,\n",
    "     2.81938093,  -0.86733133]\n",
    ")"
   ]
  },
  {
   "cell_type": "markdown",
   "id": "ed51cf5b-c20d-465c-a9ca-730d3a5b6d7a",
   "metadata": {},
   "source": [
    "1. What are the 50 target values that are predicted by the regression model?"
   ]
  },
  {
   "cell_type": "code",
   "execution_count": null,
   "id": "b61a68c9-3891-4ed1-817e-3e66c5e81c6c",
   "metadata": {},
   "outputs": [],
   "source": []
  },
  {
   "cell_type": "markdown",
   "id": "1a447915-cf2f-40bc-8c71-59afd93486df",
   "metadata": {},
   "source": [
    "2. What is the mean squared error of the 50 predicted target values?\n",
    "\n",
    "_**Hint:** Given a predicted target value $\\hat{y}_{i}$ and its actual target value $y_{i}$, the mean squared error is:_ \n",
    "\n",
    "$$\n",
    "\\frac{1}{n} \\sum_{i=1}^{n} (\\hat{y}_{i} - y_{i}) ^ 2\n",
    "$$\n"
   ]
  },
  {
   "cell_type": "code",
   "execution_count": null,
   "id": "33b62601-d7a6-444b-a6f8-0a912267fbe9",
   "metadata": {},
   "outputs": [],
   "source": []
  }
 ],
 "metadata": {
  "kernelspec": {
   "display_name": "dao2702x_py3_9_13",
   "language": "python",
   "name": "dao2702x_py3_9_13"
  },
  "language_info": {
   "codemirror_mode": {
    "name": "ipython",
    "version": 3
   },
   "file_extension": ".py",
   "mimetype": "text/x-python",
   "name": "python",
   "nbconvert_exporter": "python",
   "pygments_lexer": "ipython3",
   "version": "3.9.13"
  },
  "varInspector": {
   "cols": {
    "lenName": 16,
    "lenType": 16,
    "lenVar": 40
   },
   "kernels_config": {
    "python": {
     "delete_cmd_postfix": "",
     "delete_cmd_prefix": "del ",
     "library": "var_list.py",
     "varRefreshCmd": "print(var_dic_list())"
    },
    "r": {
     "delete_cmd_postfix": ") ",
     "delete_cmd_prefix": "rm(",
     "library": "var_list.r",
     "varRefreshCmd": "cat(var_dic_list()) "
    }
   },
   "types_to_exclude": [
    "module",
    "function",
    "builtin_function_or_method",
    "instance",
    "_Feature"
   ],
   "window_display": false
  }
 },
 "nbformat": 4,
 "nbformat_minor": 5
}
