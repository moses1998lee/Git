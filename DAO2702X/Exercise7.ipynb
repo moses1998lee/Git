{
 "cells": [
  {
   "cell_type": "markdown",
   "metadata": {},
   "source": [
    "## Question 1\n",
    "\n",
    "1. Given the data table `wage_data` below,\n",
    "\n",
    "```python\n",
    "####################\n",
    "import pandas as pd\n",
    "\n",
    "wage_data = pd.DataFrame({'wage': [3.10, 3.24, 3.00, 6.00, 5.30],\n",
    "                          'educ': [11.0, 12.0, 11.0, 8.0, 12.0],\n",
    "                          'expr': [2.0, 22.0, 2.0, 44.0, 7.0],\n",
    "                          'female': [1.0, 1.0, 0.0, 0.0, 0.0],\n",
    "                          'married': [0.0, 1.0, 0.0, 0.0, 1.0]})\n",
    "####################\n",
    "```\n",
    "\n",
    "which of the following code gives the median of variable `wage`?\n",
    "\n",
    "    A.\n",
    "```python\n",
    "####################\n",
    "wage_summary = wage_data.describe()\n",
    "print(wage_summary.loc['wage', 'median'])\n",
    "####################\n",
    "```\n",
    "\n",
    "    B.\n",
    "```python\n",
    "####################\n",
    "wage_summary = wage_data.describe()\n",
    "print(wage_summary.loc['median', 'wage'])\n",
    "####################\n",
    "```\n",
    "\n",
    "    C.\n",
    "```python\n",
    "####################\n",
    "wage_summary = wage_data.describe()\n",
    "print((wage_summary.loc['wage', 'min'] + wage_summary.loc['wage', 'max']) / 2)\n",
    "####################\n",
    "```\n",
    "\n",
    "    D.\n",
    "```python\n",
    "####################\n",
    "wage_summary = wage_data.describe()\n",
    "print((wage_summary.loc['50%', 'wage']))\n",
    "####################\n",
    "```\n",
    "\n",
    "**Solution:**"
   ]
  },
  {
   "cell_type": "code",
   "execution_count": null,
   "metadata": {},
   "outputs": [],
   "source": []
  },
  {
   "cell_type": "markdown",
   "metadata": {},
   "source": [
    "2. For the same dataset `wage_data`, which of the following code segments is correct in printing the correlation between `educ` and `expr`.\n",
    "\n",
    "    A.\n",
    "```python\n",
    "####################\n",
    "corr_table = wage_data.corr()\n",
    "print(corr_table.iloc['educ', 'expr']) \n",
    "####################\n",
    "```\n",
    "\n",
    "    B.\n",
    "```python\n",
    "####################\n",
    "corr_table = wage_data.corr()\n",
    "print(corr_table.iloc[1, 2])\n",
    "####################\n",
    "```\n",
    "\n",
    "    C.\n",
    "```python\n",
    "####################\n",
    "corr_table = wage_data.corr()\n",
    "print(corr_table.loc[:, 'educ'].loc[:, 'expr'])\n",
    "####################\n",
    "```\n",
    "\n",
    "    D.\n",
    "```python\n",
    "####################\n",
    "corr_table = wage_data.corr()\n",
    "print(corr_table.loc[:, 'educ':'expr'])\n",
    "####################\n",
    "```\n",
    "\n",
    "**Solution:**"
   ]
  },
  {
   "cell_type": "code",
   "execution_count": null,
   "metadata": {},
   "outputs": [],
   "source": []
  },
  {
   "cell_type": "markdown",
   "metadata": {},
   "source": [
    "---"
   ]
  },
  {
   "cell_type": "markdown",
   "metadata": {},
   "source": [
    "## Question 2\n",
    "\n",
    "Considering the following dataset on Singapore private house properties."
   ]
  },
  {
   "cell_type": "code",
   "execution_count": 25,
   "metadata": {},
   "outputs": [],
   "source": [
    "import pandas as pd\n",
    "import statistics as st"
   ]
  },
  {
   "cell_type": "code",
   "execution_count": 30,
   "metadata": {},
   "outputs": [
    {
     "data": {
      "text/html": [
       "<div>\n",
       "<style scoped>\n",
       "    .dataframe tbody tr th:only-of-type {\n",
       "        vertical-align: middle;\n",
       "    }\n",
       "\n",
       "    .dataframe tbody tr th {\n",
       "        vertical-align: top;\n",
       "    }\n",
       "\n",
       "    .dataframe thead th {\n",
       "        text-align: right;\n",
       "    }\n",
       "</style>\n",
       "<table border=\"1\" class=\"dataframe\">\n",
       "  <thead>\n",
       "    <tr style=\"text-align: right;\">\n",
       "      <th></th>\n",
       "      <th>project</th>\n",
       "      <th>street</th>\n",
       "      <th>type</th>\n",
       "      <th>district</th>\n",
       "      <th>segment</th>\n",
       "      <th>tenure</th>\n",
       "      <th>commence</th>\n",
       "      <th>sale</th>\n",
       "      <th>total_price</th>\n",
       "      <th>area</th>\n",
       "      <th>level</th>\n",
       "      <th>unit_price</th>\n",
       "      <th>date</th>\n",
       "    </tr>\n",
       "  </thead>\n",
       "  <tbody>\n",
       "    <tr>\n",
       "      <th>0</th>\n",
       "      <td>PARC CLEMATIS</td>\n",
       "      <td>JALAN LEMPENG</td>\n",
       "      <td>Apartment</td>\n",
       "      <td>5</td>\n",
       "      <td>OCR</td>\n",
       "      <td>99 years</td>\n",
       "      <td>2019.0</td>\n",
       "      <td>New Sale</td>\n",
       "      <td>2567000</td>\n",
       "      <td>1496</td>\n",
       "      <td>11 to 15</td>\n",
       "      <td>1716</td>\n",
       "      <td>Dec-2021</td>\n",
       "    </tr>\n",
       "    <tr>\n",
       "      <th>1</th>\n",
       "      <td>ONE PEARL BANK</td>\n",
       "      <td>PEARL BANK</td>\n",
       "      <td>Apartment</td>\n",
       "      <td>3</td>\n",
       "      <td>RCR</td>\n",
       "      <td>99 years</td>\n",
       "      <td>2019.0</td>\n",
       "      <td>New Sale</td>\n",
       "      <td>2986000</td>\n",
       "      <td>1281</td>\n",
       "      <td>16 to 20</td>\n",
       "      <td>2331</td>\n",
       "      <td>Dec-2021</td>\n",
       "    </tr>\n",
       "    <tr>\n",
       "      <th>2</th>\n",
       "      <td>ONE PEARL BANK</td>\n",
       "      <td>PEARL BANK</td>\n",
       "      <td>Apartment</td>\n",
       "      <td>3</td>\n",
       "      <td>RCR</td>\n",
       "      <td>99 years</td>\n",
       "      <td>2019.0</td>\n",
       "      <td>New Sale</td>\n",
       "      <td>1835000</td>\n",
       "      <td>700</td>\n",
       "      <td>21 to 25</td>\n",
       "      <td>2623</td>\n",
       "      <td>Dec-2021</td>\n",
       "    </tr>\n",
       "    <tr>\n",
       "      <th>3</th>\n",
       "      <td>ONE PEARL BANK</td>\n",
       "      <td>PEARL BANK</td>\n",
       "      <td>Apartment</td>\n",
       "      <td>3</td>\n",
       "      <td>RCR</td>\n",
       "      <td>99 years</td>\n",
       "      <td>2019.0</td>\n",
       "      <td>New Sale</td>\n",
       "      <td>1924000</td>\n",
       "      <td>840</td>\n",
       "      <td>06 to 10</td>\n",
       "      <td>2292</td>\n",
       "      <td>Dec-2021</td>\n",
       "    </tr>\n",
       "    <tr>\n",
       "      <th>4</th>\n",
       "      <td>THE CREST</td>\n",
       "      <td>PRINCE CHARLES CRESCENT</td>\n",
       "      <td>Condominium</td>\n",
       "      <td>3</td>\n",
       "      <td>RCR</td>\n",
       "      <td>99 years</td>\n",
       "      <td>2012.0</td>\n",
       "      <td>Resale</td>\n",
       "      <td>1620000</td>\n",
       "      <td>883</td>\n",
       "      <td>11 to 15</td>\n",
       "      <td>1835</td>\n",
       "      <td>Dec-2021</td>\n",
       "    </tr>\n",
       "  </tbody>\n",
       "</table>\n",
       "</div>"
      ],
      "text/plain": [
       "          project                   street         type  district segment  \\\n",
       "0   PARC CLEMATIS            JALAN LEMPENG    Apartment         5     OCR   \n",
       "1  ONE PEARL BANK               PEARL BANK    Apartment         3     RCR   \n",
       "2  ONE PEARL BANK               PEARL BANK    Apartment         3     RCR   \n",
       "3  ONE PEARL BANK               PEARL BANK    Apartment         3     RCR   \n",
       "4       THE CREST  PRINCE CHARLES CRESCENT  Condominium         3     RCR   \n",
       "\n",
       "     tenure  commence      sale  total_price  area     level  unit_price  \\\n",
       "0  99 years    2019.0  New Sale      2567000  1496  11 to 15        1716   \n",
       "1  99 years    2019.0  New Sale      2986000  1281  16 to 20        2331   \n",
       "2  99 years    2019.0  New Sale      1835000   700  21 to 25        2623   \n",
       "3  99 years    2019.0  New Sale      1924000   840  06 to 10        2292   \n",
       "4  99 years    2012.0    Resale      1620000   883  11 to 15        1835   \n",
       "\n",
       "       date  \n",
       "0  Dec-2021  \n",
       "1  Dec-2021  \n",
       "2  Dec-2021  \n",
       "3  Dec-2021  \n",
       "4  Dec-2021  "
      ]
     },
     "execution_count": 30,
     "metadata": {},
     "output_type": "execute_result"
    }
   ],
   "source": [
    "df.head()"
   ]
  },
  {
   "cell_type": "markdown",
   "metadata": {},
   "source": [
    "Details of the variables are given below:\n",
    "- `project`: The name of the property project.\n",
    "- `street`: The street name of the property.\n",
    "- `type`: The type of the property: apartment or condominium.\n",
    "- `district`: Location of the property, given as the district code of Singapore, details can be found [here](https://www.mingproperty.sg/singapore-district-code/).\n",
    "- `segment`: Location of the property, given as the region segment of Singapore: Core Central Region (CCR), Rest of Central Region (RCR), or the Outside Central Region (OCR).\n",
    "- `tenure`: The tenure type of the property: 99 years or freehold.\n",
    "- `commence`: The commencing year of the property.\n",
    "- `sale`: The sales type of the property: new sale or resale.\n",
    "- `total_price`: The total price (in Singapore Dollars) of the property.\n",
    "- `area`: The area of the property in square feet.\n",
    "- `level`: The levels of the condos.\n",
    "- `unit_price`: The per square feet price of the property (in Singapore Dollars).\n",
    "- `date`: The date of the transaction. \n",
    "\n",
    "1. What is the average unit price of all **new sale freehold condos smaller than 2000 square feet**?\n",
    "\n",
    "**Solution:**"
   ]
  },
  {
   "cell_type": "code",
   "execution_count": 38,
   "metadata": {},
   "outputs": [
    {
     "data": {
      "text/plain": [
       "1437701.4945382024"
      ]
     },
     "execution_count": 38,
     "metadata": {},
     "output_type": "execute_result"
    }
   ],
   "source": [
    "df = pd.read_csv(r\"C:\\Users\\moses\\Desktop\\Y4S1\\DAO2702X\\Seminar 6\\properties.csv\")\n",
    "\n",
    "st.mean(df.loc[df['area'] < 2000, 'total_price'])"
   ]
  },
  {
   "cell_type": "markdown",
   "metadata": {},
   "source": [
    "2. Considering all **new sale freehold condos smaller than 2000 square feet**, use proper data visualization method to show how prices of condos in different regions, CCR, RCR, or OCR, are affected by their areas.\n",
    "\n",
    "**Solution:**"
   ]
  },
  {
   "cell_type": "code",
   "execution_count": 69,
   "metadata": {},
   "outputs": [
    {
     "name": "stderr",
     "output_type": "stream",
     "text": [
      "<ipython-input-69-664b5a38e573>:9: UserWarning: Boolean Series key will be reindexed to match DataFrame index.\n",
      "  df_CCR = df_less_2000[df['segment'] == 'CCR']\n",
      "<ipython-input-69-664b5a38e573>:10: UserWarning: Boolean Series key will be reindexed to match DataFrame index.\n",
      "  df_RCR = df_less_2000[df['segment'] == 'RCR']\n",
      "<ipython-input-69-664b5a38e573>:11: UserWarning: Boolean Series key will be reindexed to match DataFrame index.\n",
      "  df_OCR = df_less_2000[df['segment'] == 'OCR']\n"
     ]
    },
    {
     "data": {
      "image/png": "[encoded data removed]",
      "text/plain": [
       "<Figure size 432x288 with 1 Axes>"
      ]
     },
     "metadata": {
      "needs_background": "light"
     },
     "output_type": "display_data"
    },
    {
     "data": {
      "text/plain": [
       "<Figure size 288x72 with 0 Axes>"
      ]
     },
     "metadata": {},
     "output_type": "display_data"
    }
   ],
   "source": [
    "import matplotlib.pyplot as plt\n",
    "\n",
    "# cond1 = df['segment'] == 'CCR'\n",
    "# cond2 = df['segment'] == 'RCR'\n",
    "# cond3 = df['segment'] == 'OCR'\n",
    "# full_cond = cond1 | cond2 | cond3\n",
    "# len(df[full_cond])\n",
    "df_less_2000 = df.loc[df['area'] < 2000]\n",
    "df_CCR = df_less_2000[df['segment'] == 'CCR']\n",
    "df_RCR = df_less_2000[df['segment'] == 'RCR']\n",
    "df_OCR = df_less_2000[df['segment'] == 'OCR']\n",
    "\n",
    "plt.title(\"Price of property in relation to area\")\n",
    "plt.ylabel(\"Property Price\")\n",
    "plt.xlabel(\"Property Area\")\n",
    "plt.scatter(df_CCR.area, df_CCR.total_price, s = 0.1, color = 'red')\n",
    "plt.scatter(df_RCR.area, df_RCR.total_price, s = 0.1, color = 'blue')\n",
    "plt.scatter(df_RCR.area, df_RCR.total_price, s = 0.1, color = 'green')\n",
    "plt.legend(['CCR', 'RCR', 'OCR'])\n",
    "\n"
   ]
  },
  {
   "cell_type": "markdown",
   "metadata": {},
   "source": [
    "---"
   ]
  },
  {
   "cell_type": "markdown",
   "metadata": {},
   "source": [
    "## Question 3\n",
    "\n",
    "The prices of fifteen stocks between September 2021 and August 2021 are included in the data file 'stocks.csv'. "
   ]
  },
  {
   "cell_type": "code",
   "execution_count": 72,
   "metadata": {},
   "outputs": [
    {
     "data": {
      "text/html": [
       "<div>\n",
       "<style scoped>\n",
       "    .dataframe tbody tr th:only-of-type {\n",
       "        vertical-align: middle;\n",
       "    }\n",
       "\n",
       "    .dataframe tbody tr th {\n",
       "        vertical-align: top;\n",
       "    }\n",
       "\n",
       "    .dataframe thead th {\n",
       "        text-align: right;\n",
       "    }\n",
       "</style>\n",
       "<table border=\"1\" class=\"dataframe\">\n",
       "  <thead>\n",
       "    <tr style=\"text-align: right;\">\n",
       "      <th></th>\n",
       "      <th>JPM</th>\n",
       "      <th>XOM</th>\n",
       "      <th>CRM</th>\n",
       "      <th>AMZN</th>\n",
       "      <th>TSLA</th>\n",
       "      <th>TWTR</th>\n",
       "      <th>AAPL</th>\n",
       "      <th>ORCL</th>\n",
       "      <th>GOOG</th>\n",
       "      <th>ZM</th>\n",
       "      <th>MCD</th>\n",
       "      <th>NKE</th>\n",
       "      <th>SBUX</th>\n",
       "      <th>T</th>\n",
       "      <th>KO</th>\n",
       "    </tr>\n",
       "  </thead>\n",
       "  <tbody>\n",
       "    <tr>\n",
       "      <th>0</th>\n",
       "      <td>155.282562</td>\n",
       "      <td>51.443314</td>\n",
       "      <td>268.320007</td>\n",
       "      <td>173.949997</td>\n",
       "      <td>244.696671</td>\n",
       "      <td>65.550003</td>\n",
       "      <td>151.660172</td>\n",
       "      <td>88.562317</td>\n",
       "      <td>145.841995</td>\n",
       "      <td>290.859985</td>\n",
       "      <td>232.953491</td>\n",
       "      <td>163.017487</td>\n",
       "      <td>114.887390</td>\n",
       "      <td>18.961119</td>\n",
       "      <td>54.612629</td>\n",
       "    </tr>\n",
       "    <tr>\n",
       "      <th>1</th>\n",
       "      <td>156.002014</td>\n",
       "      <td>52.696636</td>\n",
       "      <td>264.149994</td>\n",
       "      <td>173.156006</td>\n",
       "      <td>244.130005</td>\n",
       "      <td>64.599998</td>\n",
       "      <td>152.793808</td>\n",
       "      <td>88.414650</td>\n",
       "      <td>144.218994</td>\n",
       "      <td>295.089996</td>\n",
       "      <td>234.635956</td>\n",
       "      <td>162.135849</td>\n",
       "      <td>114.809143</td>\n",
       "      <td>19.274929</td>\n",
       "      <td>54.689697</td>\n",
       "    </tr>\n",
       "    <tr>\n",
       "      <th>2</th>\n",
       "      <td>155.058945</td>\n",
       "      <td>52.495712</td>\n",
       "      <td>267.079987</td>\n",
       "      <td>173.902496</td>\n",
       "      <td>244.523331</td>\n",
       "      <td>64.660004</td>\n",
       "      <td>153.440186</td>\n",
       "      <td>88.611557</td>\n",
       "      <td>144.774994</td>\n",
       "      <td>298.290009</td>\n",
       "      <td>233.608871</td>\n",
       "      <td>161.759384</td>\n",
       "      <td>114.633080</td>\n",
       "      <td>19.219139</td>\n",
       "      <td>54.651161</td>\n",
       "    </tr>\n",
       "    <tr>\n",
       "      <th>3</th>\n",
       "      <td>154.786728</td>\n",
       "      <td>52.189560</td>\n",
       "      <td>265.209991</td>\n",
       "      <td>175.464493</td>\n",
       "      <td>250.973328</td>\n",
       "      <td>64.980003</td>\n",
       "      <td>155.816879</td>\n",
       "      <td>87.351303</td>\n",
       "      <td>145.518997</td>\n",
       "      <td>299.959991</td>\n",
       "      <td>231.036270</td>\n",
       "      <td>161.115479</td>\n",
       "      <td>113.263618</td>\n",
       "      <td>19.121511</td>\n",
       "      <td>53.630005</td>\n",
       "    </tr>\n",
       "    <tr>\n",
       "      <th>4</th>\n",
       "      <td>154.096451</td>\n",
       "      <td>51.711193</td>\n",
       "      <td>262.619995</td>\n",
       "      <td>176.274994</td>\n",
       "      <td>251.289993</td>\n",
       "      <td>62.270000</td>\n",
       "      <td>154.245682</td>\n",
       "      <td>88.089737</td>\n",
       "      <td>144.883499</td>\n",
       "      <td>293.600006</td>\n",
       "      <td>233.413239</td>\n",
       "      <td>159.203583</td>\n",
       "      <td>115.464531</td>\n",
       "      <td>19.247034</td>\n",
       "      <td>54.352516</td>\n",
       "    </tr>\n",
       "  </tbody>\n",
       "</table>\n",
       "</div>"
      ],
      "text/plain": [
       "          JPM        XOM         CRM        AMZN        TSLA       TWTR  \\\n",
       "0  155.282562  51.443314  268.320007  173.949997  244.696671  65.550003   \n",
       "1  156.002014  52.696636  264.149994  173.156006  244.130005  64.599998   \n",
       "2  155.058945  52.495712  267.079987  173.902496  244.523331  64.660004   \n",
       "3  154.786728  52.189560  265.209991  175.464493  250.973328  64.980003   \n",
       "4  154.096451  51.711193  262.619995  176.274994  251.289993  62.270000   \n",
       "\n",
       "         AAPL       ORCL        GOOG          ZM         MCD         NKE  \\\n",
       "0  151.660172  88.562317  145.841995  290.859985  232.953491  163.017487   \n",
       "1  152.793808  88.414650  144.218994  295.089996  234.635956  162.135849   \n",
       "2  153.440186  88.611557  144.774994  298.290009  233.608871  161.759384   \n",
       "3  155.816879  87.351303  145.518997  299.959991  231.036270  161.115479   \n",
       "4  154.245682  88.089737  144.883499  293.600006  233.413239  159.203583   \n",
       "\n",
       "         SBUX          T         KO  \n",
       "0  114.887390  18.961119  54.612629  \n",
       "1  114.809143  19.274929  54.689697  \n",
       "2  114.633080  19.219139  54.651161  \n",
       "3  113.263618  19.121511  53.630005  \n",
       "4  115.464531  19.247034  54.352516  "
      ]
     },
     "execution_count": 72,
     "metadata": {},
     "output_type": "execute_result"
    }
   ],
   "source": [
    "df = pd.read_csv(r\"C:\\Users\\moses\\Desktop\\Y4S1\\DAO2702X\\Seminar 6\\stocks.csv\")\n",
    "df.head()"
   ]
  },
  {
   "cell_type": "markdown",
   "metadata": {},
   "source": [
    "1. Visualize the price trend of ONE select stock. \n",
    "\n",
    "**Solution**:"
   ]
  },
  {
   "cell_type": "code",
   "execution_count": 135,
   "metadata": {},
   "outputs": [
    {
     "data": {
      "text/plain": [
       "Text(0.5, 1.0, 'TSLA Stock Prices')"
      ]
     },
     "execution_count": 135,
     "metadata": {},
     "output_type": "execute_result"
    },
    {
     "data": {
      "image/png": "[encoded data removed]",
      "text/plain": [
       "<Figure size 432x288 with 1 Axes>"
      ]
     },
     "metadata": {
      "needs_background": "light"
     },
     "output_type": "display_data"
    }
   ],
   "source": [
    "# Selected Tsla\n",
    "TSLA_prices = df['TSLA']\n",
    "\n",
    "TSLA_prices.shape\n",
    "\n",
    "plt.plot(tesla_prices, color = 'red')\n",
    "plt.ylabel(\"Stock Price\")\n",
    "plt.title(\"TSLA Stock Prices\")"
   ]
  },
  {
   "cell_type": "markdown",
   "metadata": {},
   "source": [
    "2. Calculate the daily return rate in percentage of each stock, and visualize the trend of the return rate of ONE stock.\n",
    "\n",
    "*Hint*: you could use the `stocks.pct_change()` method to calculate the rate of change between rows.\n",
    "\n",
    "**Solution**:"
   ]
  },
  {
   "cell_type": "code",
   "execution_count": 160,
   "metadata": {},
   "outputs": [
    {
     "name": "stdout",
     "output_type": "stream",
     "text": [
      "          JPM       XOM       CRM      AMZN      TSLA      TWTR      AAPL  \\\n",
      "0         NaN       NaN       NaN       NaN       NaN       NaN       NaN   \n",
      "1    0.004633  0.024363 -0.015541 -0.004564 -0.002316 -0.014493  0.007475   \n",
      "2   -0.006045 -0.003813  0.011092  0.004311  0.001611  0.000929  0.004230   \n",
      "3   -0.001756 -0.005832 -0.007002  0.008982  0.026378  0.004949  0.015489   \n",
      "4   -0.004460 -0.009166 -0.009766  0.004619  0.001262 -0.041705 -0.010084   \n",
      "..        ...       ...       ...       ...       ...       ...       ...   \n",
      "247  0.023748  0.005173 -0.033887  0.026009 -0.003456  0.006374  0.014923   \n",
      "248 -0.032729 -0.012312 -0.049911 -0.047567 -0.026953 -0.014373 -0.037699   \n",
      "249 -0.002442  0.022990 -0.030382 -0.007342 -0.011351 -0.010381 -0.013690   \n",
      "250  0.000175 -0.038054 -0.003371 -0.008167 -0.024998 -0.017982 -0.015305   \n",
      "251 -0.005944 -0.007476 -0.022233 -0.015226 -0.007526 -0.014496 -0.010635   \n",
      "\n",
      "         ORCL      GOOG        ZM       MCD       NKE      SBUX         T  \\\n",
      "0         NaN       NaN       NaN       NaN       NaN       NaN       NaN   \n",
      "1   -0.001667 -0.011128  0.014543  0.007222 -0.005408 -0.000681  0.016550   \n",
      "2    0.002227  0.003855  0.010844 -0.004377 -0.002322 -0.001534 -0.002894   \n",
      "3   -0.014222  0.005139  0.005599 -0.011012 -0.003981 -0.011946 -0.005080   \n",
      "4    0.008454 -0.004367 -0.021203  0.010288 -0.011867  0.019432  0.006564   \n",
      "..        ...       ...       ...       ...       ...       ...       ...   \n",
      "247  0.009453  0.026155  0.025236  0.006517  0.016246  0.015572  0.004442   \n",
      "248 -0.029132 -0.054375 -0.050280 -0.021366 -0.043632 -0.038105 -0.011056   \n",
      "249 -0.006162 -0.008625 -0.005036 -0.005020 -0.003694  0.000714 -0.006149   \n",
      "250 -0.000674 -0.003897  0.005185 -0.008488 -0.000185 -0.008440  0.002250   \n",
      "251  0.000135 -0.006915 -0.012528  0.000674 -0.013073  0.007913 -0.015713   \n",
      "\n",
      "           KO  \n",
      "0         NaN  \n",
      "1    0.001411  \n",
      "2   -0.000705  \n",
      "3   -0.018685  \n",
      "4    0.013472  \n",
      "..        ...  \n",
      "247  0.004817  \n",
      "248 -0.024122  \n",
      "249 -0.006021  \n",
      "250 -0.009246  \n",
      "251 -0.007080  \n",
      "\n",
      "[252 rows x 15 columns]\n"
     ]
    },
    {
     "data": {
      "text/plain": [
       "Text(0.5, 1.0, 'TSLA daily return rate')"
      ]
     },
     "execution_count": 160,
     "metadata": {},
     "output_type": "execute_result"
    },
    {
     "data": {
      "image/png": "[encoded data removed]",
      "text/plain": [
       "<Figure size 432x288 with 1 Axes>"
      ]
     },
     "metadata": {
      "needs_background": "light"
     },
     "output_type": "display_data"
    }
   ],
   "source": [
    "stocks_returns = df.pct_change()\n",
    "print(stocks_returns)\n",
    "\n",
    "TSLA_p_change = TSLA_prices.pct_change() * 100\n",
    "plt.plot(TSLA_p_change, color = 'brown')\n",
    "plt.ylabel(\"Returns in %\")\n",
    "plt.title(\"TSLA daily return rate\")"
   ]
  },
  {
   "cell_type": "markdown",
   "metadata": {},
   "source": [
    "3. What are the average values and variances of the daily return rates of these stocks?\n",
    "\n",
    "**Solution**:"
   ]
  },
  {
   "cell_type": "code",
   "execution_count": 162,
   "metadata": {},
   "outputs": [
    {
     "name": "stdout",
     "output_type": "stream",
     "text": [
      "JPM    -0.109114\n",
      "XOM     0.269631\n",
      "CRM    -0.177234\n",
      "AMZN   -0.087132\n",
      "TSLA    0.127347\n",
      "TWTR   -0.153277\n",
      "AAPL    0.033049\n",
      "ORCL   -0.049873\n",
      "GOOG   -0.092837\n",
      "ZM     -0.434619\n",
      "MCD     0.038536\n",
      "NKE    -0.146929\n",
      "SBUX   -0.102772\n",
      "T      -0.017299\n",
      "KO      0.052805\n",
      "dtype: float64\n",
      "JPM     0.000299\n",
      "XOM     0.000450\n",
      "CRM     0.000766\n",
      "AMZN    0.000777\n",
      "TSLA    0.001600\n",
      "TWTR    0.001159\n",
      "AAPL    0.000375\n",
      "ORCL    0.000429\n",
      "GOOG    0.000454\n",
      "ZM      0.001516\n",
      "MCD     0.000136\n",
      "NKE     0.000477\n",
      "SBUX    0.000435\n",
      "T       0.000275\n",
      "KO      0.000140\n",
      "dtype: float64\n"
     ]
    }
   ],
   "source": [
    "stocks_mean = stocks_returns.mean() * 100\n",
    "print(stocks_mean)\n",
    "\n",
    "stocks_var = stocks_returns.var()\n",
    "print(stocks_var)"
   ]
  },
  {
   "cell_type": "markdown",
   "metadata": {},
   "source": [
    "4. Visualize the risk-return trade-off, where the x-data are the standard deviations of return rates, and the y-data indicate the average return rates.\n",
    "\n",
    "**Solution**:"
   ]
  },
  {
   "cell_type": "code",
   "execution_count": 152,
   "metadata": {},
   "outputs": [
    {
     "data": {
      "text/plain": [
       "JPM    -0.109114\n",
       "XOM     0.269631\n",
       "CRM    -0.177234\n",
       "AMZN   -0.087132\n",
       "TSLA    0.127347\n",
       "TWTR   -0.153277\n",
       "AAPL    0.033049\n",
       "ORCL   -0.049873\n",
       "GOOG   -0.092837\n",
       "ZM     -0.434619\n",
       "MCD     0.038536\n",
       "NKE    -0.146929\n",
       "SBUX   -0.102772\n",
       "T      -0.017299\n",
       "KO      0.052805\n",
       "dtype: float64"
      ]
     },
     "execution_count": 152,
     "metadata": {},
     "output_type": "execute_result"
    }
   ],
   "source": [
    "y = stocks_mean\n"
   ]
  },
  {
   "cell_type": "markdown",
   "metadata": {},
   "source": [
    "Using the visualization from (4), add bubble sizes to indicate the average prices of these stocks.\n",
    "\n",
    "**Solution:**"
   ]
  },
  {
   "cell_type": "code",
   "execution_count": null,
   "metadata": {},
   "outputs": [],
   "source": []
  },
  {
   "cell_type": "markdown",
   "metadata": {},
   "source": [
    "5. Calculate the correlations between these stock prices. \n",
    "\n",
    "**Solution**:"
   ]
  },
  {
   "cell_type": "code",
   "execution_count": null,
   "metadata": {},
   "outputs": [],
   "source": []
  },
  {
   "cell_type": "markdown",
   "metadata": {},
   "source": [
    "6. Visualize the histogram of the return rate of ONE selected stock. \n",
    "\n",
    "**Solution**:"
   ]
  },
  {
   "cell_type": "code",
   "execution_count": null,
   "metadata": {},
   "outputs": [],
   "source": []
  },
  {
   "cell_type": "markdown",
   "metadata": {},
   "source": [
    "7. Moving average is a commonly used tool in analyzing stock markets. Pandas also provides a method called `rolling()` for calculating the moving average of a number of rows. For example, `stock.rolling(5).mean()` calculates the 5-day moving averages of the given stocks. Visualize the trend of the $k$-day moving average of ONE selected stock. You could explore how the trend is affected by different values of $k$. \n",
    "\n",
    "**Solution**:"
   ]
  },
  {
   "cell_type": "code",
   "execution_count": null,
   "metadata": {},
   "outputs": [],
   "source": []
  }
 ],
 "metadata": {
  "kernelspec": {
   "display_name": "base",
   "language": "python",
   "name": "python3"
  },
  "language_info": {
   "codemirror_mode": {
    "name": "ipython",
    "version": 3
   },
   "file_extension": ".py",
   "mimetype": "text/x-python",
   "name": "python",
   "nbconvert_exporter": "python",
   "pygments_lexer": "ipython3",
   "version": "3.8.5"
  },
  "varInspector": {
   "cols": {
    "lenName": 16,
    "lenType": 16,
    "lenVar": 40
   },
   "kernels_config": {
    "python": {
     "delete_cmd_postfix": "",
     "delete_cmd_prefix": "del ",
     "library": "var_list.py",
     "varRefreshCmd": "print(var_dic_list())"
    },
    "r": {
     "delete_cmd_postfix": ") ",
     "delete_cmd_prefix": "rm(",
     "library": "var_list.r",
     "varRefreshCmd": "cat(var_dic_list()) "
    }
   },
   "types_to_exclude": [
    "module",
    "function",
    "builtin_function_or_method",
    "instance",
    "_Feature"
   ],
   "window_display": false
  },
  "vscode": {
   "interpreter": {
    "hash": "00073238948e3e314995d1c989df02e5591cbd633de70172eca577de89016890"
   }
  }
 },
 "nbformat": 4,
 "nbformat_minor": 4
}
