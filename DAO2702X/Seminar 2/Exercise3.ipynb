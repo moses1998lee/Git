{
 "cells": [
  {
   "cell_type": "markdown",
   "id": "fe65c998",
   "metadata": {},
   "source": [
    "## Question 1\n",
    "\n",
    "1. What is the printed message of the code segment below?\n",
    "\n",
    "---\n",
    "```python\n",
    "a_string = 'abcdef'\n",
    "\n",
    "new_string = ''\n",
    "for letter in a_string:\n",
    "    new_string = new_string + letter\n",
    "    if letter == 'c':\n",
    "        break\n",
    "\n",
    "print(new_string)\n",
    "```\n",
    "---\n",
    "\n",
    "    A. ab\n",
    "    B. abc\n",
    "    C. abcd\n",
    "    D. abdefg\n",
    "\n",
    "<br>\n",
    "\n",
    "2. What is the printed message of the code segment below?\n",
    "\n",
    "---\n",
    "```python\n",
    "a = 2.4\n",
    "b = 2.0\n",
    "\n",
    "print(str(a)*2 if a <= 3 and b == 2.0 else str(b*2))\n",
    "```\n",
    "---\n",
    "\n",
    "    A. 22\n",
    "    B. 4.0\n",
    "    C. 2.42.4\n",
    "    D. 4.8"
   ]
  },
  {
   "cell_type": "code",
   "execution_count": 1,
   "id": "71298a39",
   "metadata": {},
   "outputs": [
    {
     "name": "stdout",
     "output_type": "stream",
     "text": [
      "abc\n"
     ]
    }
   ],
   "source": [
    "a_string = 'abcdef'\n",
    "\n",
    "new_string = ''\n",
    "for letter in a_string:\n",
    "    new_string = new_string + letter\n",
    "    if letter == 'c':\n",
    "        break\n",
    "\n",
    "print(new_string)"
   ]
  },
  {
   "cell_type": "code",
   "execution_count": 11,
   "id": "ede8a0b9",
   "metadata": {},
   "outputs": [
    {
     "name": "stdout",
     "output_type": "stream",
     "text": [
      "2.42.4\n"
     ]
    }
   ],
   "source": [
    "a = 2.4\n",
    "b = 2.0\n",
    "\n",
    "print(\n",
    "    str(a)*2 if a <= 3 and b == 2.0 \n",
    "    else str(b*2)\n",
    ")"
   ]
  },
  {
   "cell_type": "markdown",
   "id": "8a02142f",
   "metadata": {},
   "source": [
    "## Question 2\n",
    "\n",
    "Given a integer $n$, calculate the summation of all of its digits. For example, if the given integer is $n=2457$, then the summation is $2+4+5+7=18$.\n",
    "\n",
    "**Solution**:"
   ]
  },
  {
   "cell_type": "code",
   "execution_count": 2,
   "id": "950e0114",
   "metadata": {},
   "outputs": [
    {
     "name": "stdout",
     "output_type": "stream",
     "text": [
      "18\n"
     ]
    }
   ],
   "source": [
    "n = 2457\n",
    "sum_digits = 0\n",
    "\n",
    "while n > 0:\n",
    "    digit = n % 10\n",
    "    sum_digits = sum_digits + digit\n",
    "    n = n // 10\n",
    "    \n",
    "print(sum_digits)"
   ]
  },
  {
   "cell_type": "code",
   "execution_count": 3,
   "id": "847d4719",
   "metadata": {},
   "outputs": [
    {
     "name": "stdout",
     "output_type": "stream",
     "text": [
      "18\n"
     ]
    }
   ],
   "source": [
    "n = 2457\n",
    "str_n = str(n)\n",
    "\n",
    "sum_digits = 0\n",
    "\n",
    "for str_digit in str_n:\n",
    "    digit = int(str_digit)\n",
    "    sum_digits = sum_digits + digit\n",
    "\n",
    "print(sum_digits)"
   ]
  },
  {
   "cell_type": "markdown",
   "id": "1e82a852",
   "metadata": {},
   "source": [
    "## Question 3\n",
    "\n",
    "1. Write a program to check if the user is entering the correct password. You could define the the correct password to be an arbitrary string. If the user's input is the same as the password, the program prints \"Correct password\", otherwise, the program prints \"Incorrect password\" and ask the user to input the password again, until the correct password is given. \n",
    "\n",
    "**Solution**:"
   ]
  },
  {
   "cell_type": "code",
   "execution_count": 3,
   "id": "ba4a91cf",
   "metadata": {},
   "outputs": [
    {
     "name": "stdout",
     "output_type": "stream",
     "text": [
      "Enter password: fadf\n",
      "Incorrect password\n",
      "Enter password: dfadfdaf\n",
      "Incorrect password\n",
      "Enter password: dfda\n",
      "Incorrect password\n",
      "Enter password: sad\n",
      "Incorrect password\n",
      "Enter password: sad\n",
      "Incorrect password\n",
      "Enter password: sda\n",
      "Incorrect password\n",
      "Enter password: asd\n",
      "Incorrect password\n",
      "Enter password: sd\n",
      "Incorrect password\n",
      "Enter password: gbg\n",
      "Incorrect password\n",
      "Enter password: pass123\n",
      "Correct password\n"
     ]
    }
   ],
   "source": [
    "correct_password = 'pass123'\n",
    "\n",
    "input_password = input('Enter password: ')\n",
    "while input_password != correct_password:\n",
    "    print('Incorrect password')\n",
    "    input_password = input('Enter password: ')\n",
    "\n",
    "print('Correct password')"
   ]
  },
  {
   "cell_type": "markdown",
   "id": "e39f4991",
   "metadata": {},
   "source": [
    "2. Now modify the program such that 1) the user has at most three chances to key in the password; and 2) if the user have used up all three chances, the program prints \"Unauthorized user\".  "
   ]
  },
  {
   "cell_type": "code",
   "execution_count": 7,
   "id": "7f1bfc70",
   "metadata": {},
   "outputs": [
    {
     "name": "stdout",
     "output_type": "stream",
     "text": [
      "Enter password: 1\n",
      "Incorrect password\n",
      "Enter password: 2\n",
      "Incorrect password\n",
      "Enter password: pass123\n",
      "Correct password\n"
     ]
    }
   ],
   "source": [
    "correct_password = 'pass123'\n",
    "total_attempts = 0\n",
    "\n",
    "input_password = input('Enter password: ')\n",
    "while input_password != correct_password:\n",
    "    print('Incorrect password')\n",
    "    total_attempts = total_attempts + 1\n",
    "    if total_attempts == 3:\n",
    "        break\n",
    "    input_password = input('Enter password: ')\n",
    "        \n",
    "if total_attempts < 3:\n",
    "    print('Correct password')\n",
    "else:\n",
    "    print('Unauthorized user')"
   ]
  },
  {
   "cell_type": "markdown",
   "id": "0c5ad6ed",
   "metadata": {},
   "source": [
    "## Question 4\n",
    "\n",
    "1. Write a program with the inputs to be the time in terms of the 1) hours; 2) minutes; 3) seconds; and \"AM\" or \"PM\". The output is the number of seconds counted from 12:00:00 AM. Two examples are given as follows."
   ]
  },
  {
   "cell_type": "raw",
   "id": "beae8e8f",
   "metadata": {},
   "source": [
    "Hours:   3\n",
    "Minutes: 21\n",
    "Seconds: 26\n",
    "AM/PM:   AM\n",
    "Time:    12086s"
   ]
  },
  {
   "cell_type": "raw",
   "id": "bbced85e",
   "metadata": {},
   "source": [
    "Hours:   12\n",
    "Minutes: 0\n",
    "Seconds: 0\n",
    "AM/PM:   PM\n",
    "Time:    43200s"
   ]
  },
  {
   "cell_type": "raw",
   "id": "833cefa7",
   "metadata": {},
   "source": [
    "Hours:   12\n",
    "Minutes: 0\n",
    "Seconds: 0\n",
    "AM/PM:   AM\n",
    "Time:    0s"
   ]
  },
  {
   "cell_type": "markdown",
   "id": "df651b95",
   "metadata": {},
   "source": [
    "**Solution**:"
   ]
  },
  {
   "cell_type": "code",
   "execution_count": 2,
   "id": "0af3a47f",
   "metadata": {
    "scrolled": true
   },
   "outputs": [
    {
     "name": "stdout",
     "output_type": "stream",
     "text": [
      "Hours: 3\n",
      "Minutes: 21\n",
      "Seconds: 26\n",
      "AM/PM: AM\n",
      "Time: 12086s\n"
     ]
    }
   ],
   "source": [
    "str_hours = input('Hours: ')\n",
    "hours = int(str_hours)\n",
    "\n",
    "str_minutes = input('Minutes: ')\n",
    "minutes = int(str_minutes)\n",
    "\n",
    "str_seconds = input('Seconds: ')\n",
    "seconds = int(str_seconds)\n",
    "\n",
    "am_or_pm = input('AM/PM: ')\n",
    "is_pm = True if am_or_pm == 'PM' else False\n",
    "\n",
    "if hours == 12:\n",
    "    hours = 0\n",
    "total_seconds_from_12am = hours * 60 * 60 + minutes * 60 + seconds\n",
    "\n",
    "if is_pm:\n",
    "    total_seconds_from_12am = total_seconds_from_12am + 12 * 60 * 60\n",
    "\n",
    "print('Time: ' + str(total_seconds_from_12am) + 's')"
   ]
  },
  {
   "cell_type": "markdown",
   "id": "3065c089",
   "metadata": {},
   "source": [
    "## Question 5\n",
    "\n",
    "A factor of an integer $n$ is any number that divides $n$ without remainder. As an example, the factors of 10 are 1, 2, 5, and 10, because 10 can be evenly divided by all of these numbers without remainder. Write a program that prints all positive factors of a natural number. For example, if `n` is 10, then the program prints 1, 2, 5, and 10. If `n` is 13, then the program prints 1 and 13."
   ]
  },
  {
   "cell_type": "markdown",
   "id": "0f11c4b9",
   "metadata": {},
   "source": [
    "**Solution**:"
   ]
  },
  {
   "cell_type": "code",
   "execution_count": 1,
   "id": "a400cd73",
   "metadata": {
    "scrolled": true
   },
   "outputs": [
    {
     "name": "stdout",
     "output_type": "stream",
     "text": [
      "Enter natural number: 10\n",
      "1\n",
      "2\n",
      "5\n",
      "10\n"
     ]
    }
   ],
   "source": [
    "str_n = input('Enter natural number: ')\n",
    "n = int(str_n)\n",
    "for i in range(1, n + 1):\n",
    "    if n % i == 0:\n",
    "        print(i)"
   ]
  }
 ],
 "metadata": {
  "kernelspec": {
   "display_name": "python3",
   "language": "python",
   "name": "python3"
  },
  "language_info": {
   "codemirror_mode": {
    "name": "ipython",
    "version": 3
   },
   "file_extension": ".py",
   "mimetype": "text/x-python",
   "name": "python",
   "nbconvert_exporter": "python",
   "pygments_lexer": "ipython3",
   "version": "3.7.11"
  },
  "varInspector": {
   "cols": {
    "lenName": 16,
    "lenType": 16,
    "lenVar": 40
   },
   "kernels_config": {
    "python": {
     "delete_cmd_postfix": "",
     "delete_cmd_prefix": "del ",
     "library": "var_list.py",
     "varRefreshCmd": "print(var_dic_list())"
    },
    "r": {
     "delete_cmd_postfix": ") ",
     "delete_cmd_prefix": "rm(",
     "library": "var_list.r",
     "varRefreshCmd": "cat(var_dic_list()) "
    }
   },
   "types_to_exclude": [
    "module",
    "function",
    "builtin_function_or_method",
    "instance",
    "_Feature"
   ],
   "window_display": false
  }
 },
 "nbformat": 4,
 "nbformat_minor": 5
}
