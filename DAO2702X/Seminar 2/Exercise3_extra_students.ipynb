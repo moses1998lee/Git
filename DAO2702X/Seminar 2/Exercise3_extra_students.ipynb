{
 "cells": [
  {
   "cell_type": "markdown",
   "id": "94f99e97-4500-45dc-ad7b-914901ef5246",
   "metadata": {
    "tags": []
   },
   "source": [
    "## Question 1"
   ]
  },
  {
   "cell_type": "markdown",
   "id": "d20e8d2e-2c68-4b3a-9731-aaabbfc95aa6",
   "metadata": {},
   "source": [
    "1. Refer back to **Question 5** in **Exercise 3**. Modify your solution so that you print all positive factors of a natural number in the following sequence:\n",
    "\n",
    "```\n",
    "Smallest factor\n",
    "Largest factor\n",
    "2nd smallest factor\n",
    "2nd largest factor\n",
    "3rd smallest factor\n",
    "3rd largest factor\n",
    "...\n",
    "```\n",
    "\n",
    "For example, if n is 10, then the program prints\n",
    "```\n",
    "1\n",
    "10\n",
    "2\n",
    "5\n",
    "```\n",
    "\n",
    "**Solution:**"
   ]
  },
  {
   "cell_type": "code",
   "execution_count": null,
   "id": "99a80a5e-2583-43f3-880f-48dede14a617",
   "metadata": {},
   "outputs": [],
   "source": []
  },
  {
   "cell_type": "markdown",
   "id": "3236d6db-f44a-4a49-b0cc-0c22e420bb6c",
   "metadata": {},
   "source": [
    "2. Compare between the two solutions and discuss.\n",
    "\n",
    "**Solution:**"
   ]
  },
  {
   "cell_type": "code",
   "execution_count": null,
   "id": "38e3a51f-f618-46d0-beb5-a02cec384835",
   "metadata": {},
   "outputs": [],
   "source": []
  },
  {
   "cell_type": "markdown",
   "id": "6cc7c019-47ea-4e2a-bb2e-e343dbde21d0",
   "metadata": {},
   "source": [
    "---"
   ]
  },
  {
   "cell_type": "markdown",
   "id": "34f857c3-e26c-4a2d-b33d-9b26dfe951ea",
   "metadata": {},
   "source": [
    "## Question 2\n",
    "\n",
    "1. A bank pays 3% interest per year, at the end of every year. \n",
    "Jack has \\\\$10,000 in the bank at the start of year 2020 and withdraws $500 immediately after getting the interest at the end of every year. \n",
    "Draw a control flow (flowchart) that answers the question: \"Until the end of which year can his withdrawals last?\"\n",
    "\n",
    "**Solution**:"
   ]
  },
  {
   "cell_type": "code",
   "execution_count": null,
   "id": "c9d55193-5263-4cba-9808-55fa43f6572b",
   "metadata": {},
   "outputs": [],
   "source": []
  },
  {
   "cell_type": "markdown",
   "id": "e9d89f43-869e-40e5-a7bf-56c94a611900",
   "metadata": {},
   "source": [
    "2. Write the code for Jack to find out how until which year can his withdrawals last.\n",
    "\n",
    "**Solution**:"
   ]
  },
  {
   "cell_type": "code",
   "execution_count": null,
   "id": "9aca18bc-0e71-4821-aca2-0d4de1036f81",
   "metadata": {},
   "outputs": [],
   "source": []
  },
  {
   "cell_type": "markdown",
   "id": "ae01265b-404f-43a0-9c72-ef74ef4f3164",
   "metadata": {},
   "source": [
    "---"
   ]
  },
  {
   "cell_type": "markdown",
   "id": "5bc5d4c0-47a8-4913-ae4f-d21b2aad202f",
   "metadata": {},
   "source": [
    "## Question 3\n",
    "\n",
    "Solve **Example 5** or **Question 2** in **Lecture 3** using `while True` and `break`.\n",
    "\n",
    "**Solution**:"
   ]
  },
  {
   "cell_type": "code",
   "execution_count": null,
   "id": "0e96b527-b423-4049-9f6d-899a0e02ce4c",
   "metadata": {},
   "outputs": [],
   "source": []
  },
  {
   "cell_type": "markdown",
   "id": "432bcdd9-d584-45a6-ba98-d2962220ef38",
   "metadata": {},
   "source": [
    "---"
   ]
  },
  {
   "cell_type": "markdown",
   "id": "f786f493",
   "metadata": {},
   "source": [
    "## Question 4\n",
    "\n",
    "1. A prime number (or a prime) is a natural number greater than 1 that is not a product of two smaller natural numbers. A natural number greater than 1 that is not prime is called a composite number. For example, 5 is prime because the only ways of writing it as a product, 1 × 5 or 5 × 1, involve 5 itself. The number 4 is composite because it is a product (2 × 2) in which both numbers are smaller than 4.\n",
    "\n",
    "Write a program that tells if the natural number given by the users is a prime number or a composite number.\n",
    "\n",
    "*Hint: For a natural number `n`, you may create a for loop to check if it is divisible by a sequence of smaller natural numbers. Students may refer to **Question 5** in **Exercise 3***\n",
    "\n",
    "**Solution**:"
   ]
  },
  {
   "cell_type": "code",
   "execution_count": null,
   "id": "d4ee9fe0",
   "metadata": {},
   "outputs": [],
   "source": []
  },
  {
   "cell_type": "markdown",
   "id": "66589386-6fd5-410a-9a79-f2c2d4f23abf",
   "metadata": {},
   "source": [
    "2. Modify the program so that you use the `print` function only once.\n",
    "\n",
    "**Solution**:"
   ]
  },
  {
   "cell_type": "code",
   "execution_count": null,
   "id": "741c2ab6-7d06-433d-9d72-b475e12200ed",
   "metadata": {},
   "outputs": [],
   "source": []
  },
  {
   "cell_type": "markdown",
   "id": "1aa051b1-3e08-482b-bc9e-b35d0d236119",
   "metadata": {},
   "source": [
    "---"
   ]
  },
  {
   "cell_type": "markdown",
   "id": "bbbfee67-d474-44dc-b20a-7476e52b630f",
   "metadata": {},
   "source": [
    "## Question 5\n",
    "\n",
    "1. Given a natural number provided by the user, write a program to calculate the sum of the series of all integers not larger than itself.\n",
    "\n",
    "For example, for the number 3, its sum is  1 + 1 + 2 + 1 + 2 + 3 = 10.\n",
    "\n",
    "**Solution**"
   ]
  },
  {
   "cell_type": "code",
   "execution_count": null,
   "id": "8fd4c5e2-01b2-4f9b-b818-2eb08ebee12f",
   "metadata": {},
   "outputs": [],
   "source": []
  },
  {
   "cell_type": "markdown",
   "id": "c11843e1-559f-4eb4-be2f-d73b93944dd5",
   "metadata": {},
   "source": [
    "2. Is there a better solution to (1)?"
   ]
  },
  {
   "cell_type": "code",
   "execution_count": null,
   "id": "dfb4ce34-d2fe-474c-abf6-6d6f30f18a98",
   "metadata": {},
   "outputs": [],
   "source": []
  },
  {
   "cell_type": "markdown",
   "id": "9acb07fd-e87f-4081-85cf-44929cb27e80",
   "metadata": {},
   "source": [
    "3. Given a natural number provided by the user, write a program to calculate the sum of the factorial of all integers not larger than itself.\n",
    "\n",
    "For example, for the number 3, its sum is  1! + 2! + 3! = 9.\n",
    "\n",
    "*Hint: Students may refer to **1-2ExerciseSolution.ipynb** Question 5.2.*\n",
    "\n",
    "**Solution**"
   ]
  },
  {
   "cell_type": "code",
   "execution_count": null,
   "id": "04d7f6e3-25b3-4102-adf8-f84904b1f9fe",
   "metadata": {},
   "outputs": [],
   "source": []
  },
  {
   "cell_type": "code",
   "execution_count": null,
   "id": "8bd4b2a6-3ba0-49c3-8841-850c4ef7bfcd",
   "metadata": {},
   "outputs": [],
   "source": []
  },
  {
   "cell_type": "markdown",
   "id": "3387bcd5-321c-471f-ac94-df1dafb8b1d7",
   "metadata": {},
   "source": [
    "4. Is there another solution other than (1) and (2)?"
   ]
  },
  {
   "cell_type": "code",
   "execution_count": null,
   "id": "f16867d4-02a6-4de2-b868-67186b31c71a",
   "metadata": {},
   "outputs": [],
   "source": []
  }
 ],
 "metadata": {
  "kernelspec": {
   "display_name": "python3",
   "language": "python",
   "name": "python3"
  },
  "language_info": {
   "codemirror_mode": {
    "name": "ipython",
    "version": 3
   },
   "file_extension": ".py",
   "mimetype": "text/x-python",
   "name": "python",
   "nbconvert_exporter": "python",
   "pygments_lexer": "ipython3",
   "version": "3.7.11"
  },
  "varInspector": {
   "cols": {
    "lenName": 16,
    "lenType": 16,
    "lenVar": 40
   },
   "kernels_config": {
    "python": {
     "delete_cmd_postfix": "",
     "delete_cmd_prefix": "del ",
     "library": "var_list.py",
     "varRefreshCmd": "print(var_dic_list())"
    },
    "r": {
     "delete_cmd_postfix": ") ",
     "delete_cmd_prefix": "rm(",
     "library": "var_list.r",
     "varRefreshCmd": "cat(var_dic_list()) "
    }
   },
   "types_to_exclude": [
    "module",
    "function",
    "builtin_function_or_method",
    "instance",
    "_Feature"
   ],
   "window_display": false
  }
 },
 "nbformat": 4,
 "nbformat_minor": 5
}
