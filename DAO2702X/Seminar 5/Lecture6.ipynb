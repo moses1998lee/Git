{
 "cells": [
  {
   "cell_type": "markdown",
   "metadata": {},
   "source": [
    "# Lecture 6: Functions, Modules, and Packages\n",
    "\n",
    "## Contents\n",
    "- [Functions](#section1)\n",
    "    - [Review of some built-in functions](#subsection1.1)\n",
    "    - [Create a function](#subsection1.2)\n",
    "    - [Function arguments and outputs](#subsection1.3)\n",
    "    - [Scopes and namespaces](#subsection1.4)\n",
    "    - [Leap of faith](#subsection1.5)\n",
    "- [Modules](#section2)\n",
    "    - [Introduction to modules](#subsection2.1)\n",
    "    - [Syntax of importing modules](#subsection2.2)\n",
    "- [Packages](#section3)\n",
    "    - [Introduction to packages](#subsection3.1)\n",
    "    - [Syntax of import packages](#subsection3.2)\n",
    "    - [Package information](#subsection3.3)\n",
    "- [Matplotlib: Data Visualization in Python](#section4)\n",
    "    - [Functions for data visualization](#subsection4.1)\n",
    "    - [Configuration of plots and figures](#subsection4.2)"
   ]
  },
  {
   "cell_type": "markdown",
   "metadata": {},
   "source": [
    "  "
   ]
  },
  {
   "cell_type": "markdown",
   "metadata": {},
   "source": [
    "## Functions <a id=\"section1\"></a>\n",
    "### Review of some built-in functions <a id=\"subsection1.1\"></a>\n",
    "The general idea of calling functions is illustrated as follows.\n",
    "\n",
    "<img src=\"https://github.com/XiongPengNUS/dao_resources/blob/main/call_function.jpeg?raw=true\" width=650>\n",
    "\n",
    "Based on the user-specified <b><code><i>input arguments</i></code></b>, the function returns the <b><code><i>outputs</i></code></b> that can be used to define variables in assignment statements.\n",
    "\n",
    "In previous lectures, we have seen many functions and methods. You may have noticed that these functions or methods behave differently, and according to the way they behave, we can group them into two categories:\n",
    "\n",
    "1.  The function **returns** some outputs, and the outputs are typically used in assignment statement. Examples are the type conversion functions `int()`, `float()`, and `str()`, or strings methods `lower()`, `upper()`, and list method `pop()`, etc. "
   ]
  },
  {
   "cell_type": "code",
   "execution_count": 1,
   "metadata": {
    "scrolled": true
   },
   "outputs": [
    {
     "name": "stdout",
     "output_type": "stream",
     "text": [
      "2.0\n"
     ]
    }
   ],
   "source": [
    "result = float(2)       # Function float returns 2.0 as the output\n",
    "print(result)"
   ]
  },
  {
   "cell_type": "code",
   "execution_count": 2,
   "metadata": {
    "scrolled": true
   },
   "outputs": [
    {
     "name": "stdout",
     "output_type": "stream",
     "text": [
      "ABC\n"
     ]
    }
   ],
   "source": [
    "result = 'abc'.upper()  # String method upper returns 'ABC' as the output\n",
    "print(result)"
   ]
  },
  {
   "cell_type": "code",
   "execution_count": 3,
   "metadata": {},
   "outputs": [
    {
     "name": "stdout",
     "output_type": "stream",
     "text": [
      "6\n"
     ]
    }
   ],
   "source": [
    "result = sum([1, 2, 3]) # Function sum returns 6 as the output\n",
    "print(result)"
   ]
  },
  {
   "cell_type": "code",
   "execution_count": 4,
   "metadata": {},
   "outputs": [
    {
     "name": "stdout",
     "output_type": "stream",
     "text": [
      "3\n"
     ]
    }
   ],
   "source": [
    "x = [1, 2, 3]\n",
    "result = x.pop(2)       # Function pop returns the removed item as the output\n",
    "print(result)"
   ]
  },
  {
   "cell_type": "markdown",
   "metadata": {},
   "source": [
    "2. The function returns no output. Examples are function `print()` and list methods `append()`, `insert()`, `extend()`, etc. "
   ]
  },
  {
   "cell_type": "code",
   "execution_count": 5,
   "metadata": {
    "scrolled": true
   },
   "outputs": [
    {
     "name": "stdout",
     "output_type": "stream",
     "text": [
      "Hello!\n"
     ]
    }
   ],
   "source": [
    "print('Hello!')         # Print the message without returning any output"
   ]
  },
  {
   "cell_type": "code",
   "execution_count": 6,
   "metadata": {},
   "outputs": [
    {
     "name": "stdout",
     "output_type": "stream",
     "text": [
      "[1, 2, 3, 4]\n"
     ]
    }
   ],
   "source": [
    "x = [1, 2, 3]\n",
    "x.append(4)             # Append items to a list without returning any output\n",
    "print(x)"
   ]
  },
  {
   "cell_type": "markdown",
   "metadata": {},
   "source": [
    "If we place these functions on the right-hand-side of assignment statement, we will receive a special value `None` as the result. The type of the `None` object is `NoneType`."
   ]
  },
  {
   "cell_type": "code",
   "execution_count": 7,
   "metadata": {
    "scrolled": false
   },
   "outputs": [
    {
     "name": "stdout",
     "output_type": "stream",
     "text": [
      "What?\n",
      "None\n",
      "<class 'NoneType'>\n"
     ]
    }
   ],
   "source": [
    "result = print('What?')\n",
    "\n",
    "print(result)               # The returned value of the print function is None\n",
    "print(type(result))         # The data type of None is NoneType"
   ]
  },
  {
   "cell_type": "markdown",
   "metadata": {},
   "source": [
    "When we see the function output is `None`, then we know there is no result returned by this function. \n",
    "\n",
    "### Create a function <a id=\"subsection1.2\"></a>\n",
    "\n",
    "<div class=\"alert alert-block alert-success\">\n",
    "<b>Example 1:</b> A group of four visitors are going to Singapore Zoo. Their ages are 11, 36, 37, and 67, respectively. Determine the ticket prices for these visitors. \n",
    "</div>"
   ]
  },
  {
   "cell_type": "code",
   "execution_count": 8,
   "metadata": {
    "scrolled": true
   },
   "outputs": [
    {
     "name": "stdout",
     "output_type": "stream",
     "text": [
      "28 41 41 18\n"
     ]
    }
   ],
   "source": [
    "# Visitor 1\n",
    "age1 = 11\n",
    "if age1 < 3:\n",
    "    ticket1 = 0\n",
    "elif age1 <= 12:\n",
    "    ticket1 = 28\n",
    "elif age1 < 60:\n",
    "    ticket1 = 41\n",
    "else:\n",
    "    ticket1 = 18\n",
    "\n",
    "# Visitor 2\n",
    "age2 = 36\n",
    "if age2 < 3:\n",
    "    ticket2 = 0\n",
    "elif age2 <= 12:\n",
    "    ticket2 = 28\n",
    "elif age2 < 60:\n",
    "    ticket2 = 41\n",
    "else:\n",
    "    ticket2 = 18\n",
    "\n",
    "# Visitor 3\n",
    "age3 = 37\n",
    "if age3 < 3:\n",
    "    ticket3 = 0\n",
    "elif age3 <= 12:\n",
    "    ticket3 = 28\n",
    "elif age3 < 60:\n",
    "    ticket3 = 41\n",
    "else:\n",
    "    ticket3 = 18\n",
    "\n",
    "# Visitor 4\n",
    "age4 = 67\n",
    "if age4 < 3:\n",
    "    ticket4 = 0\n",
    "elif age4 <= 12:\n",
    "    ticket4 = 28\n",
    "elif age4 < 60:\n",
    "    ticket4 = 41\n",
    "else:\n",
    "    ticket4 = 18\n",
    "\n",
    "# Print the ticket prices for all visitors\n",
    "print(ticket1, ticket2, ticket3, ticket4)"
   ]
  },
  {
   "cell_type": "markdown",
   "metadata": {},
   "source": [
    "In the example above, the same calculation procedure is repeated four times. In real applications, such code is considered extremely inefficient. A more efficient way of coding is to write the repeated segments as a function, so that the segment can be repeatedly used, and the program is more concise, readable, and is easier to debug and maintain.\n",
    "\n",
    "The syntax of creating a function is listed below:\n",
    "- Key word `def` is used to start the definition of a function.\n",
    "- A function name followed by input argument(s) enclosed in parentheses.\n",
    "- Do not forget the colon.\n",
    "- Indentions are used to indicate the body of the function.\n",
    "- Use the key word `return` to define the function outputs. The returned value is `None` if no output is specified.\n",
    "\n",
    "<img src=\"https://github.com/XiongPengNUS/dao_resources/blob/main/def_function.jpeg?raw=true\" width=750>\n",
    "\n",
    "Following the syntax rules, we define a function named `zoo_ticket` below to calculate the ticket price for Singapore Zoo."
   ]
  },
  {
   "cell_type": "code",
   "execution_count": 9,
   "metadata": {},
   "outputs": [],
   "source": [
    "def zoo_ticket(age):\n",
    "    \"\"\"The function zoo_ticket calculates the \n",
    "    Singapore Zoo ticket prices for visitors\"\"\"\n",
    "    \n",
    "    if age < 3:\n",
    "        ticket = 0\n",
    "    elif age <= 12:\n",
    "        ticket = 28\n",
    "    elif age < 60:\n",
    "        ticket = 41\n",
    "    else:\n",
    "        ticket = 18\n",
    "    \n",
    "    return ticket   "
   ]
  },
  {
   "cell_type": "markdown",
   "metadata": {},
   "source": [
    "Once we have run the code cell above, we can run the function or \"call\" the function to do the designed tasks."
   ]
  },
  {
   "cell_type": "code",
   "execution_count": 10,
   "metadata": {},
   "outputs": [
    {
     "data": {
      "text/plain": [
       "28"
      ]
     },
     "execution_count": 10,
     "metadata": {},
     "output_type": "execute_result"
    }
   ],
   "source": [
    "age1 = 11                   # Age of the 1st visitor\n",
    "ticket1 = zoo_ticket(age1)  # Ticket price for the 1st visitor\n",
    "ticket1"
   ]
  },
  {
   "cell_type": "markdown",
   "metadata": {},
   "source": [
    "The logic of calling the function can be summarized as:\n",
    "- In `ticket1 = zoo_ticket(age1)` the value `age1=11` is passed to the input argument `age`, which is used for computing <code>ticket</code> inside of the function. \n",
    "- The value of `ticket` is defined to be the output of the function by the <code>return</code> statement.\n",
    "- The output of the function is passed to the variable `ticket1` on the left-hand-side of the assignment statement.\n",
    "\n",
    "As a result, all ticket prices can be calculated by the following code cells."
   ]
  },
  {
   "cell_type": "code",
   "execution_count": 11,
   "metadata": {},
   "outputs": [
    {
     "name": "stdout",
     "output_type": "stream",
     "text": [
      "28 41 41 18\n"
     ]
    }
   ],
   "source": [
    "age1 = 11                   # Age of the 1st visitor\n",
    "ticket1 = zoo_ticket(age1)  # Ticket price for the 1st visitor\n",
    "\n",
    "age2 = 36                   # Age of the 2nd visitor\n",
    "ticket2 = zoo_ticket(age2)  # Ticket price for the 2nd visitor\n",
    "\n",
    "age3 = 37                   # Age of the 3rd visitor\n",
    "ticket3 = zoo_ticket(age3)  # Ticket price for the 3rd visitor\n",
    "\n",
    "age4 = 67                   # Age of the 4th visitor\n",
    "ticket4 = zoo_ticket(age4)  # Ticket price for the 4th visitor\n",
    "\n",
    "print(ticket1, ticket2, ticket3, ticket4)"
   ]
  },
  {
   "cell_type": "markdown",
   "metadata": {},
   "source": [
    "Equivalently, we may print the results as follows."
   ]
  },
  {
   "cell_type": "code",
   "execution_count": 12,
   "metadata": {
    "scrolled": true
   },
   "outputs": [
    {
     "name": "stdout",
     "output_type": "stream",
     "text": [
      "28 41 41 18\n"
     ]
    }
   ],
   "source": [
    "print(zoo_ticket(11), zoo_ticket(36), zoo_ticket(37), zoo_ticket(67))"
   ]
  },
  {
   "cell_type": "markdown",
   "metadata": {},
   "source": [
    "<div class=\"alert alert-block alert-danger\">\n",
    "<b>Notes:</b>  \n",
    "    A function terminates at <span style='font-family:Courier'><b>return</b></span>. After hitting the <span style='font-family:Courier'><b>return</b></span>, the remaining code in the function will not be executed. \n",
    "</div>\n",
    "\n",
    "<div class=\"alert alert-block alert-success\">\n",
    "<b>Extra Example:</b>  \n",
    "    The <span style='font-family:Courier'><b>zoo_ticket</b></span> function is rewritten as follows to illustrate how a function terminates at <span style='font-family:Courier'><b>return</b></span>.\n",
    "</div>"
   ]
  },
  {
   "cell_type": "code",
   "execution_count": 13,
   "metadata": {},
   "outputs": [],
   "source": [
    "def zoo_ticket_new(age):\n",
    "    \"\"\"\n",
    "    The function zoo_ticket_new is equivalent \n",
    "    to the function zoo_ticket\n",
    "    \"\"\"\n",
    "    \n",
    "    if age < 3:\n",
    "        return 0\n",
    "    \n",
    "    if age <= 12:\n",
    "        return 28    \n",
    "    \n",
    "    if age < 60:\n",
    "        return 41\n",
    "        \n",
    "    return 18"
   ]
  },
  {
   "cell_type": "markdown",
   "metadata": {},
   "source": [
    "The logic behind is:\n",
    "- If the input argument `age` is smaller than 3, the function ends at the first `return`, with 0 to be the output.\n",
    "- If the input argument `age` is between 3 and 12, then the first `return` is skipped, and the function ends at the second `return`, with 23 to be the output.\n",
    "- If the input argument `age` is larger than 12 and no larger than 60, then the first two `return`s are skipped due to the `False` conditions, and the function ends at the third `return`, with 35 to be the output. \n",
    "- If the input argument `age` is over 60, all three boolean conditions are `False`, and we return 16 eventually as the output. \n",
    "\n",
    "That is why we can get the same results by calling the function `zoo_ticket_new()`."
   ]
  },
  {
   "cell_type": "code",
   "execution_count": 14,
   "metadata": {},
   "outputs": [
    {
     "name": "stdout",
     "output_type": "stream",
     "text": [
      "28 41 41 18\n"
     ]
    }
   ],
   "source": [
    "print(zoo_ticket_new(11), zoo_ticket_new(36), zoo_ticket_new(37), zoo_ticket_new(67))"
   ]
  },
  {
   "cell_type": "markdown",
   "metadata": {},
   "source": [
    "From the example above, we may see the benefits of using functions instead of repeated code segments:\n",
    "- It promotes the reuse of code. Any upgrades of the function apply to everywhere it is called. \n",
    "- It is easier to debug, since we only need to test one function separately, instead of examining every repeated code segment.\n",
    "- The program is more readable, as a whole block of code is replaced by a function with a name that describes itself. The readability can be further improved by the \"docstring\", introduced as follows.\n",
    "\n",
    "<div class=\"alert alert-block alert-warning\">\n",
    "    <b>Coding Style:</b> At the beginning of each function, there is a string within triple quotation marks, called a <b>docstring</b>. It is used to explain how the function behaves. Style of the docstring can be found in <a href=\"https://www.python.org/dev/peps/pep-0257/\">PEP 257 Docstring Conventions</a> \n",
    "</div>"
   ]
  },
  {
   "cell_type": "code",
   "execution_count": 15,
   "metadata": {
    "scrolled": false
   },
   "outputs": [
    {
     "name": "stdout",
     "output_type": "stream",
     "text": [
      "Help on function zoo_ticket in module __main__:\n",
      "\n",
      "zoo_ticket(age)\n",
      "    The function zoo_ticket calculates the \n",
      "    Singapore Zoo ticket prices for visitors\n",
      "\n"
     ]
    }
   ],
   "source": [
    "help(zoo_ticket)"
   ]
  },
  {
   "cell_type": "markdown",
   "metadata": {},
   "source": [
    "### Function arguments and outputs <a id=\"subsection1.3\"></a>\n",
    "\n",
    "In the previous example, the function has only one input argument and one output. In this section, we consider cases where functions take multiple input arguments or return more than one output.  \n",
    "\n",
    "For multiple input arguments, we can simply list them as comma-separated variables in the parentheses following the function name. When calling the functions, Python provides flexible ways to pass arguments to functions. For instance, **positional arguments** can be passed to functions in the same order that arguments are written, and **keyword arguments** associate argument values with the variable names. \n",
    "\n",
    "<div class=\"alert alert-block alert-success\">\n",
    "<b>Example 2:</b> Write a function to summarize the information of students registered for Python BA course. The input arguments are student's name, age, gender, faculty, and year of enrollment. The output is a dictionary. \n",
    "</div>"
   ]
  },
  {
   "cell_type": "code",
   "execution_count": 16,
   "metadata": {},
   "outputs": [],
   "source": [
    "def student_info(name, age, gender, faculty, year):\n",
    "    \"This function summarizes student info. into a dictionary\"\n",
    "    \n",
    "    info_dict = {'name': name,\n",
    "                 'age': age,\n",
    "                 'gender': gender,\n",
    "                 'faculty': faculty,\n",
    "                 'year': year}\n",
    "    \n",
    "    return info_dict"
   ]
  },
  {
   "cell_type": "code",
   "execution_count": 17,
   "metadata": {
    "scrolled": true
   },
   "outputs": [
    {
     "data": {
      "text/plain": [
       "{'name': 'Jane Doe',\n",
       " 'age': 20,\n",
       " 'gender': 'F',\n",
       " 'faculty': 'Business',\n",
       " 'year': 2019}"
      ]
     },
     "execution_count": 17,
     "metadata": {},
     "output_type": "execute_result"
    }
   ],
   "source": [
    "student = student_info('Jane Doe', 20, 'F', 'Business', 2019)\n",
    "\n",
    "student"
   ]
  },
  {
   "cell_type": "markdown",
   "metadata": {},
   "source": [
    "In this case, each argument is passed to the function according to their positions in the definition of the function, so they are called **positional**. \n",
    "\n",
    "Besides matching the order of arguments, Python also allows passing arguments according to the keywords of the arguments, as shown by the following code."
   ]
  },
  {
   "cell_type": "code",
   "execution_count": 18,
   "metadata": {},
   "outputs": [
    {
     "data": {
      "text/plain": [
       "{'name': 'Jane Doe',\n",
       " 'age': 20,\n",
       " 'gender': 'F',\n",
       " 'faculty': 'Business',\n",
       " 'year': 2019}"
      ]
     },
     "execution_count": 18,
     "metadata": {},
     "output_type": "execute_result"
    }
   ],
   "source": [
    "student = student_info('Jane Doe', 20,                              # Positional arguments\n",
    "                       year=2019, faculty='Business', gender='F')   # Keyword arguments\n",
    "student"
   ]
  },
  {
   "cell_type": "markdown",
   "metadata": {},
   "source": [
    "In the example above, the last three arguments use a a name-value pair that to pass argument to the function, so they are called **keyword arguments**. Because the keywords are sufficient to match the arguments and their values, the order of arguments could be arbitrary. The first two arguments, however, are still **positional** since no keyword is given, so they must follow the given order.\n",
    "\n",
    "<div class=\"alert alert-block alert-danger\">\n",
    "<b>Notes:</b>  \n",
    "    In Python programming, all positional arguments must be specified before keyword arguments, otherwise there will be an error message.  \n",
    "</div>\n",
    "\n",
    "<div class=\"alert alert-block alert-warning\">\n",
    "<b>Notes:</b>  \n",
    "    Do not use spaces around the equal sign while specifying keyword arguments, as suggested by <a href=\"https://www.python.org/dev/peps/pep-0008/#imports\">PEP 8 Style Guide</a>.  \n",
    "</div>\n",
    "\n",
    "Such flexible ways of passing arguments are particularly useful when some arguments are assigned to default values. For example, most students in Python BA course are enrolled in 2019, and are from Business School. As a result, \"2019\" and \"Business\" could be used as the default values of these two arguments, and there is no need to specify them every time we call the function, except for a few special cases. The modified function with default arguments is given as follows."
   ]
  },
  {
   "cell_type": "code",
   "execution_count": 19,
   "metadata": {},
   "outputs": [],
   "source": [
    "def student_info(name, age, gender, faculty='Business', year=2019):\n",
    "    \"This function summarizes student info. into a dictionary\"\n",
    "    \n",
    "    info_dict = {'name': name,\n",
    "                 'age': age,\n",
    "                 'gender': gender,\n",
    "                 'faculty': faculty,\n",
    "                 'year': year}\n",
    "    \n",
    "    return info_dict"
   ]
  },
  {
   "cell_type": "markdown",
   "metadata": {},
   "source": [
    "We may then call the function as the following command."
   ]
  },
  {
   "cell_type": "code",
   "execution_count": 20,
   "metadata": {},
   "outputs": [
    {
     "data": {
      "text/plain": [
       "{'name': 'Jane Doe',\n",
       " 'age': 20,\n",
       " 'gender': 'F',\n",
       " 'faculty': 'Business',\n",
       " 'year': 2019}"
      ]
     },
     "execution_count": 20,
     "metadata": {},
     "output_type": "execute_result"
    }
   ],
   "source": [
    "student = student_info('Jane Doe', 20, 'F') \n",
    "\n",
    "student"
   ]
  },
  {
   "cell_type": "markdown",
   "metadata": {},
   "source": [
    "In cases where the year of enrollment is not 2019, we can simply use keyword argument to specify the year, without giving the vlaue of <code>faculty</code>. "
   ]
  },
  {
   "cell_type": "code",
   "execution_count": 21,
   "metadata": {
    "scrolled": false
   },
   "outputs": [
    {
     "data": {
      "text/plain": [
       "{'name': 'John Doe',\n",
       " 'age': 20,\n",
       " 'gender': 'M',\n",
       " 'faculty': 'Business',\n",
       " 'year': 2020}"
      ]
     },
     "execution_count": 21,
     "metadata": {},
     "output_type": "execute_result"
    }
   ],
   "source": [
    "student = student_info('John Doe', 20, 'M', year=2020) \n",
    "\n",
    "student"
   ]
  },
  {
   "cell_type": "markdown",
   "metadata": {},
   "source": [
    "If you are not sure about the arguments and their default values, you may use the command `help()` to display such information, as the example below."
   ]
  },
  {
   "cell_type": "code",
   "execution_count": 22,
   "metadata": {},
   "outputs": [
    {
     "name": "stdout",
     "output_type": "stream",
     "text": [
      "Help on function student_info in module __main__:\n",
      "\n",
      "student_info(name, age, gender, faculty='Business', year=2019)\n",
      "    This function summarizes student info. into a dictionary\n",
      "\n"
     ]
    }
   ],
   "source": [
    "help(student_info)"
   ]
  },
  {
   "cell_type": "markdown",
   "metadata": {},
   "source": [
    "The use of keyword arguments would be greatly helpful when there are many input arguments. It simplifies the passing of default arguments, and improves the readability of the program.\n",
    "\n",
    "We are also able to define a function that returns multiple outputs. See the example below.\n",
    "\n",
    "<div class=\"alert alert-block alert-success\">\n",
    "<b>Example 3:</b> Besides the dictionary of student's information, the <span style='font-family:Courier'><b>student_info()</b></span> function is modified to also returns the email of the student, which is in the format of \"&#60first name&#62_&#60last name&#62_&#60faculty&#62@u.nus.edu.sg\", with all letters to be lower case. \n",
    "</div>"
   ]
  },
  {
   "cell_type": "code",
   "execution_count": 23,
   "metadata": {},
   "outputs": [],
   "source": [
    "def student_info(name, age, gender, faculty='Business', year=2019):\n",
    "    \"\"\"\n",
    "    This function summarizes student info. into a dictionary and\n",
    "    return the generated email for the student.\n",
    "    \"\"\"\n",
    "    \n",
    "    info_dict = {'name': name,\n",
    "                 'age': age,\n",
    "                 'gender': gender,\n",
    "                 'faculty': faculty,\n",
    "                 'year': year}\n",
    "    \n",
    "    lower_name = name.lower().replace(' ', '_')\n",
    "    lower_faculty = faculty.lower()\n",
    "    email = '{}_{}@u.nus.edu.sg'.format(lower_name, lower_faculty) \n",
    "    \n",
    "    return info_dict, email"
   ]
  },
  {
   "cell_type": "code",
   "execution_count": 24,
   "metadata": {},
   "outputs": [
    {
     "data": {
      "text/plain": [
       "{'name': 'Jane Doe',\n",
       " 'age': 20,\n",
       " 'gender': 'F',\n",
       " 'faculty': 'Business',\n",
       " 'year': 2019}"
      ]
     },
     "execution_count": 24,
     "metadata": {},
     "output_type": "execute_result"
    }
   ],
   "source": [
    "student1, email1 = student_info('Jane Doe', 20, 'F') \n",
    "student1"
   ]
  },
  {
   "cell_type": "code",
   "execution_count": 25,
   "metadata": {},
   "outputs": [
    {
     "data": {
      "text/plain": [
       "'jane_doe_business@u.nus.edu.sg'"
      ]
     },
     "execution_count": 25,
     "metadata": {},
     "output_type": "execute_result"
    }
   ],
   "source": [
    "email1"
   ]
  },
  {
   "cell_type": "code",
   "execution_count": 26,
   "metadata": {
    "scrolled": true
   },
   "outputs": [
    {
     "data": {
      "text/plain": [
       "{'name': 'Sam Lee',\n",
       " 'age': 21,\n",
       " 'gender': 'M',\n",
       " 'faculty': 'Engineering',\n",
       " 'year': 2019}"
      ]
     },
     "execution_count": 26,
     "metadata": {},
     "output_type": "execute_result"
    }
   ],
   "source": [
    "student2, email2 = student_info('Sam Lee', 21, 'M', 'Engineering') \n",
    "\n",
    "student2"
   ]
  },
  {
   "cell_type": "code",
   "execution_count": 27,
   "metadata": {},
   "outputs": [
    {
     "data": {
      "text/plain": [
       "'sam_lee_engineering@u.nus.edu.sg'"
      ]
     },
     "execution_count": 27,
     "metadata": {},
     "output_type": "execute_result"
    }
   ],
   "source": [
    "email2"
   ]
  },
  {
   "cell_type": "markdown",
   "metadata": {},
   "source": [
    "### Scopes and namespaces <a id=\"susection1.4\"></a>\n",
    "A namespace is a collection of names. It maps names to corresponding objects. Python is similar to other programming languages, where one variable name typically only associates with one object. However, the same name can be used if they refer to objects in different **scopes**. For example, the same name can be used to define variables in different functions.\n",
    "\n",
    "Python has three layers of scopes: local, global, and built-in. \n",
    "- A variable declared inside the function's body is known as a local variable. \n",
    "- A variable declared outside of the function is known as a global variable. Global variable can be accessed inside or outside of the function.\n",
    "- A keyword predefined in Python, such as `len`, `str` and `type`. These keywords are highlighted by green letters in Jupyter notebook.\n",
    "\n",
    "<div class=\"alert alert-block alert-success\">\n",
    "<b>Example 4:</b> A group of four visitors are going to Singapore Zoo. Their ages are given in a list <span style='font-family:Courier'><b>age</b></span>. Use the function <span style='font-family:Courier'><b>zoo_ticket()</b></span> defined above to create a list named <span style='font-family:Courier'><b>ticket</b></span>, which provides the corresponding ticket prices. \n",
    "</div>"
   ]
  },
  {
   "cell_type": "code",
   "execution_count": 28,
   "metadata": {},
   "outputs": [
    {
     "name": "stdout",
     "output_type": "stream",
     "text": [
      "[28, 41, 41, 18]\n"
     ]
    }
   ],
   "source": [
    "age = [11, 36, 37, 67]\n",
    "\n",
    "def zoo_ticket(age):\n",
    "    \"\"\"The function zoo_ticket calculates the \n",
    "    Singapore Zoo ticket prices for visitors\"\"\"\n",
    "    \n",
    "    if age < 3:\n",
    "        ticket = 0\n",
    "    elif age <= 12:\n",
    "        ticket = 28\n",
    "    elif age < 60:\n",
    "        ticket = 41\n",
    "    else:\n",
    "        ticket = 18\n",
    "    \n",
    "    return ticket   \n",
    "\n",
    "ticket = [zoo_ticket(item) for item in age]\n",
    "print(ticket)"
   ]
  },
  {
   "cell_type": "markdown",
   "metadata": {},
   "source": [
    "In this example, you may notice that the same names `age` and `ticket` are used to represent different objects:\n",
    "- **Global scope:** outside of the definition of function `zoo_ticket()`:\n",
    "    - `age` is a list that contains four integers 11, 36, 37, and 67.\n",
    "    - `ticket` is a list that contains the four ticket prices.\n",
    "- **Local scope:** inside of the definition of function `zoo_ticket()`:\n",
    "    - `age` is the input argument of the function `zoo_ticket()`, and it is a number indicating the age of a visitor.\n",
    "    - `ticket` is an integer representing the zoo ticket price given the visitor's age.\n",
    "\n",
    "Python allows the same name to be used for multiple objects without causing any conflicts, if these names are defined in different scopes. This feature makes it easy for us to manage the namespace, when naming different variables or functions. \n",
    "\n",
    "<div class=\"alert alert-block alert-warning\">\n",
    "<b>Coding Style:</b> Avoid redefining build-in functions and keywords!\n",
    "</div>\n",
    "\n",
    "### Leap of Faith <a id=\"subsection1.5\"></a>\n",
    "\n",
    "> *Following the flow of execution is one way to read programs, but it can quickly become labyrinthine. An alternative is what I call the “leap of faith.” When you come to a function call, instead of following the flow of execution, you assume that the function works correctly\n",
    "and returns the right result.* -  **Thinking Python**\n",
    "\n",
    "In fact, we have already been practicing the leap of faith when using various built-in functions. We do not examine or question the correctness while calling built-in functions like `sum()`, `len()`, and many others, because we believe they are written by good programers. \n",
    "\n",
    "The same idea should also be applied to the case of our own functions. Once we have convinced ourselves that this function is correct—by examining the code and testing—we can use the function without looking at the body again."
   ]
  },
  {
   "cell_type": "markdown",
   "metadata": {},
   "source": [
    "  "
   ]
  },
  {
   "cell_type": "markdown",
   "metadata": {},
   "source": [
    "## Modules <a id=\"section2\"></a>\n",
    "\n",
    "### Introduction to modules <a id=\"subsection2.1\"></a>\n",
    "\n",
    "A module is a \".py\" file that defines functions, classes, variables, or simply contains some runnable code. \n",
    "\n",
    "> *The text of this book is organized in a hierarchy: words, sentences, paragraphs, and chapters. Otherwise, it would be unreadable after a page or two. Code has a roughly similar bottom-up organization: data types are like words, statements are like sentences, functions are like paragraphs, and modules are like chapters.* -  **Introducing Python**\n",
    "\n",
    "The benefits of using modules include:\n",
    "\n",
    "- Code reuse.\n",
    "- System namespace partitioning\n",
    "- Implementing shared services or data\n",
    "\n",
    "### Syntax of importing modules <a id=\"subsection2.2\"></a>\n",
    "The syntax of referring to objects in modules is demonstrated by the following example.\n",
    "\n",
    "<div class=\"alert alert-block alert-success\">\n",
    "    <b>Example 5:</b> Use functions <span style='font-family:Courier'><b>mean()</b></span> and <span style='font-family:Courier'><b>variance()</b></span> from the module <span style='font-family:Courier'><b>statistics</b></span> to calculate the sample average and the sample variance of numbers in a list.\n",
    "</div>"
   ]
  },
  {
   "cell_type": "code",
   "execution_count": 29,
   "metadata": {
    "scrolled": true
   },
   "outputs": [
    {
     "name": "stdout",
     "output_type": "stream",
     "text": [
      "2.583333333333333\n",
      "2.1816666666666666\n"
     ]
    }
   ],
   "source": [
    "import statistics\n",
    "\n",
    "numbers = [0.5, 1.2, 3.8, 2.4, 4.1, 3.5]\n",
    "\n",
    "print(statistics.mean(numbers))\n",
    "print(statistics.variance(numbers))"
   ]
  },
  {
   "cell_type": "markdown",
   "metadata": {},
   "source": [
    "In the example above, the module is imported to our program by the keyword <code>import</code>, followed by the module name. Objects from modules can be called via the syntax <b><code><i>module_name.object_name</i></code></b>. \n",
    "\n",
    "Python also enables users to give an alias to the imported module by using the keyword <code>as</code>, as shown by the example below."
   ]
  },
  {
   "cell_type": "code",
   "execution_count": 30,
   "metadata": {},
   "outputs": [
    {
     "name": "stdout",
     "output_type": "stream",
     "text": [
      "2.583333333333333\n",
      "2.1816666666666666\n"
     ]
    }
   ],
   "source": [
    "import statistics as st\n",
    "\n",
    "numbers = [0.5, 1.2, 3.8, 2.4, 4.1, 3.5]\n",
    "\n",
    "print(st.mean(numbers))\n",
    "print(st.variance(numbers))"
   ]
  },
  {
   "cell_type": "markdown",
   "metadata": {},
   "source": [
    "It is common practice to use local names for imported modules in order to keep the program neat and concise. \n",
    "\n",
    "If you feel it is stil too troublesome to type the module name, you may use the following syntax with the keyword <code>from</code> and the symbol <code>*</code>."
   ]
  },
  {
   "cell_type": "code",
   "execution_count": 31,
   "metadata": {},
   "outputs": [
    {
     "name": "stdout",
     "output_type": "stream",
     "text": [
      "2.583333333333333\n",
      "2.1816666666666666\n"
     ]
    }
   ],
   "source": [
    "from statistics import *\n",
    "\n",
    "numbers = [0.5, 1.2, 3.8, 2.4, 4.1, 3.5]\n",
    "\n",
    "print(mean(numbers))\n",
    "print(variance(numbers))"
   ]
  },
  {
   "cell_type": "markdown",
   "metadata": {},
   "source": [
    "This case imports everything from the module <code>statistics</code>, so there is no need to refer to the name of the module, and functions or other objects can be directly called. \n",
    "\n",
    "<div class=\"alert alert-block alert-warning\">\n",
    "<b>Coding Style:</b> It is usually not recommended to import everything from a module to omit the module name, as the code above. The reason is that different modules may have variables, functions, or classes with the same names that may cause conflicts in namespaces. It is preferred to use a module name for a better management of namespaces.\n",
    "</div>\n",
    "\n",
    "The keyword <code>from</code> can be applied in the following way to better control program namespaces."
   ]
  },
  {
   "cell_type": "code",
   "execution_count": 32,
   "metadata": {
    "scrolled": true
   },
   "outputs": [
    {
     "name": "stdout",
     "output_type": "stream",
     "text": [
      "2.583333333333333\n",
      "2.1816666666666666\n"
     ]
    }
   ],
   "source": [
    "from statistics import mean as me\n",
    "from statistics import variance as var\n",
    "\n",
    "numbers = [0.5, 1.2, 3.8, 2.4, 4.1, 3.5]\n",
    "\n",
    "print(me(numbers))\n",
    "print(var(numbers))"
   ]
  },
  {
   "cell_type": "markdown",
   "metadata": {},
   "source": [
    "In this case, we can also use the keyword <code>as</code> to rename the imported objects. This method is usually used to avoid name conflicts, or to change a long name into a shorter one. \n",
    "\n",
    "The `import` statement defines names for functions, data structures, or other types of objects. The idea is similar to defining variables or functions in Python. "
   ]
  },
  {
   "cell_type": "markdown",
   "metadata": {},
   "source": [
    "  "
   ]
  },
  {
   "cell_type": "markdown",
   "metadata": {},
   "source": [
    "## Packages <a id=\"section3\"></a>\n",
    "\n",
    "### Introduction to packages <a id=\"subsection3.1\"></a>\n",
    "A package is a collection (folder) of modules and other supporting files, like images and user guide documents. The third-party packages developed by other programmers could help us to greatly simplify our coding works. The syntax of importing and using packages is very similar to modules. \n",
    "\n",
    "External Python package must be installed (only once) before we can import and use them. The ways of installing these package may vary, depending on how they are shared online. A commonly used platform is PyPI (The Python Package Index), and software packages share over PyPI can be installed by running the command\n",
    "\n",
    "<code>!pip install <i>package_name</i></code>\n",
    "\n",
    "in your Jupyter Notebook. Because most data analytics and visualization packages are already integrated in Anaconda, we can often skip the installation step.\n",
    "\n",
    "### Syntax of importing packages <a id=\"subsection3.2\"></a>\n",
    "\n",
    "In addition to a module name, an `import` statement can also refer to a directory path, which specify a package. In Python, we are using the `.` operator to indicate the directory hierarchy that leads to the module or object. A few examples of importing packages are provided below."
   ]
  },
  {
   "cell_type": "code",
   "execution_count": 33,
   "metadata": {},
   "outputs": [],
   "source": [
    "import pandas as pd\n",
    "import matplotlib.pyplot as plt\n",
    "\n",
    "from numpy import random\n",
    "from scipy.stats import norm\n",
    "from scipy.stats import binom"
   ]
  },
  {
   "cell_type": "markdown",
   "metadata": {},
   "source": [
    "<div class=\"alert alert-block alert-warning\">\n",
    "<b>Coding Style:</b> \n",
    "  <li>Import different modules and packages in separate lines</li>\n",
    "  <li>Place import statements at the top of the code file</li>\n",
    "</div>"
   ]
  },
  {
   "cell_type": "markdown",
   "metadata": {},
   "source": [
    "### Package information <a id=\"subsection3.3\"></a>\n",
    "- Package documents\n",
    "- Run `help()` to display the docstring\n",
    "- Google keywords for examples"
   ]
  },
  {
   "cell_type": "markdown",
   "metadata": {},
   "source": [
    " "
   ]
  },
  {
   "cell_type": "markdown",
   "metadata": {},
   "source": [
    "## Matplotlib: Data Visualization with Python\n",
    "\n",
    "Matplotlib is a comprehensive library for creating static, animated, and interactive visualizations in Python. The syntax of Matplotlib is straightforward and relatively simpler, and once you are familiar with this package, you could explore other data visualization packages, such as [plotly](https://plotly.com/) and [seaborn](https://seaborn.pydata.org/).\n",
    "\n",
    "The code cell below shows the standard way of importing data visualization tools from the Matplotlib package. "
   ]
  },
  {
   "cell_type": "code",
   "execution_count": 34,
   "metadata": {},
   "outputs": [],
   "source": [
    "import matplotlib.pyplot as plt"
   ]
  },
  {
   "cell_type": "markdown",
   "metadata": {},
   "source": [
    "Here, `matplotlib.pyplot` is a collection of functions used for creating various types of data visuals. It is typically renamed as `plt`, and this name will be used in our subsequent code segments.\n",
    "\n",
    "### Functions for data visualization\n",
    "\n",
    "Among many graphs and visuals for displaying data information, we will focus on\n",
    "\n",
    "1. Line plots\n",
    "2. Bar chart\n",
    "3. Scatter plots\n",
    "\n",
    "in this section because they work for the majority of your needs. These data visuals can also be created in very similar ways, as demonstrated by the next example.\n",
    "\n",
    "<div class=\"alert alert-block alert-success\">\n",
    "    <b>Example 6:</b> The dictionary <span style='font-family:Courier'><b>rates</b></span> provides the rates of return (ROR) of the stock prices of Facebook and Google during the first six months of 2021. The other dictionary <span style='font-family:Courier'><b>volumes</b></span> provides the volumes of trading of these two stocks over the same time horizon. Visualize the trend of the return rates of these two stocks. \n",
    "</div>"
   ]
  },
  {
   "cell_type": "code",
   "execution_count": 35,
   "metadata": {},
   "outputs": [],
   "source": [
    "rates = {'FB': [-5.43, -0.27, 14.33, 10.37, 1.12, 5.77],\n",
    "         'GOOG': [4.79, 10.96, 1.56, 16.51, 0.06, 3.93]}\n",
    "\n",
    "volumes = {'FB': [452.63, 317.78, 497.42, 421.26, 353.42, 344.81],\n",
    "           'GOOG': [33.08, 29.43, 34.79, 30.72, 25.46, 27.43]}\n",
    "\n",
    "months = ['Jan', 'Feb', 'Mar', 'Apr', 'May', 'Jun']"
   ]
  },
  {
   "cell_type": "code",
   "execution_count": 36,
   "metadata": {},
   "outputs": [],
   "source": [
    "name = 'FB'"
   ]
  },
  {
   "cell_type": "markdown",
   "metadata": {},
   "source": [
    "We can use the `plot()` function to create line plots for depicting the continuous trend of stock return rates. The input arguments of the `plot()` function are the x and y coordinates."
   ]
  },
  {
   "cell_type": "code",
   "execution_count": 37,
   "metadata": {
    "scrolled": true
   },
   "outputs": [
    {
     "data": {
      "image/png": "[encoded data removed]",
      "text/plain": [
       "<Figure size 432x288 with 1 Axes>"
      ]
     },
     "metadata": {
      "needs_background": "light"
     },
     "output_type": "display_data"
    }
   ],
   "source": [
    "rate = rates[name]\n",
    "\n",
    "plt.plot(months, rate)             # Create a line plot \n",
    "plt.xlabel('Months')               # Specify the x-label\n",
    "plt.ylabel('Rate of return (%)')   # Specify the y-label\n",
    "plt.show()                         # Show the graph and suppress the Out message"
   ]
  },
  {
   "cell_type": "markdown",
   "metadata": {},
   "source": [
    "In addition, we can use the `bar()` function to create bar chart for showing the discrete values of stock return rates. The input arguments are the x-coordinates and the heights of bars. "
   ]
  },
  {
   "cell_type": "code",
   "execution_count": 38,
   "metadata": {
    "scrolled": false
   },
   "outputs": [
    {
     "data": {
      "image/png": "[encoded data removed]",
      "text/plain": [
       "<Figure size 432x288 with 1 Axes>"
      ]
     },
     "metadata": {
      "needs_background": "light"
     },
     "output_type": "display_data"
    }
   ],
   "source": [
    "rate = rates[name]\n",
    "\n",
    "plt.bar(months, rate)              # Create a bar chart\n",
    "plt.xlabel('Months')               # Specify the x-label\n",
    "plt.ylabel('Rate of return (%)')   # Specify the y-label \n",
    "plt.show()                         # Show the graph and suppress the Out message"
   ]
  },
  {
   "cell_type": "markdown",
   "metadata": {},
   "source": [
    "Finally, we can use the `scatter()` function to create scatter plots of the given data. Besides specifying the x and y coordinates using the first two input arguments, we can also use the third argument to specify the bubble sizes. In the code cell below, the bubble sizes are specified to be the traded volumes of the selected stock. "
   ]
  },
  {
   "cell_type": "code",
   "execution_count": 39,
   "metadata": {
    "scrolled": true
   },
   "outputs": [
    {
     "data": {
      "image/png": "[encoded data removed]",
      "text/plain": [
       "<Figure size 432x288 with 1 Axes>"
      ]
     },
     "metadata": {
      "needs_background": "light"
     },
     "output_type": "display_data"
    }
   ],
   "source": [
    "rate = rates[name]\n",
    "volume = volumes[name]\n",
    "\n",
    "plt.scatter(months, rate, volume)  # Create a scatter plot\n",
    "plt.xlabel('Months')               # Specify the x-label\n",
    "plt.ylabel('Rate of return (%)')   # Specify the y-label\n",
    "plt.show()                         # Show the graph and suppress the Out message"
   ]
  },
  {
   "cell_type": "markdown",
   "metadata": {},
   "source": [
    "There could be multiple plot components in the same chart, as shown by the following code segment, where the line plot is used to visualize the continuous trend of return rates, and the bubbles are added to indicate the traded volumes of the stock. "
   ]
  },
  {
   "cell_type": "code",
   "execution_count": 40,
   "metadata": {
    "scrolled": true
   },
   "outputs": [
    {
     "data": {
      "image/png": "[encoded data removed]",
      "text/plain": [
       "<Figure size 432x288 with 1 Axes>"
      ]
     },
     "metadata": {
      "needs_background": "light"
     },
     "output_type": "display_data"
    }
   ],
   "source": [
    "rate = rates[name]\n",
    "volume = volumes[name]\n",
    "\n",
    "plt.plot(months, rate)\n",
    "plt.scatter(months, rate, volume)\n",
    "plt.xlabel('Months')\n",
    "plt.ylabel('Rate of return (%)')\n",
    "plt.show()"
   ]
  },
  {
   "cell_type": "markdown",
   "metadata": {},
   "source": [
    "### Configuration of plots and figures\n",
    "\n",
    "In real applications, we often need to adjust some attributes of a plot, such as the color and style of lines, size and opacity of scattered dots, or the width or bars. Such attributes are typically (and more conveniently) specified by keyword arguments in calling visualization functions. Information on keywords and default values of these arguments can be accessed by the `help()` function. \n",
    "\n",
    "Take the `plot()` function for example, we may use arguments like `color`, `linestyle`, `linewidth`, and `markers` to specify the color, style, width, and marker, respectively, of the line plot. Besides, we can use the argument `label` to attach a label for the plot component, so that the label will appear in the legend of the graph, as the `legend()` function is called. "
   ]
  },
  {
   "cell_type": "code",
   "execution_count": 41,
   "metadata": {
    "scrolled": false
   },
   "outputs": [
    {
     "data": {
      "image/png": "[encoded data removed]",
      "text/plain": [
       "<Figure size 432x288 with 1 Axes>"
      ]
     },
     "metadata": {
      "needs_background": "light"
     },
     "output_type": "display_data"
    }
   ],
   "source": [
    "plt.plot(months, rates['FB'],\n",
    "         color='b', linestyle='--', linewidth=1.5, marker='s',\n",
    "         label='Facebook')\n",
    "plt.plot(months, rates['GOOG'],\n",
    "         color='r', linestyle='-.', linewidth=1.5, marker='o',\n",
    "         label='Google')\n",
    "plt.xlabel('Months')\n",
    "plt.ylabel('Rate of return (%)')\n",
    "plt.legend(fontsize=12)\n",
    "plt.show()"
   ]
  },
  {
   "cell_type": "markdown",
   "metadata": {},
   "source": [
    "A few commonly used keyword arguments for specifying plot features are listed in the table below.\n",
    "\n",
    "Plot feature | Argument keyword | Plot function\n",
    ":-----------|:---------------|:-------------\n",
    "Color | `color` | `plot()`, `bar()`, `scatter()` \n",
    "Opacity | `alpha` | `plot()`, `bar()`, `scatter()` \n",
    "Marker shape | `marker` | `plot()`, `scatter()`\n",
    "Line style | `linestyle` | `plot()`\n",
    "Line width | `linewidth` | `plot()`\n",
    "Bar width | `width` | `bar()`\n",
    "\n",
    "\n",
    "Besides the attributes of plots, we may also adjust other features of the graph, as shown below.\n",
    "\n",
    "<img src=\"https://github.com/XiongPengNUS/dao_resources/blob/main/figure_features.png?raw=true\" width=600>\n",
    "\n",
    "The following figure is used to demonstrate how to specify some of these features. "
   ]
  },
  {
   "cell_type": "code",
   "execution_count": 42,
   "metadata": {
    "scrolled": true
   },
   "outputs": [
    {
     "data": {
      "image/png": "[encoded data removed]",
      "text/plain": [
       "<Figure size 576x324 with 1 Axes>"
      ]
     },
     "metadata": {
      "needs_background": "light"
     },
     "output_type": "display_data"
    }
   ],
   "source": [
    "plt.figure(figsize=(8, 4.5))                                    # Specify the size of the figure\n",
    "plt.plot(months, rates['FB'], \n",
    "         color='b', linewidth=1.5, label='ROR of Facebook')     # Create a line plot\n",
    "plt.scatter(months, rates['FB'], s=volumes['FB'], \n",
    "            color='b', alpha=0.5, label='Volume of Facebook')   # Create a scatter plot\n",
    "plt.plot(months, rates['GOOG'], \n",
    "         color='r', linewidth=1.5, label='ROR of Google')       # Create a line plot\n",
    "plt.scatter(months, rates['GOOG'], s=volumes['GOOG'], \n",
    "            color='r', alpha=0.5, label='Volume of Google')     # Create a scatter plot\n",
    "plt.title('Time Trend of Stock Returns', fontsize=14)           # Create a title and specify its font size\n",
    "plt.legend(loc='upper left', fontsize=12)                       # Specify the legend\n",
    "plt.ylim([-10, 35])                                             # Specify the range of the y-axis\n",
    "plt.xlabel('Months', fontsize=12)                               # Specify the x-label and its font size\n",
    "plt.ylabel('Rate of return (%)', fontsize=12)                   # Specify the y-label and its font size\n",
    "plt.xticks(fontsize=10)                                         # Specify the font size of the x-ticks\n",
    "plt.yticks(fontsize=10)                                         # Specify the font size of the y-ticks\n",
    "plt.grid()                                                      # Display the grid lines\n",
    "plt.show()                                                      # Show the graph and suppress the Out message"
   ]
  }
 ],
 "metadata": {
  "kernelspec": {
   "display_name": "Python 3 (ipykernel)",
   "language": "python",
   "name": "python3"
  },
  "language_info": {
   "codemirror_mode": {
    "name": "ipython",
    "version": 3
   },
   "file_extension": ".py",
   "mimetype": "text/x-python",
   "name": "python",
   "nbconvert_exporter": "python",
   "pygments_lexer": "ipython3",
   "version": "3.9.13"
  },
  "varInspector": {
   "cols": {
    "lenName": 16,
    "lenType": 16,
    "lenVar": 40
   },
   "kernels_config": {
    "python": {
     "delete_cmd_postfix": "",
     "delete_cmd_prefix": "del ",
     "library": "var_list.py",
     "varRefreshCmd": "print(var_dic_list())"
    },
    "r": {
     "delete_cmd_postfix": ") ",
     "delete_cmd_prefix": "rm(",
     "library": "var_list.r",
     "varRefreshCmd": "cat(var_dic_list()) "
    }
   },
   "types_to_exclude": [
    "module",
    "function",
    "builtin_function_or_method",
    "instance",
    "_Feature"
   ],
   "window_display": false
  }
 },
 "nbformat": 4,
 "nbformat_minor": 2
}
