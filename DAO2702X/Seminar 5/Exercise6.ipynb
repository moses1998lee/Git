{
 "cells": [
  {
   "cell_type": "markdown",
   "id": "8feadfec",
   "metadata": {},
   "source": [
    "## Question 1\n",
    "\n",
    "1. We define a function `func()` below.\n",
    "\n",
    "```python\n",
    "####################\n",
    "def func(x, y):\n",
    "\n",
    "    if x <= y:\n",
    "        return x, y\n",
    "    elif x > 2*y:\n",
    "        return y\n",
    "####################\n",
    "```\n",
    "\n",
    "The function `func()` is then called in the following code cell.\n",
    "\n",
    "```python\n",
    "####################\n",
    "x, y = 1.6, 2\n",
    "z = func(y, y=x)\n",
    "####################\n",
    "```\n",
    "\n",
    "What is the data type of the function output `z`?\n",
    "\n",
    "    A. tuple\n",
    "    B. int\n",
    "    C. NoneType\n",
    "    D. An error message\n",
    "    \n",
    "**Solution:**"
   ]
  },
  {
   "cell_type": "code",
   "execution_count": null,
   "id": "155197d3",
   "metadata": {},
   "outputs": [],
   "source": []
  },
  {
   "cell_type": "markdown",
   "id": "d3874b21",
   "metadata": {},
   "source": [
    "---"
   ]
  },
  {
   "cell_type": "markdown",
   "id": "f57491d5",
   "metadata": {},
   "source": [
    "2. The function `pie()` imported from the `matplotlib.pyplot` package is used to draw pie graphs.\n",
    "\n",
    "```python\n",
    "####################\n",
    "import matplotlib.pyplot as plt\n",
    "help(plt.pie)\n",
    "####################\n",
    "```\n",
    "\n",
    "```\n",
    "Help on function pie in module matplotlib.pyplot:\n",
    "\n",
    "pie(x, explode=None, labels=None, colors=None, autopct=None, pctdistance=0.6, shadow=False, labeldistance=1.1, startangle=None, radius=None, counterclock=True, wedgeprops=None, textprops=None, center=(0, 0), frame=False, rotatelabels=False, *, data=None)\n",
    "……\n",
    "Parameters\n",
    "    ----------\n",
    "    x : array-like\n",
    "        The wedge sizes.\n",
    "    \n",
    "    explode : array-like, optional, default: None\n",
    "        If not *None*, is a ``len(x)`` array which specifies the fraction\n",
    "        of the radius with which to offset each wedge.\n",
    "    \n",
    "    labels : list, optional, default: None\n",
    "        A sequence of strings providing the labels for each wedge\n",
    "    \n",
    "    colors : array-like, optional, default: None\n",
    "        A sequence of matplotlib color args through which the pie chart\n",
    "        will cycle.  If *None*, will use the colors in the currently\n",
    "        active cycle.\n",
    "……\n",
    "```\n",
    "\n",
    "You are given:\n",
    "\n",
    "```python\n",
    "####################\n",
    "grades = [0.02, 0.08, 0.15, 0.25, 0.2, 0.15, 0.15]\n",
    "labels = ['A+', 'A', 'A-', 'B+', 'B', 'B-', 'C']\n",
    "####################\n",
    "```\n",
    "\n",
    "Which of the following code is correct in drawing a pie without shadows, where:\n",
    "- the wedge sizes are specified by the list `grades`,\n",
    "- the labels are specified by the list `labels`, and\n",
    "- the explode distance is `[0.1]*7`.\n",
    "\n",
    "    A.\n",
    "```python\n",
    "plt.pie(x=grades, [0.1]*7, shadow=False, labels=labels)\n",
    "plt.show()  \n",
    "```\n",
    "\n",
    "    B.\n",
    "```python\n",
    "plt.pie(labels=labels, grades, [0.1]*7, shadow=False)\n",
    "plt.show()\n",
    "```\n",
    "\n",
    "    C.\n",
    "```python\n",
    "plt.pie(labels=labels, x=grades, explode=[0.1]*7)\n",
    "plt.show()\n",
    "```\n",
    "\n",
    "    D.\n",
    "```python\n",
    "plt.pie(grades, [0.1]*7, labels, False)\n",
    "plt.show()\n",
    "```\n",
    "\n",
    "**Solution:**"
   ]
  },
  {
   "cell_type": "code",
   "execution_count": null,
   "id": "1b420c47-7f86-41e7-b00a-22b462abd02c",
   "metadata": {},
   "outputs": [],
   "source": []
  },
  {
   "cell_type": "markdown",
   "id": "2024b740",
   "metadata": {},
   "source": [
    "---"
   ]
  },
  {
   "cell_type": "markdown",
   "id": "87edf37e",
   "metadata": {},
   "source": [
    "## Question 2\n",
    "\n",
    "1. Write a program that creates a list of all leap years between 1000 (inclusive) and 2500 (inclusive).\n",
    "\n",
    "**Solution**:"
   ]
  },
  {
   "cell_type": "code",
   "execution_count": null,
   "id": "cbfe12cf",
   "metadata": {
    "scrolled": true
   },
   "outputs": [],
   "source": []
  },
  {
   "cell_type": "code",
   "execution_count": null,
   "id": "fd84fc90",
   "metadata": {},
   "outputs": [],
   "source": []
  },
  {
   "cell_type": "markdown",
   "id": "ffe9b6fd",
   "metadata": {},
   "source": [
    "2. Write a program that creates a list of all years such that:\n",
    "    - These years are between 1000 (inclusive) and 2500 (inclusive).\n",
    "    - These years must have the summation of their digits to be 10. \n",
    "\n",
    "*Hint: You may make use of the built-in `str()` and `int()` functions.*\n",
    "\n",
    "For example, 2224 is such a year because the summation of all digits is 2 + 2 + 2 + 4 = 10.\n",
    "\n",
    "**Solution**:"
   ]
  },
  {
   "cell_type": "code",
   "execution_count": null,
   "id": "49de67c8",
   "metadata": {},
   "outputs": [],
   "source": []
  },
  {
   "cell_type": "code",
   "execution_count": null,
   "id": "20d0c944-d2e4-46bd-b445-e90be24431d5",
   "metadata": {},
   "outputs": [],
   "source": []
  },
  {
   "cell_type": "markdown",
   "id": "96e54f1d",
   "metadata": {},
   "source": [
    "3. Write a program that creates a list of all years such that:\n",
    "    - These years are between 1000 (inclusive) and 2500 (inclusive).\n",
    "    - These years are leap years.\n",
    "    - These years must have the summation of their digits to be 10. \n",
    "\n",
    "For example, 2008 is such a year because it is a leap year and 2 + 0 + 0 + 8 = 10.\n",
    "\n",
    "**Solution**:"
   ]
  },
  {
   "cell_type": "code",
   "execution_count": 97,
   "id": "384b37b1",
   "metadata": {},
   "outputs": [],
   "source": []
  },
  {
   "cell_type": "markdown",
   "id": "5064ea2b",
   "metadata": {},
   "source": [
    "4. Write a program that creates a list of all years such that:\n",
    "    - These years are between 1000 (inclusive) and 2500 (inclusive).\n",
    "    - These years are leap years.\n",
    "    - These years must have the summation of their digits to be another leap year. \n",
    "    \n",
    "For example, 2020 is such a year because it is a leap year and 2 + 0 + 2 + 0 = 4, which is also a leap year.\n",
    "\n",
    "**Solution**:"
   ]
  },
  {
   "cell_type": "code",
   "execution_count": null,
   "id": "6bc7a508",
   "metadata": {},
   "outputs": [],
   "source": []
  },
  {
   "cell_type": "markdown",
   "id": "bf2ad2ba-1937-4efd-b1c4-e66243159a81",
   "metadata": {},
   "source": [
    "---"
   ]
  },
  {
   "cell_type": "markdown",
   "id": "540203f5",
   "metadata": {},
   "source": [
    "## Question 3\n",
    "\n",
    "1. In this exercise, we will write a function `game()` for playing the \"rock, paper, scissors\" game. The rules of the game are given below:\n",
    "- The game runs for many rounds. In each round of the game, the player keys in `'r'` for rock, `'p'` for paper, and `'s'` for scissors. The game ends if the player keys in any other characters. \n",
    "- Computer randomly chooses one from rock, paper, and scissors in each round.\n",
    "- Use emojis &#9994; for rock, &#9995; for paper, and &#9996; for scissors as the result of each game. For example, the printed message for one game could be:"
   ]
  },
  {
   "cell_type": "markdown",
   "id": "ff3fb210-c2fd-4441-8f77-1d99d04cdb00",
   "metadata": {},
   "source": [
    "Player: r\n",
    "\n",
    "Player: ✊   Computer: ✌\n",
    "\n",
    "You win.\n",
    "\n",
    "\\--------------------\n",
    "\n",
    "Player: p\n",
    "\n",
    "Player: ✋   Computer: ✊\n",
    "\n",
    "You win.\n",
    "\n",
    "\\--------------------\n",
    "\n",
    "Player: s\n",
    "\n",
    "Player: ✌   Computer: ✌\n",
    "\n",
    "Tie game\n",
    "\n",
    "\\--------------------\n",
    "\n",
    "Player: \n",
    "Game ends."
   ]
  },
  {
   "cell_type": "markdown",
   "id": "ab3a438e",
   "metadata": {},
   "source": [
    "Among many ways to construct the function `game()`, we will break the game into separate tasks that are much easier to deal with:\n",
    "- Function `rand_rps()` for randomly selecting one letter from 'r' (rock), 'p' (paper) or 's' (scissors) as the computer's decision.\n",
    "- Function `emoji_dict()` for creating emojis of rock, paper and scissors, and store them in a `dict` type data object. \n",
    "- Function `check_player_wins()` for checking if the player wins the game, given decisions of the player and the computer.\n",
    "\n",
    "These functions can be created and tested separately, and then we can use them in constructing the game with the \"leap of faith\" assumption. \n",
    "\n",
    "1. Write the function `rand_rps()` that randomly selects one letter from 'r' (rock), 'p' (paper) or 's' (scissors) as the computer's decision. You may use the `randint()` function imported from the built-in `random` package. The `help()` information of the function is provided as follows."
   ]
  },
  {
   "cell_type": "code",
   "execution_count": 99,
   "id": "d19fdd23",
   "metadata": {},
   "outputs": [
    {
     "name": "stdout",
     "output_type": "stream",
     "text": [
      "Help on method randint in module random:\n",
      "\n",
      "randint(a, b) method of random.Random instance\n",
      "    Return random integer in range [a, b], including both end points.\n",
      "\n"
     ]
    }
   ],
   "source": [
    "from random import randint\n",
    "\n",
    "help(randint)"
   ]
  },
  {
   "cell_type": "markdown",
   "id": "2e52be47",
   "metadata": {},
   "source": [
    "*Hint: the function `randint()` generates a random integer. You could use the integer to be the positional index to select a character from the string `\"rps\"`.* \n",
    "\n",
    "**Solution**:"
   ]
  },
  {
   "cell_type": "code",
   "execution_count": null,
   "id": "6dbd89e8",
   "metadata": {},
   "outputs": [],
   "source": []
  },
  {
   "cell_type": "code",
   "execution_count": null,
   "id": "d4ab4858",
   "metadata": {},
   "outputs": [],
   "source": []
  },
  {
   "cell_type": "markdown",
   "id": "c4c46ef3",
   "metadata": {},
   "source": [
    "2. Write the function `emoji_dict()` which creates a dictionary, where the keys are `'r'`, `'p'`, and `'s'`, and the values are the corresponding emojis. You could use the `emojize()` function imported from the package `emoji`, which is a convenient tool for displaying emojis. The package can be installed using the command below.\n",
    "\n",
    "**Solution:**"
   ]
  },
  {
   "cell_type": "code",
   "execution_count": null,
   "id": "5da99689",
   "metadata": {
    "scrolled": true,
    "tags": []
   },
   "outputs": [],
   "source": []
  },
  {
   "cell_type": "code",
   "execution_count": null,
   "id": "4098af06-dc34-4956-b9e6-82945bade092",
   "metadata": {},
   "outputs": [],
   "source": []
  },
  {
   "cell_type": "markdown",
   "id": "9c071bf2",
   "metadata": {},
   "source": [
    "The name for retrieving each emoji can be found from [here](https://www.webfx.com/tools/emoji-cheat-sheet/). \n",
    "\n",
    "**Solution**:"
   ]
  },
  {
   "cell_type": "code",
   "execution_count": null,
   "id": "d35e2d65",
   "metadata": {},
   "outputs": [],
   "source": []
  },
  {
   "cell_type": "code",
   "execution_count": null,
   "id": "03059861",
   "metadata": {},
   "outputs": [],
   "source": []
  },
  {
   "cell_type": "markdown",
   "id": "4f4006b9",
   "metadata": {},
   "source": [
    "3. Write the `check_player_wins(player, computer)` that returns \"Win\" if the player wins, \"Lose\" if the player loses, otherwise returns \"Tie\". \n",
    "\n",
    "**Solution**:"
   ]
  },
  {
   "cell_type": "code",
   "execution_count": null,
   "id": "f8dafb94",
   "metadata": {},
   "outputs": [],
   "source": []
  },
  {
   "cell_type": "code",
   "execution_count": null,
   "id": "50bb7212-0d62-41db-8d6e-173a2f9e51f8",
   "metadata": {},
   "outputs": [],
   "source": []
  },
  {
   "cell_type": "markdown",
   "id": "a09801f2",
   "metadata": {},
   "source": [
    "4. Use functions created from (1) to (3) to create the `game()` function. Refer back to (1) to refresh yourself with how this game should work.\n",
    "\n",
    "**Solution**:"
   ]
  },
  {
   "cell_type": "code",
   "execution_count": null,
   "id": "06429d81",
   "metadata": {},
   "outputs": [],
   "source": []
  },
  {
   "cell_type": "code",
   "execution_count": null,
   "id": "6e9f005d",
   "metadata": {},
   "outputs": [],
   "source": []
  }
 ],
 "metadata": {
  "kernelspec": {
   "display_name": "dao2702x_py3_9_13",
   "language": "python",
   "name": "dao2702x_py3_9_13"
  },
  "language_info": {
   "codemirror_mode": {
    "name": "ipython",
    "version": 3
   },
   "file_extension": ".py",
   "mimetype": "text/x-python",
   "name": "python",
   "nbconvert_exporter": "python",
   "pygments_lexer": "ipython3",
   "version": "3.9.13"
  },
  "varInspector": {
   "cols": {
    "lenName": 16,
    "lenType": 16,
    "lenVar": 40
   },
   "kernels_config": {
    "python": {
     "delete_cmd_postfix": "",
     "delete_cmd_prefix": "del ",
     "library": "var_list.py",
     "varRefreshCmd": "print(var_dic_list())"
    },
    "r": {
     "delete_cmd_postfix": ") ",
     "delete_cmd_prefix": "rm(",
     "library": "var_list.r",
     "varRefreshCmd": "cat(var_dic_list()) "
    }
   },
   "types_to_exclude": [
    "module",
    "function",
    "builtin_function_or_method",
    "instance",
    "_Feature"
   ],
   "window_display": false
  }
 },
 "nbformat": 4,
 "nbformat_minor": 5
}
