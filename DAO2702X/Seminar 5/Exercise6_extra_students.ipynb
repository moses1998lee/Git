{
 "cells": [
  {
   "cell_type": "markdown",
   "id": "f48ff9b3-4d09-4ef8-a079-a253942b4fc2",
   "metadata": {
    "tags": []
   },
   "source": [
    "## Question 1\n",
    "\n",
    "Refer back to **Exercise 6 Question 1.1**. \n",
    "\n",
    "1. Fill in the function `func_2` below so that it behaves in the same way as `func`.\n",
    "\n",
    "```Python\n",
    "####################\n",
    "def func(x, y):\n",
    "    \n",
    "    if x <= y:\n",
    "        return x, y\n",
    "    elif x > 2*y:\n",
    "        return y\n",
    "    \n",
    "    \n",
    "def func_2(x, y):\n",
    "    \n",
    "    if x <= y:\n",
    "        return x, y\n",
    "    elif x <= 2*y:\n",
    "        # Add code here.\n",
    "    # Add code here.\n",
    "####################\n",
    "```\n",
    "\n",
    "**Solution**"
   ]
  },
  {
   "cell_type": "code",
   "execution_count": null,
   "id": "7af663c5-eace-436a-94fe-988b03e2c81a",
   "metadata": {},
   "outputs": [],
   "source": []
  },
  {
   "cell_type": "markdown",
   "id": "3174d906-9848-48ff-b0fd-0af19595150f",
   "metadata": {
    "tags": []
   },
   "source": [
    "2. Fill in the function `func_3` below with one line of code so that it behaves in the same way as `func`.\n",
    "\n",
    "```Python\n",
    "####################\n",
    "def func(x, y):\n",
    "    \n",
    "    if x <= y:\n",
    "        return x, y\n",
    "    elif x > 2*y:\n",
    "        return y\n",
    "    \n",
    "    \n",
    "def func_3(x, y):\n",
    "\n",
    "    # Add one line of code here.\n",
    "    return result\n",
    "####################\n",
    "```\n",
    "\n",
    "**Solution**"
   ]
  },
  {
   "cell_type": "code",
   "execution_count": null,
   "id": "41ae13b3-f8ca-4a04-90ef-b9307b07b43b",
   "metadata": {},
   "outputs": [],
   "source": []
  },
  {
   "cell_type": "markdown",
   "id": "60fc4933-c56a-4517-b090-cd216eda8770",
   "metadata": {},
   "source": [
    "3. A function does not have any return statement within it. After the function is called and finish executing, does it not return anything or does it return something?\n",
    "\n",
    "**Solution**"
   ]
  },
  {
   "cell_type": "code",
   "execution_count": null,
   "id": "5f5d6bee-e783-48a8-aa9d-6e41a453f4b0",
   "metadata": {},
   "outputs": [],
   "source": []
  },
  {
   "cell_type": "markdown",
   "id": "eb8c912d-4b71-44b4-98a6-4ddddd2e794b",
   "metadata": {},
   "source": [
    "4. What is a function docstring and what is it for?\n",
    "\n",
    "**Solution**"
   ]
  },
  {
   "cell_type": "code",
   "execution_count": null,
   "id": "1d4259ee-5128-405b-bb4a-c9b4762ab8f2",
   "metadata": {},
   "outputs": [],
   "source": []
  },
  {
   "cell_type": "markdown",
   "id": "0727913c-c655-41a1-95bb-ab491fe237a1",
   "metadata": {},
   "source": [
    "---"
   ]
  },
  {
   "cell_type": "markdown",
   "id": "a59f8ce1-4941-4f23-a739-1a9955b40d8a",
   "metadata": {
    "tags": []
   },
   "source": [
    "## Question 2\n",
    "\n",
    "Refer back to **Exercise 6 Question 1.2**.\n",
    "\n",
    "1. What type of object is \n",
    "   - `plt.pie`?\n",
    "   - `plt`?\n",
    "   - `matplotlib`?\n",
    "   \n",
    "**Solution**"
   ]
  },
  {
   "cell_type": "code",
   "execution_count": null,
   "id": "93984cf1-9ffd-485d-bd9c-d21156d672b5",
   "metadata": {},
   "outputs": [],
   "source": []
  },
  {
   "cell_type": "markdown",
   "id": "3c7b96d0-01a0-4438-be54-2a6497b25444",
   "metadata": {
    "tags": []
   },
   "source": [
    "2. Explain why options _A_, _B_ and _D_ are wrong.\n",
    "\n",
    "**Solution**"
   ]
  },
  {
   "cell_type": "code",
   "execution_count": null,
   "id": "44716a9e",
   "metadata": {
    "scrolled": true
   },
   "outputs": [],
   "source": []
  },
  {
   "cell_type": "markdown",
   "id": "751b0ae2-788b-4c72-ba0b-9c68ee73c658",
   "metadata": {
    "tags": []
   },
   "source": [
    "3. Instead of having `explode = [0.1]*7`, we want `explode` that starts at `0.75` for the grade _A+_ and reduces by 33% for every next lower grade. Write the code to plot this pie chart.\n",
    "\n",
    "**Solution**"
   ]
  },
  {
   "cell_type": "code",
   "execution_count": null,
   "id": "cf380085-78c9-4b5f-87cc-5fc456e409ba",
   "metadata": {},
   "outputs": [],
   "source": []
  },
  {
   "cell_type": "markdown",
   "id": "27d78bed-c4d7-4746-9033-b7354dcc4149",
   "metadata": {
    "tags": []
   },
   "source": [
    "4. Instead of having `explode = [0.1]*7`, we want the values in `explode` to be proportional to the the values in `grades` and sum of the values in `explode` to be 1.25. Write the code to plot this pie chart.\n",
    "\n",
    "**Solution**"
   ]
  },
  {
   "cell_type": "code",
   "execution_count": null,
   "id": "cec02ad3-9f5d-445c-8ebb-a0092437ead1",
   "metadata": {},
   "outputs": [],
   "source": []
  },
  {
   "cell_type": "markdown",
   "id": "2fb755ca-800e-4f4d-9fca-0efc6d410784",
   "metadata": {},
   "source": [
    "---"
   ]
  },
  {
   "cell_type": "markdown",
   "id": "713f04a8-dbe6-40ed-8a32-e035c7509d30",
   "metadata": {
    "tags": []
   },
   "source": [
    "## Question 3\n",
    "\n",
    "Refer back to **Exercise 6 Question 2.2**. Modify your solution if you are not allowed to use the built-in str() and int() functions.\n",
    "\n",
    "**Solution:**"
   ]
  },
  {
   "cell_type": "code",
   "execution_count": null,
   "id": "191edaad-9738-46f0-9f8e-52c8224134b5",
   "metadata": {},
   "outputs": [],
   "source": []
  },
  {
   "cell_type": "markdown",
   "id": "5512af51-ca5c-4011-9a64-4e8b380abf01",
   "metadata": {},
   "source": [
    "---"
   ]
  },
  {
   "cell_type": "markdown",
   "id": "43526934-3afb-4a36-ba05-bb5669be17aa",
   "metadata": {
    "tags": []
   },
   "source": [
    "## Question 4\n",
    "\n",
    "1. Besides using `randint` that we saw in **in Question 3.1**, we can also use `choice`. The `help()` information of the function `choice` is provided as follows."
   ]
  },
  {
   "cell_type": "code",
   "execution_count": 162,
   "id": "ce0d2beb-77d4-417a-8c0c-03b826a5b235",
   "metadata": {},
   "outputs": [
    {
     "name": "stdout",
     "output_type": "stream",
     "text": [
      "Help on method choice in module random:\n",
      "\n",
      "choice(seq) method of random.Random instance\n",
      "    Choose a random element from a non-empty sequence.\n",
      "\n"
     ]
    }
   ],
   "source": [
    "from random import choice\n",
    "help(choice)"
   ]
  },
  {
   "cell_type": "markdown",
   "id": "54f64935-2c8f-4b6e-87b3-8f19fbdf171c",
   "metadata": {},
   "source": [
    "The function `choice()` randomly selects an element from a sequence, which can be a list of strings. Therefore, another way to approach **Exercise 6 Question 3.1** is to randomly select 'r' (rock), 'p' (paper) or 's' (scissors) in the following manner:"
   ]
  },
  {
   "cell_type": "code",
   "execution_count": 1,
   "id": "bf4859f0-8193-4d53-a28b-5e2d397cc660",
   "metadata": {},
   "outputs": [
    {
     "data": {
      "text/plain": [
       "'p'"
      ]
     },
     "execution_count": 1,
     "metadata": {},
     "output_type": "execute_result"
    }
   ],
   "source": [
    "from random import choice\n",
    "choice(['r', 'p', 's'])"
   ]
  },
  {
   "cell_type": "markdown",
   "id": "389cb0ff-fa51-4813-aa8c-c1d618fa7566",
   "metadata": {},
   "source": [
    "Recall that the function `rand_rps()` in **Exercise 6 Question 3.1** randomly selects one letter from 'r' (rock), 'p' (paper) or 's' (scissors) with equal probabilities as the computer's decision. Using the function `choice()`, write the function `rand_rps_2()` that randomly selects one letter from 'r' (rock), 'p' (paper) or 's' (scissors) with corresponding probabilities 0.3, 0.5 and 0.2 as the computer's decision.\n",
    "\n",
    "**Solution:**"
   ]
  },
  {
   "cell_type": "code",
   "execution_count": null,
   "id": "9c30d341-1343-430a-927d-7bdcca47407c",
   "metadata": {},
   "outputs": [],
   "source": []
  },
  {
   "cell_type": "markdown",
   "id": "c72eb130-d88b-495f-aef4-d06e42189a02",
   "metadata": {
    "tags": []
   },
   "source": [
    "2. Run the `rand_rps_2()` function 2500 times and calculate the empirical probabilities of 'r', 'p' and 's'. Store the probabilities in a dictionary.\n",
    "\n",
    "**Solution:**"
   ]
  },
  {
   "cell_type": "code",
   "execution_count": null,
   "id": "70952555-c4a5-48e2-953d-6bb74e16eaac",
   "metadata": {},
   "outputs": [],
   "source": []
  }
 ],
 "metadata": {
  "kernelspec": {
   "display_name": "dao2702x_py3_9_13",
   "language": "python",
   "name": "dao2702x_py3_9_13"
  },
  "language_info": {
   "codemirror_mode": {
    "name": "ipython",
    "version": 3
   },
   "file_extension": ".py",
   "mimetype": "text/x-python",
   "name": "python",
   "nbconvert_exporter": "python",
   "pygments_lexer": "ipython3",
   "version": "3.9.13"
  },
  "varInspector": {
   "cols": {
    "lenName": 16,
    "lenType": 16,
    "lenVar": 40
   },
   "kernels_config": {
    "python": {
     "delete_cmd_postfix": "",
     "delete_cmd_prefix": "del ",
     "library": "var_list.py",
     "varRefreshCmd": "print(var_dic_list())"
    },
    "r": {
     "delete_cmd_postfix": ") ",
     "delete_cmd_prefix": "rm(",
     "library": "var_list.r",
     "varRefreshCmd": "cat(var_dic_list()) "
    }
   },
   "types_to_exclude": [
    "module",
    "function",
    "builtin_function_or_method",
    "instance",
    "_Feature"
   ],
   "window_display": false
  }
 },
 "nbformat": 4,
 "nbformat_minor": 5
}
