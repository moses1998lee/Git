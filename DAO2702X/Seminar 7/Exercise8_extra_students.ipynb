{
 "cells": [
  {
   "cell_type": "markdown",
   "id": "915a3db2-9904-498e-9d9d-f2cb5daa3f52",
   "metadata": {},
   "source": [
    "## Question 1\n",
    "\n",
    "#### Refer back to **Exercise 8 Question 2** for the following questions.\n",
    "\n",
    "1. Using the \"type\" column, what are the different types of properties in the properties data?\n",
    "\n",
    "**Solution**:"
   ]
  },
  {
   "cell_type": "code",
   "execution_count": null,
   "id": "5166a84a-d65e-49dd-9fba-2ce454ca1357",
   "metadata": {},
   "outputs": [],
   "source": [
    "import pandas as pd\n",
    "prop = pd.read_csv(\"properties2.csv\")"
   ]
  },
  {
   "cell_type": "code",
   "execution_count": null,
   "id": "6681fa31-8249-4c76-b252-f3eb5d0a4535",
   "metadata": {},
   "outputs": [],
   "source": []
  },
  {
   "cell_type": "markdown",
   "id": "40c990e2-986b-419b-9cdd-0915395be9c0",
   "metadata": {},
   "source": [
    "2i. Create a program that take in an integer `k` from a user and creates a dataframe which is a subset of the properties data with the following conditions:\n",
    "- takes an input k from a user\n",
    "- missing commencing year\n",
    "- total of 2 x `k` records, with `k` smallest possible indexes and `k` largest possible indexes\n",
    "\n",
    "**Solution**:"
   ]
  },
  {
   "cell_type": "code",
   "execution_count": null,
   "id": "3a389d63-0799-433d-8c66-4d2c35a9a627",
   "metadata": {},
   "outputs": [],
   "source": []
  },
  {
   "cell_type": "markdown",
   "id": "f6737edb-e447-4dab-b925-fff59927816c",
   "metadata": {},
   "source": [
    "2ii. What is the maximum value of `k` so that there is no overlapping records in the subset?"
   ]
  },
  {
   "cell_type": "code",
   "execution_count": null,
   "id": "28899c61-0209-421d-a8d6-bf4edd68af1f",
   "metadata": {},
   "outputs": [],
   "source": []
  },
  {
   "cell_type": "markdown",
   "id": "6dda2617-ac08-4167-9b90-b1c3c1cc6ead",
   "metadata": {},
   "source": [
    "3i. What is the datatype of the \"commence\" column?\n",
    "\n",
    "**Solution**:"
   ]
  },
  {
   "cell_type": "code",
   "execution_count": null,
   "id": "654cfc36-74eb-4064-8ab1-8f3f1f6aa2f3",
   "metadata": {},
   "outputs": [],
   "source": []
  },
  {
   "cell_type": "markdown",
   "id": "514cc7c9-0a4b-455c-81c4-a15b03ab6751",
   "metadata": {},
   "source": [
    "3ii. If the values in the \"commence\" column is not missing, then it must be a whole number year. Write code to determine the number of incorrect \"commence\" years, i.e. \"commence\" years that are not missing and is not a whole number.\n",
    "\n",
    "**Solution**:"
   ]
  },
  {
   "cell_type": "code",
   "execution_count": null,
   "id": "4382b9ad-018d-48c5-833c-1c9a37b5cd2e",
   "metadata": {},
   "outputs": [],
   "source": []
  },
  {
   "cell_type": "markdown",
   "id": "72fbe764-d8c0-4f2d-a70d-4d7e7dc6e478",
   "metadata": {},
   "source": [
    "4. In **Exercise 8 Question 2.1**, apart from using the Pandas series `isnull` method, we can also use the `isna` method as it is an alias of `isnull`. What do you understand of the phrase \"`isna` is an alias of `isnull`\"?\n",
    "\n",
    "**Solution**:"
   ]
  },
  {
   "cell_type": "code",
   "execution_count": null,
   "id": "f5b9a283-ba45-46e0-b178-b4b98d0fe110",
   "metadata": {},
   "outputs": [],
   "source": []
  },
  {
   "cell_type": "markdown",
   "id": "babce965-fec4-4e52-8634-f843f218bd67",
   "metadata": {},
   "source": [
    "5. Assuming property prices increase by 3% every year, find the average price of the all the properties in the year 2023. Simply take the numbers of years as the difference between the year 2023 and the year that the property was transacted in. For example, if the property was transacted in May-19 at a price of $1,000,000, then its price in 2023 will be \\\\$1,000,000 times 1.03^4."
   ]
  },
  {
   "cell_type": "code",
   "execution_count": null,
   "id": "c16073cc-6612-4625-bcea-f2f957e7a1f8",
   "metadata": {},
   "outputs": [],
   "source": []
  },
  {
   "cell_type": "markdown",
   "id": "683aead1-5ddd-408e-a03b-c5b979859eda",
   "metadata": {},
   "source": [
    "6. The `level` column of the property dataset has string values with the pattern \"X to Y\", where X and Y are numbers. Using the `level` column, create a new column named `level_2` with the pattern \"X-Y\".\n",
    "\n",
    "**Solution**:"
   ]
  },
  {
   "cell_type": "code",
   "execution_count": null,
   "id": "24e8cb43-4e1f-4928-86d9-ff777feeddce",
   "metadata": {},
   "outputs": [],
   "source": []
  },
  {
   "cell_type": "markdown",
   "id": "4c68746a-2654-4ddb-9280-1ae964f0c523",
   "metadata": {},
   "source": [
    "7. In **Exercise 8 Question 2.3**, you found out the number of records in the dataset are condos/apartments located in district 5 and their levels are higher than 12. Now, re-attempt this question using the numerical average of the starting level and the ending level in the \"level\" column as the actual level.\n",
    "\n",
    "**Solution**:"
   ]
  },
  {
   "cell_type": "code",
   "execution_count": null,
   "id": "54f35748",
   "metadata": {},
   "outputs": [],
   "source": []
  }
 ],
 "metadata": {
  "kernelspec": {
   "display_name": "dao2702x_py3_9_13",
   "language": "python",
   "name": "dao2702x_py3_9_13"
  },
  "language_info": {
   "codemirror_mode": {
    "name": "ipython",
    "version": 3
   },
   "file_extension": ".py",
   "mimetype": "text/x-python",
   "name": "python",
   "nbconvert_exporter": "python",
   "pygments_lexer": "ipython3",
   "version": "3.9.13"
  },
  "varInspector": {
   "cols": {
    "lenName": 16,
    "lenType": 16,
    "lenVar": 40
   },
   "kernels_config": {
    "python": {
     "delete_cmd_postfix": "",
     "delete_cmd_prefix": "del ",
     "library": "var_list.py",
     "varRefreshCmd": "print(var_dic_list())"
    },
    "r": {
     "delete_cmd_postfix": ") ",
     "delete_cmd_prefix": "rm(",
     "library": "var_list.r",
     "varRefreshCmd": "cat(var_dic_list()) "
    }
   },
   "types_to_exclude": [
    "module",
    "function",
    "builtin_function_or_method",
    "instance",
    "_Feature"
   ],
   "window_display": false
  }
 },
 "nbformat": 4,
 "nbformat_minor": 5
}
