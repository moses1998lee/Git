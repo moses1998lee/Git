{
 "cells": [
  {
   "cell_type": "markdown",
   "id": "58f7eaab-8c64-4ff8-ae51-943a2d43b9d5",
   "metadata": {},
   "source": [
    "## Question 1\n",
    "\n",
    "Refer back to **Question 2.2** of **Exercise 5**. Write code to calculate:\n",
    "\n",
    "1. The total probability of all the outcomes.\n",
    "\n",
    "**Solution:**"
   ]
  },
  {
   "cell_type": "code",
   "execution_count": null,
   "id": "1effe200-9832-4f20-9e97-9be009ab8058",
   "metadata": {},
   "outputs": [],
   "source": []
  },
  {
   "cell_type": "markdown",
   "id": "7f1f41c9-3151-4b56-8035-6ec779c6f1d6",
   "metadata": {},
   "source": [
    "2. The probability that the outcome is at least 4 and not greater than 9.\n",
    "\n",
    "**Solution:**"
   ]
  },
  {
   "cell_type": "code",
   "execution_count": null,
   "id": "b4b0b2e4-c228-4258-af6b-f7f004c4e8d6",
   "metadata": {},
   "outputs": [],
   "source": []
  },
  {
   "cell_type": "markdown",
   "id": "39a0fc42-8d5d-488a-8ce2-24f0728222cb",
   "metadata": {},
   "source": [
    "3. The expected value of the outcome.\n",
    "\n",
    "*Hint: The expected value _E(x)_ of a random variable _x_ is given by:*\n",
    "$$E(x)=\\sum_{i} x_{i} \\cdot p(x_{i})$$\n",
    "\n",
    "**Solution:**"
   ]
  },
  {
   "cell_type": "code",
   "execution_count": null,
   "id": "34ee1ed3-522f-4079-8043-8d4e2b7f3b0d",
   "metadata": {},
   "outputs": [],
   "source": []
  },
  {
   "cell_type": "markdown",
   "id": "55d3840a-680d-4c12-9426-5983ee640a73",
   "metadata": {},
   "source": [
    "4. The standard deviation of the outcome.\n",
    "\n",
    "*Hint: The variance _Var(x)_ of a random variable _x_ is given by:*\n",
    "$$Var(x)=\\sum_{i}p(x_{i}) \\cdot (x_{i}-E(x))^2$$\n",
    "\n",
    "**Solution:**"
   ]
  },
  {
   "cell_type": "code",
   "execution_count": null,
   "id": "4bb0f9d1-9059-40e1-9078-346d37fb686b",
   "metadata": {},
   "outputs": [],
   "source": []
  },
  {
   "cell_type": "markdown",
   "id": "ade3e7b4-e7bb-4dae-9040-755580531447",
   "metadata": {},
   "source": [
    "---"
   ]
  },
  {
   "cell_type": "markdown",
   "id": "cc4ce792-5636-4ed8-ad95-7d9fd0029471",
   "metadata": {},
   "source": [
    "## Question 2\n",
    "\n",
    "Given two tuples, one a tuple of employee ids and another a tuple of employee names in the same order, write code to create a dictionary of employee id to employee name.\n",
    "\n",
    "```python\n",
    "employee_ids = (3313, 7231, 90987, 322, 4002)\n",
    "\n",
    "employee_names = (\"Cassandra\", \"Bob\", \"Alan\", \"Eva\", \"Max\")\n",
    "```\n",
    "\n",
    "**Solution:**"
   ]
  },
  {
   "cell_type": "code",
   "execution_count": null,
   "id": "22282697-640d-423e-a938-c1afd421f13e",
   "metadata": {},
   "outputs": [],
   "source": []
  },
  {
   "cell_type": "markdown",
   "id": "de2fbf10-b625-45bf-9d0c-3c6c1c80f4ed",
   "metadata": {},
   "source": [
    "---"
   ]
  },
  {
   "cell_type": "markdown",
   "id": "52a7a5d1-80de-46f6-a486-8c8aaeecf2d5",
   "metadata": {},
   "source": [
    "## Question 3\n",
    "\n",
    "1. Given the following two dictionaries of _employee id_ to _employee name_, write code to create another dictionary where the pairs of _key_ employee id and _value_ employee name are present in both dictionaries.\n",
    "\n",
    "```python\n",
    "dict_1 = {3313: 'Cassandra', 7231: 'Bob', 90987: 'Alan', 322: 'Eva', 4002: 'Max', 2988: 'Sherline', 1344: 'Kate'}\n",
    "\n",
    "dict_2 = {3313: 'Camie', 4002: 'Max', 7237: 'Bob', 1344: 'Katy', 2988: 'Sherline', 15433: 'Gary', 7766: 'Ron'}\n",
    "```\n",
    "\n",
    "**Solution:**"
   ]
  },
  {
   "cell_type": "code",
   "execution_count": null,
   "id": "f11b2aa0-00ec-4554-8ae1-574d54364ba6",
   "metadata": {},
   "outputs": [],
   "source": []
  },
  {
   "cell_type": "markdown",
   "id": "36773cbd-078e-4840-a14a-173ced449d37",
   "metadata": {},
   "source": [
    "2. Using `dict_1` from **Question 3.1**, and given the following two dictionaries `emp_years_worked` (_employee name_ to _number of years worked_) and `emp_monthly_salary` (_employee name_ to _monthly salary_), write code to create a dictionary of _employee id_ to _total salary earned_.\n",
    "\n",
    "```python\n",
    "emp_years_worked = {'Cassandra': 8, 'Bob': 5, 'Alan': 24, 'Eva': 7, 'Max': 21, 'Sherline': 13, 'Kate': 9}\n",
    "\n",
    "emp_monthly_salary = {'Cassandra': 2800, 'Bob': 2500, 'Alan': 2200, 'Eva': 3000, 'Max': 2100, 'Sherline': 3000, 'Kate': 3400}\n",
    "```\n",
    "\n",
    "**Solution:**"
   ]
  },
  {
   "cell_type": "code",
   "execution_count": null,
   "id": "95b2e142-20c6-47c4-ae15-f0040935c8e6",
   "metadata": {},
   "outputs": [],
   "source": []
  },
  {
   "cell_type": "markdown",
   "id": "7336b4eb-4fef-4912-8b80-3fcb0d1c62bb",
   "metadata": {},
   "source": [
    "---"
   ]
  },
  {
   "cell_type": "markdown",
   "id": "ef00a1d4-dfc6-4cba-8099-138ec0d6e910",
   "metadata": {
    "tags": []
   },
   "source": [
    "## Question 4\n",
    "\n",
    "1. Rewrite your solution to **Question 2** using dictionary comprehension.\n",
    "\n",
    "**Solution:**"
   ]
  },
  {
   "cell_type": "code",
   "execution_count": null,
   "id": "0a3507d3-df66-474e-a83a-7ed09430e522",
   "metadata": {},
   "outputs": [],
   "source": []
  },
  {
   "cell_type": "markdown",
   "id": "9c19fbfa-f16f-486c-b132-1c9b38f34463",
   "metadata": {
    "tags": []
   },
   "source": [
    "2. Rewrite your solution to **Question 2** using the `dict` class.\n",
    "\n",
    "**Solution:**"
   ]
  },
  {
   "cell_type": "code",
   "execution_count": null,
   "id": "75ab7217-c068-42e9-b38f-5e0d577bb203",
   "metadata": {},
   "outputs": [],
   "source": []
  },
  {
   "cell_type": "markdown",
   "id": "d96db956-0547-4dc6-83ff-36e6b65dd853",
   "metadata": {},
   "source": [
    "3. Rewrite your solution to **Question 3.2** using dictionary comprehension.\n",
    "\n",
    "**Solution:**"
   ]
  },
  {
   "cell_type": "code",
   "execution_count": null,
   "id": "ce9d27ed-a55e-4b22-9206-dd24a13712e8",
   "metadata": {},
   "outputs": [],
   "source": []
  }
 ],
 "metadata": {
  "kernelspec": {
   "display_name": "python3",
   "language": "python",
   "name": "python3"
  },
  "language_info": {
   "codemirror_mode": {
    "name": "ipython",
    "version": 3
   },
   "file_extension": ".py",
   "mimetype": "text/x-python",
   "name": "python",
   "nbconvert_exporter": "python",
   "pygments_lexer": "ipython3",
   "version": "3.7.11"
  },
  "varInspector": {
   "cols": {
    "lenName": 16,
    "lenType": 16,
    "lenVar": 40
   },
   "kernels_config": {
    "python": {
     "delete_cmd_postfix": "",
     "delete_cmd_prefix": "del ",
     "library": "var_list.py",
     "varRefreshCmd": "print(var_dic_list())"
    },
    "r": {
     "delete_cmd_postfix": ") ",
     "delete_cmd_prefix": "rm(",
     "library": "var_list.r",
     "varRefreshCmd": "cat(var_dic_list()) "
    }
   },
   "types_to_exclude": [
    "module",
    "function",
    "builtin_function_or_method",
    "instance",
    "_Feature"
   ],
   "window_display": false
  }
 },
 "nbformat": 4,
 "nbformat_minor": 5
}
