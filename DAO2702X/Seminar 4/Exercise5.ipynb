{
 "cells": [
  {
   "cell_type": "markdown",
   "id": "abf3d64c",
   "metadata": {},
   "source": [
    "## Question 1\n",
    "\n",
    "1. The code below\n",
    "\n",
    "```python\n",
    "####################\n",
    "a, b = 2.5, 3.9\n",
    "\n",
    "a = a + b\n",
    "b = a - b\n",
    "a = a - b\n",
    "####################\n",
    "```\n",
    "\n",
    "is equivalent to which of the code segments?\n",
    "\n",
    "    A.\n",
    "```python\n",
    "a, b = 2.5, 3.9\n",
    "\n",
    "a, b = b, a\n",
    "```\n",
    "\n",
    "    B.\n",
    "```python\n",
    "a, b = 2.5, 3.9\n",
    "\n",
    "a, b = a + b, a - b\n",
    "```\n",
    "\n",
    "    C.\n",
    "```python\n",
    "a, b = 2.5, 3.9\n",
    "\n",
    "a, b = a - b, a - b\n",
    "```\n",
    "\n",
    "    D.\n",
    "```python\n",
    "a, b = 2.5, 3.9\n",
    "\n",
    "b, a = a, a - b\n",
    "```\n",
    "\n",
    "**Solution:**"
   ]
  },
  {
   "cell_type": "code",
   "execution_count": null,
   "id": "f774083f-a037-4982-b585-42130f780d3e",
   "metadata": {},
   "outputs": [],
   "source": []
  },
  {
   "cell_type": "markdown",
   "id": "161782e0-9f2f-4226-96e4-3f8564aec3ba",
   "metadata": {},
   "source": [
    "---"
   ]
  },
  {
   "cell_type": "markdown",
   "id": "d9ece826-2afe-4d44-972e-c22fc6a7dca4",
   "metadata": {},
   "source": [
    "2. Given the code below, what is the value of the dictionary `d`?\n",
    "\n",
    "```python\n",
    "####################\n",
    "d = {1: 'x', 2: 'y', 3: 'z'}\n",
    "s = 'abc'\n",
    "\n",
    "d[3], d[4], d[2] = s[1], s[2], s[0]\n",
    "####################\n",
    "```\n",
    "\n",
    "    A. An error message\n",
    "    B. {1: 'x', 2: 'a', 3: 'b', 4: 'c'}\n",
    "    C. {1: 'x', 2: 'y', 3: 'z', 'a': 1, 'b': 2, 'c': 0}\n",
    "    D. {1: 'x', 2: 'y', 3: 'z', 3: 'b', 4: 'c', 2: 'a'}\n",
    "\n",
    "**Solution:**"
   ]
  },
  {
   "cell_type": "code",
   "execution_count": null,
   "id": "f6943d2d-3d8a-4644-9da0-79e4faef4fad",
   "metadata": {},
   "outputs": [],
   "source": []
  },
  {
   "cell_type": "markdown",
   "id": "a42841d8-b059-4f48-bbf2-eb6c265f7642",
   "metadata": {},
   "source": [
    "---"
   ]
  },
  {
   "cell_type": "markdown",
   "id": "c358dfff-f9fe-4fc3-bcff-2252ce573e5e",
   "metadata": {},
   "source": [
    "3. The following dictionary provides information on a few courses provided by NUS Business.\n",
    "\n",
    "```python\n",
    "####################\n",
    "courses = {'DAO1704': 'Decision Analytics using Spreadsheets',\n",
    "           'MKT1705': 'Principles of Marketing',\n",
    "           'BSP1703': 'Managerial Economics',\n",
    "           'FIN2704': 'Finance',\n",
    "           'DAO2702': 'Programming for Business Analytics',\n",
    "           'DAO2703': 'Operations and Technology Management',\n",
    "           'ACC1701': 'Accounting for Decision Makers'}\n",
    "####################\n",
    "```\n",
    "\n",
    "Which of the code segments below is correct in creating a new dictionary `new_dao` that include all DAO courses.\n",
    "\n",
    "    A.\n",
    "```python\n",
    "all_dao = {}\n",
    "for item, value in courses.items():\n",
    "    if 'DAO' in value:\n",
    "        all_dao.append(item)\n",
    "```\n",
    "\n",
    "    B.\n",
    "```python\n",
    "all_dao = {}\n",
    "for item, value in courses.items():\n",
    "    if 'DAO' in value:\n",
    "        all_dao[item] = value\n",
    "```\n",
    "\n",
    "    C.\n",
    "```python\n",
    "all_dao = {}\n",
    "for item in courses:\n",
    "    if 'DAO' in item:\n",
    "        all_dao[key] = item\n",
    "```\n",
    "\n",
    "    D.\n",
    "```python\n",
    "all_dao = {}\n",
    "for item in courses:\n",
    "    if 'DAO' in item:\n",
    "        all_dao[item] = courses[item]\n",
    "```\n",
    "\n",
    "**Solution:**"
   ]
  },
  {
   "cell_type": "code",
   "execution_count": null,
   "id": "2cd188ff-b6f6-428f-b6a3-5cc0f93c6756",
   "metadata": {},
   "outputs": [],
   "source": []
  },
  {
   "cell_type": "markdown",
   "id": "04d1ba65-6d4c-4ad2-b5a4-bca74507627b",
   "metadata": {},
   "source": [
    "---"
   ]
  },
  {
   "cell_type": "markdown",
   "id": "5a4441a6",
   "metadata": {},
   "source": [
    "## Question 2\n",
    "\n",
    "1. Consider the same biased die discussed in **Example 2** of **Lecture 5**, create a dictionary that the keys are the outcomes of the rolled numbers and the values are the corresponding probabilities."
   ]
  },
  {
   "cell_type": "code",
   "execution_count": 1,
   "id": "66ae055c",
   "metadata": {},
   "outputs": [],
   "source": [
    "outcomes = [1, 2, 3, 4, 5, 6]                   # Rolled numbers\n",
    "probs = [0.15, 0.24, 0.18, 0.1, 0.21, 0.12]     # Probabilities"
   ]
  },
  {
   "cell_type": "markdown",
   "id": "56344453",
   "metadata": {},
   "source": [
    "**Solution**:"
   ]
  },
  {
   "cell_type": "code",
   "execution_count": null,
   "id": "30476b25",
   "metadata": {
    "scrolled": true
   },
   "outputs": [],
   "source": []
  },
  {
   "cell_type": "markdown",
   "id": "57d6755a",
   "metadata": {},
   "source": [
    "2. Now we toss two identical biased dice described in **Example 2** of **Lecture 5**, create a dictionary that the keys are the outcomes of rolling these two dice and the values are the corresponding probabilities."
   ]
  },
  {
   "cell_type": "code",
   "execution_count": null,
   "id": "d0d4cf9b",
   "metadata": {},
   "outputs": [],
   "source": []
  },
  {
   "cell_type": "markdown",
   "id": "9653037c-662f-42a8-bfb2-a3c92195f636",
   "metadata": {},
   "source": [
    "---"
   ]
  },
  {
   "cell_type": "markdown",
   "id": "bccbb218",
   "metadata": {},
   "source": [
    "## Question 3\n",
    "\n",
    "An online learning system has valid IDs and passwords of users saved as the keys and values, respectively, of a dictionary called `login`. "
   ]
  },
  {
   "cell_type": "code",
   "execution_count": 2,
   "id": "af480520",
   "metadata": {},
   "outputs": [],
   "source": [
    "login = {'PyHero': '12345',\n",
    "         'Sweet Py': 'abc123',\n",
    "         'Panda Power': 'abcABC'}"
   ]
  },
  {
   "cell_type": "markdown",
   "id": "e1201d34",
   "metadata": {},
   "source": [
    "Write a program that asks user to enter his/her ID and password. The detailed requirements are:\n",
    "- If the entered ID is not valid, display a message \"Invalid ID\", and terminate the program.\n",
    "- If the entered ID is valid, but the password is incorrect, display a message \"Incorrect password\", and ask the user to key in the password again.\n",
    "- The user has at most three chances to key in the password. If he/she used up all chances, display a message \"Unauthorized user\", then terminate the program.\n",
    "- If both the ID and password are correct, print \"Welcome!\", then terminate the program.\n",
    "\n",
    "**Solution**:"
   ]
  },
  {
   "cell_type": "code",
   "execution_count": null,
   "id": "bcc5c54a",
   "metadata": {},
   "outputs": [],
   "source": []
  },
  {
   "cell_type": "markdown",
   "id": "cdc048d3-9e44-43f6-884d-c78a882ed958",
   "metadata": {},
   "source": [
    "---"
   ]
  },
  {
   "cell_type": "markdown",
   "id": "23c3aac7",
   "metadata": {},
   "source": [
    "## Question 4\n",
    "\n",
    "A kopi house is planning to develop a automatic order system for all kopi drinks. In the code cell below, the `dict` type variable `prices` provides the price of each type of drinks sold by the kopi house. The other variable `kopis` uses a letter `K`/`O`/`C`/`S`/`I` to be the key of the dictionary, and the key is used by the customers to order each type of drink."
   ]
  },
  {
   "cell_type": "code",
   "execution_count": 3,
   "id": "3ffec2ec",
   "metadata": {},
   "outputs": [],
   "source": [
    "prices = {'Kopi': 1.8,\n",
    "         'Kopi O': 1.6,\n",
    "         'Kopi C': 2.0, \n",
    "         'Kopi Siew Dai': 1.8, \n",
    "         'Iced Kopi': 2.6}              # Prices for each drink\n",
    "\n",
    "kopis = {'K': 'Kopi',\n",
    "        'O': 'Kopi O',\n",
    "        'C': 'Kopi C', \n",
    "        'S': 'Kopi Siew Dai', \n",
    "        'I': 'Iced Kopi'}               # Keys for ordering different drinks"
   ]
  },
  {
   "cell_type": "markdown",
   "id": "8923c068",
   "metadata": {},
   "source": [
    "1. Write a program that prints all kopi drinks and their prices.\n",
    "\n",
    "**Solution**:"
   ]
  },
  {
   "cell_type": "code",
   "execution_count": null,
   "id": "cb2ad9fa",
   "metadata": {},
   "outputs": [],
   "source": []
  },
  {
   "cell_type": "markdown",
   "id": "11ad0582",
   "metadata": {},
   "source": [
    "2. Write another program that asks the user to key in 1) the kopi drink (a letter `K`/`O`/`C`/`S`/`I`) and 2) the quantity of ordered drink, then the program prints the 1) the drink; 2) the quantity; and 3) the total price. A sample inputs/outputs is shown below."
   ]
  },
  {
   "cell_type": "raw",
   "id": "e2a9bd80",
   "metadata": {},
   "source": [
    "Select a drink: K/O/C/S/I: C\n",
    "Quantity: 3\n",
    "\n",
    "Your order is: Kopi C x 3\n",
    "The total price: $6.0"
   ]
  },
  {
   "cell_type": "markdown",
   "id": "b009766c",
   "metadata": {},
   "source": [
    "**Solution**:"
   ]
  },
  {
   "cell_type": "code",
   "execution_count": null,
   "id": "2dbe774d",
   "metadata": {},
   "outputs": [],
   "source": []
  }
 ],
 "metadata": {
  "kernelspec": {
   "display_name": "python3",
   "language": "python",
   "name": "python3"
  },
  "language_info": {
   "codemirror_mode": {
    "name": "ipython",
    "version": 3
   },
   "file_extension": ".py",
   "mimetype": "text/x-python",
   "name": "python",
   "nbconvert_exporter": "python",
   "pygments_lexer": "ipython3",
   "version": "3.7.11"
  },
  "varInspector": {
   "cols": {
    "lenName": 16,
    "lenType": 16,
    "lenVar": 40
   },
   "kernels_config": {
    "python": {
     "delete_cmd_postfix": "",
     "delete_cmd_prefix": "del ",
     "library": "var_list.py",
     "varRefreshCmd": "print(var_dic_list())"
    },
    "r": {
     "delete_cmd_postfix": ") ",
     "delete_cmd_prefix": "rm(",
     "library": "var_list.r",
     "varRefreshCmd": "cat(var_dic_list()) "
    }
   },
   "types_to_exclude": [
    "module",
    "function",
    "builtin_function_or_method",
    "instance",
    "_Feature"
   ],
   "window_display": false
  }
 },
 "nbformat": 4,
 "nbformat_minor": 5
}
