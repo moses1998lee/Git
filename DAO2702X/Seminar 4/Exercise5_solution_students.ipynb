{
 "cells": [
  {
   "cell_type": "markdown",
   "id": "abf3d64c",
   "metadata": {},
   "source": [
    "## Question 1\n",
    "\n",
    "1. The code below\n",
    "\n",
    "```python\n",
    "####################\n",
    "a, b = 2.5, 3.9\n",
    "\n",
    "a = a + b\n",
    "b = a - b\n",
    "a = a - b\n",
    "####################\n",
    "```\n",
    "\n",
    "is equivalent to which of the code segments? (Ans: A)\n",
    "\n",
    "    A. \n",
    "```python\n",
    "a, b = 2.5, 3.9\n",
    "\n",
    "a, b = b, a\n",
    "```\n",
    "\n",
    "    B.\n",
    "```python\n",
    "a, b = 2.5, 3.9\n",
    "\n",
    "a, b = a + b, a - b\n",
    "```\n",
    "\n",
    "    C.\n",
    "```python\n",
    "a, b = 2.5, 3.9\n",
    "\n",
    "a, b = a - b, a - b\n",
    "```\n",
    "\n",
    "    D.\n",
    "```python\n",
    "a, b = 2.5, 3.9\n",
    "\n",
    "b, a = a, a - b\n",
    "```\n",
    "\n",
    "**Solution:**"
   ]
  },
  {
   "cell_type": "code",
   "execution_count": 1,
   "id": "ec0f093a",
   "metadata": {},
   "outputs": [
    {
     "name": "stdout",
     "output_type": "stream",
     "text": [
      "3.9 2.5000000000000004\n",
      "3.9 2.5\n"
     ]
    }
   ],
   "source": [
    "a, b = 2.5, 3.9\n",
    "a = a + b    # a becomes a+b\n",
    "b = a - b    # b becomes a+b - b = a\n",
    "a = a - b    # a becomes a+b - a = b\n",
    "print(a, b)\n",
    "\n",
    "a, b = 2.5, 3.9\n",
    "a, b = b, a\n",
    "print(a, b)"
   ]
  },
  {
   "cell_type": "markdown",
   "id": "311cc30a",
   "metadata": {},
   "source": [
    "---"
   ]
  },
  {
   "cell_type": "markdown",
   "id": "8426bf10",
   "metadata": {},
   "source": [
    "2. Given the code below, what is the value of the dictionary `d`? (Ans: B)\n",
    "\n",
    "```python\n",
    "####################\n",
    "d = {1: 'x', 2: 'y', 3: 'z'}\n",
    "s = 'abc'\n",
    "\n",
    "d[3], d[4], d[2] = s[1], s[2], s[0]\n",
    "####################\n",
    "```\n",
    "\n",
    "    A. An error message\n",
    "    B. {1: 'x', 2: 'a', 3: 'b', 4: 'c'}\n",
    "    C. {1: 'x', 2: 'y', 3: 'z', 'a': 1, 'b': 2, 'c': 0}\n",
    "    D. {1: 'x', 2: 'y', 3: 'z', 3: 'b', 4: 'c', 2: 'a'}\n",
    "    \n",
    "**Solution:**"
   ]
  },
  {
   "cell_type": "code",
   "execution_count": 2,
   "id": "9f87953e",
   "metadata": {},
   "outputs": [
    {
     "name": "stdout",
     "output_type": "stream",
     "text": [
      "{1: 'x', 2: 'a', 3: 'b', 4: 'c'}\n"
     ]
    }
   ],
   "source": [
    "d = {1: 'x', 2: 'y', 3: 'z'}\n",
    "s = 'abc'\n",
    "\n",
    "d[3], d[4], d[2] = s[1], s[2], s[0]\n",
    "\n",
    "print(d)"
   ]
  },
  {
   "cell_type": "markdown",
   "id": "a62ace2e",
   "metadata": {},
   "source": [
    "---"
   ]
  },
  {
   "cell_type": "markdown",
   "id": "b4fda9dc",
   "metadata": {},
   "source": [
    "3. The following dictionary provides information on a few courses provided by NUS Business.\n",
    "\n",
    "```python\n",
    "####################\n",
    "courses = {'DAO1704': 'Decision Analytics using Spreadsheets',\n",
    "           'MKT1705': 'Principles of Marketing',\n",
    "           'BSP1703': 'Managerial Economics',\n",
    "           'FIN2704': 'Finance',\n",
    "           'DAO2702': 'Programming for Business Analytics',\n",
    "           'DAO2703': 'Operations and Technology Management',\n",
    "           'ACC1701': 'Accounting for Decision Makers'}\n",
    "####################\n",
    "```\n",
    "\n",
    "Which of the code segments below is correct in creating a new dictionary `new_dao` that include all DAO courses. (Ans: D)\n",
    "\n",
    "    A.\n",
    "```python\n",
    "all_dao = {}\n",
    "for item, value in courses.items():\n",
    "    if 'DAO' in value:\n",
    "        all_dao.append(item)\n",
    "```\n",
    "\n",
    "    B.\n",
    "```python\n",
    "all_dao = {}\n",
    "for item, value in courses.items():\n",
    "    if 'DAO' in value:\n",
    "        all_dao[item] = value\n",
    "```\n",
    "\n",
    "    C.\n",
    "```python\n",
    "all_dao = {}\n",
    "for item in courses:\n",
    "    if 'DAO' in item:\n",
    "        all_dao[key] = item\n",
    "```\n",
    "\n",
    "    D.\n",
    "```python\n",
    "all_dao = {}\n",
    "for item in courses:\n",
    "    if 'DAO' in item:\n",
    "        all_dao[item] = courses[item]\n",
    "```\n",
    "\n",
    "**Solution:**"
   ]
  },
  {
   "cell_type": "code",
   "execution_count": 7,
   "id": "79b8c173",
   "metadata": {},
   "outputs": [
    {
     "data": {
      "text/plain": [
       "{'DAO1704': 'Decision Analytics using Spreadsheets',\n",
       " 'DAO2702': 'Programming for Business Analytics',\n",
       " 'DAO2703': 'Operations and Technology Management'}"
      ]
     },
     "execution_count": 7,
     "metadata": {},
     "output_type": "execute_result"
    }
   ],
   "source": [
    "courses = {'DAO1704': 'Decision Analytics using Spreadsheets',\n",
    "           'MKT1705': 'Principles of Marketing',\n",
    "           'BSP1703': 'Managerial Economics',\n",
    "           'FIN2704': 'Finance',\n",
    "           'DAO2702': 'Programming for Business Analytics',\n",
    "           'DAO2703': 'Operations and Technology Management',\n",
    "           'ACC1701': 'Accounting for Decision Makers'}\n",
    "\n",
    "all_dao = {}\n",
    "for item in courses:\n",
    "    if 'DAO' in item:\n",
    "        all_dao[item] = courses[item]\n",
    "        \n",
    "all_dao"
   ]
  },
  {
   "cell_type": "markdown",
   "id": "ebe08b0b-b349-4dc7-83b6-243434be65c2",
   "metadata": {},
   "source": [
    "---"
   ]
  },
  {
   "cell_type": "markdown",
   "id": "5a4441a6",
   "metadata": {},
   "source": [
    "## Question 2\n",
    "\n",
    "1. Consider the same biased die discussed in **Example 2** of **Lecture 5**, create a dictionary that the keys are the outcomes of the rolled numbers and the values are the corresponding probabilities."
   ]
  },
  {
   "cell_type": "code",
   "execution_count": null,
   "id": "66ae055c",
   "metadata": {},
   "outputs": [],
   "source": [
    "outcomes = [1, 2, 3, 4, 5, 6]                   # Rolled numbers\n",
    "probs = [0.15, 0.24, 0.18, 0.1, 0.21, 0.12]     # Probabilities"
   ]
  },
  {
   "cell_type": "markdown",
   "id": "56344453",
   "metadata": {},
   "source": [
    "**Solution**:"
   ]
  },
  {
   "cell_type": "code",
   "execution_count": 17,
   "id": "30476b25",
   "metadata": {
    "scrolled": true
   },
   "outputs": [
    {
     "data": {
      "text/plain": [
       "{1: 0.15, 2: 0.24, 3: 0.18, 4: 0.1, 5: 0.21, 6: 0.12}"
      ]
     },
     "execution_count": 17,
     "metadata": {},
     "output_type": "execute_result"
    }
   ],
   "source": [
    "rolls = {}\n",
    "for outcome, prob in zip(outcomes, probs):\n",
    "    rolls[outcome] = prob\n",
    "\n",
    "rolls"
   ]
  },
  {
   "cell_type": "code",
   "execution_count": 19,
   "id": "1f75301f-21b6-4d60-984b-8aa5f76cd1e5",
   "metadata": {},
   "outputs": [
    {
     "data": {
      "text/plain": [
       "{1: 0.15, 2: 0.24, 3: 0.18, 4: 0.1, 5: 0.21, 6: 0.12}"
      ]
     },
     "execution_count": 19,
     "metadata": {},
     "output_type": "execute_result"
    }
   ],
   "source": [
    "rolls = {outcome: prob for outcome, prob in zip(outcomes, probs)}\n",
    "\n",
    "rolls"
   ]
  },
  {
   "cell_type": "code",
   "execution_count": 21,
   "id": "048b954c-3449-41f9-b705-f27af3437681",
   "metadata": {},
   "outputs": [
    {
     "data": {
      "text/plain": [
       "{1: 0.15, 2: 0.24, 3: 0.18, 4: 0.1, 5: 0.21, 6: 0.12}"
      ]
     },
     "execution_count": 21,
     "metadata": {},
     "output_type": "execute_result"
    }
   ],
   "source": [
    "rolls = dict(zip(outcomes, probs))\n",
    "\n",
    "rolls"
   ]
  },
  {
   "cell_type": "markdown",
   "id": "57d6755a",
   "metadata": {},
   "source": [
    "2. Now we toss two identical biased dice described in **Example 2** of **Lecture 5**, create a dictionary that the keys are the sum of the outcomes of the two rolled numbers and the values are the corresponding probabilities.\n",
    "\n",
    "**Solution:**"
   ]
  },
  {
   "cell_type": "code",
   "execution_count": 25,
   "id": "86905275-cffd-4028-a74e-8882ef1ce10d",
   "metadata": {},
   "outputs": [
    {
     "data": {
      "text/plain": [
       "{2: 0.0225,\n",
       " 3: 0.072,\n",
       " 4: 0.11159999999999999,\n",
       " 5: 0.11639999999999999,\n",
       " 6: 0.1434,\n",
       " 7: 0.17279999999999998,\n",
       " 8: 0.1432,\n",
       " 9: 0.0852,\n",
       " 10: 0.0681,\n",
       " 11: 0.05039999999999999,\n",
       " 12: 0.0144}"
      ]
     },
     "execution_count": 25,
     "metadata": {},
     "output_type": "execute_result"
    }
   ],
   "source": [
    "rolls = {}\n",
    "for i in range(2, 13):\n",
    "    rolls[i] = 0\n",
    "    \n",
    "for num1, prob1 in zip(outcomes, probs):\n",
    "    for num2, prob2 in zip(outcomes, probs):\n",
    "        outcome = num1 + num2\n",
    "        prob = prob1 * prob2\n",
    "        rolls[outcome] += prob\n",
    "\n",
    "rolls"
   ]
  },
  {
   "cell_type": "markdown",
   "id": "6595ba62-e1a3-45b7-8b13-d71206430b83",
   "metadata": {},
   "source": [
    "**Or:**"
   ]
  },
  {
   "cell_type": "code",
   "execution_count": 24,
   "id": "7f12c5e7-023f-46e9-993e-01246adab819",
   "metadata": {},
   "outputs": [
    {
     "data": {
      "text/plain": [
       "{2: 0.0225,\n",
       " 3: 0.072,\n",
       " 4: 0.11159999999999999,\n",
       " 5: 0.11639999999999999,\n",
       " 6: 0.1434,\n",
       " 7: 0.17279999999999998,\n",
       " 8: 0.1432,\n",
       " 9: 0.0852,\n",
       " 10: 0.0681,\n",
       " 11: 0.05039999999999999,\n",
       " 12: 0.0144}"
      ]
     },
     "execution_count": 24,
     "metadata": {},
     "output_type": "execute_result"
    }
   ],
   "source": [
    "rolls = {}\n",
    "for num1, prob1 in zip(outcomes, probs):\n",
    "    for num2, prob2 in zip(outcomes, probs):\n",
    "        outcome = num1 + num2\n",
    "        prob = prob1 * prob2\n",
    "        if outcome in rolls:\n",
    "            rolls[outcome] += prob\n",
    "        else:\n",
    "            rolls[outcome] = prob\n",
    "\n",
    "rolls"
   ]
  },
  {
   "cell_type": "markdown",
   "id": "b31914e5-4976-40ea-b2cb-59862d7e1d1b",
   "metadata": {},
   "source": [
    "**Or:**"
   ]
  },
  {
   "cell_type": "code",
   "execution_count": 4,
   "id": "92cf69c9-0182-47b0-b606-64a8dea1cb20",
   "metadata": {},
   "outputs": [
    {
     "data": {
      "text/plain": [
       "{2: 0.0225,\n",
       " 3: 0.072,\n",
       " 4: 0.11159999999999999,\n",
       " 5: 0.11639999999999999,\n",
       " 6: 0.1434,\n",
       " 7: 0.17279999999999998,\n",
       " 8: 0.1432,\n",
       " 9: 0.0852,\n",
       " 10: 0.0681,\n",
       " 11: 0.05039999999999999,\n",
       " 12: 0.0144}"
      ]
     },
     "execution_count": 4,
     "metadata": {},
     "output_type": "execute_result"
    }
   ],
   "source": [
    "rolls = {}\n",
    "\n",
    "for num1, prob1 in zip(outcomes, probs):\n",
    "    for num2, prob2 in zip(outcomes, probs):\n",
    "        outcome = num1 + num2\n",
    "        prob = prob1 * prob2\n",
    "        rolls[outcome] = rolls.get(outcome, 0) + prob\n",
    "\n",
    "rolls"
   ]
  },
  {
   "cell_type": "markdown",
   "id": "ace0908f-e81d-4af8-9a31-93cc20be36cf",
   "metadata": {},
   "source": [
    "---"
   ]
  },
  {
   "cell_type": "markdown",
   "id": "bccbb218",
   "metadata": {},
   "source": [
    "## Question 3\n",
    "\n",
    "An online learning system has valid IDs and passwords of users saved as the keys and values, respectively, of a dictionary called `login`. "
   ]
  },
  {
   "cell_type": "code",
   "execution_count": 28,
   "id": "af480520",
   "metadata": {},
   "outputs": [],
   "source": [
    "login = {'PyHero': '12345',\n",
    "         'Sweet Py': 'abc123',\n",
    "         'Panda Power': 'abcABC'}"
   ]
  },
  {
   "cell_type": "markdown",
   "id": "e1201d34",
   "metadata": {},
   "source": [
    "Write a program that asks user to enter his/her ID and password. The detailed requirements are:\n",
    "- If the entered ID is not valid, display a message \"Invalid ID\", and terminate the program.\n",
    "- If the entered ID is valid, but the password is incorrect, display a message \"Incorrect password\", and ask the user to key in the password again.\n",
    "- The user has at most three chances to key in the password. If he/she used up all chances, display a message \"Unauthorized user\", then terminate the program.\n",
    "- If both the ID and password are correct, print \"Welcome!\", then terminate the program.\n",
    "\n",
    "**Solution**:"
   ]
  },
  {
   "cell_type": "code",
   "execution_count": 30,
   "id": "3c090898-383f-4f0c-95a3-7c402df7ae42",
   "metadata": {},
   "outputs": [
    {
     "name": "stdin",
     "output_type": "stream",
     "text": [
      "Enter your ID:  PyHero\n",
      "Enter your password:  qwerty\n"
     ]
    },
    {
     "name": "stdout",
     "output_type": "stream",
     "text": [
      "Incorrect password\n"
     ]
    },
    {
     "name": "stdin",
     "output_type": "stream",
     "text": [
      "Enter your password:  12345\n"
     ]
    },
    {
     "name": "stdout",
     "output_type": "stream",
     "text": [
      "Welcome!\n"
     ]
    }
   ],
   "source": [
    "user_id = input('Enter your ID: ')\n",
    "\n",
    "if user_id in login:\n",
    "    authorized = False\n",
    "\n",
    "    for i in range(3):\n",
    "        user_pwd = input('Enter your password: ')\n",
    "        if user_pwd == login[user_id]:\n",
    "            authorized = True\n",
    "            break\n",
    "        else:\n",
    "            print('Incorrect password')\n",
    "    \n",
    "    if authorized:\n",
    "        print('Welcome!')\n",
    "    else:\n",
    "        print('Unauthorized user.')\n",
    "else:\n",
    "    print('Invalid ID')"
   ]
  },
  {
   "cell_type": "markdown",
   "id": "544542b3-8dd0-429f-a56d-a42bbbc635b9",
   "metadata": {},
   "source": [
    "**Or:**"
   ]
  },
  {
   "cell_type": "code",
   "execution_count": 36,
   "id": "38f9aec1-2826-46ac-945f-77998f528897",
   "metadata": {},
   "outputs": [
    {
     "name": "stdin",
     "output_type": "stream",
     "text": [
      "Enter your ID:  PyHero\n",
      "Enter your password:  qwerty\n"
     ]
    },
    {
     "name": "stdout",
     "output_type": "stream",
     "text": [
      "Incorrect password\n"
     ]
    },
    {
     "name": "stdin",
     "output_type": "stream",
     "text": [
      "Enter your password:  12345\n"
     ]
    },
    {
     "name": "stdout",
     "output_type": "stream",
     "text": [
      "Welcome!\n"
     ]
    }
   ],
   "source": [
    "user_id = input('Enter your ID: ')\n",
    "\n",
    "if user_id in login:\n",
    "    authorized = False\n",
    "\n",
    "    for i in range(3):\n",
    "        user_pwd = input('Enter your password: ')\n",
    "        if user_pwd == login[user_id]:\n",
    "            authorized = True\n",
    "            print('Welcome!')\n",
    "            break\n",
    "        else:\n",
    "            print('Incorrect password')\n",
    "    else:\n",
    "        print('Unauthorized user.')\n",
    "\n",
    "else:\n",
    "    print('Invalid ID')"
   ]
  },
  {
   "cell_type": "markdown",
   "id": "486482b0",
   "metadata": {},
   "source": [
    "---"
   ]
  },
  {
   "cell_type": "markdown",
   "id": "23c3aac7",
   "metadata": {},
   "source": [
    "## Question 4\n",
    "\n",
    "A kopi house is planning to develop a automatic order system for all kopi drinks. In the code cell below, the `dict` type variable `prices` provides the price of each type of drinks sold by the kopi house. The other variable `kopis` uses a letter `K`/`O`/`C`/`S`/`I` to be the key of the dictionary, and the key is used by the customers to order each type of drink."
   ]
  },
  {
   "cell_type": "code",
   "execution_count": 39,
   "id": "3ffec2ec",
   "metadata": {},
   "outputs": [],
   "source": [
    "prices = {'Kopi': 1.8,\n",
    "          'Kopi O': 1.6,\n",
    "          'Kopi C': 2.0, \n",
    "          'Kopi Siew Dai': 1.8, \n",
    "          'Iced Kopi': 2.6}              # Prices for each drink\n",
    "\n",
    "kopis = {'K': 'Kopi',\n",
    "         'O': 'Kopi O',\n",
    "         'C': 'Kopi C', \n",
    "         'S': 'Kopi Siew Dai', \n",
    "         'I': 'Iced Kopi'}               # Keys for ordering different drinks"
   ]
  },
  {
   "cell_type": "markdown",
   "id": "8923c068",
   "metadata": {},
   "source": [
    "1. Write a program that prints all kopi drinks and their prices.\n",
    "\n",
    "**Solution**:"
   ]
  },
  {
   "cell_type": "code",
   "execution_count": 40,
   "id": "cb2ad9fa",
   "metadata": {},
   "outputs": [
    {
     "name": "stdout",
     "output_type": "stream",
     "text": [
      "Kopi:             $1.8\n",
      "Kopi O:           $1.6\n",
      "Kopi C:           $2.0\n",
      "Kopi Siew Dai:    $1.8\n",
      "Iced Kopi:        $2.6\n"
     ]
    }
   ],
   "source": [
    "for drink, price in prices.items():\n",
    "    space = ' ' * (15 - len(drink))\n",
    "    print(f'{drink}: {space} ${price}')"
   ]
  },
  {
   "cell_type": "markdown",
   "id": "11ad0582",
   "metadata": {},
   "source": [
    "2. Write another program that asks the user to key in 1) the kopi drink (a letter `K`/`O`/`C`/`S`/`I`) and 2) the quantity of ordered drink, then the program prints the 1) the drink; 2) the quantity; and 3) the total price. A sample inputs/outputs is shown below."
   ]
  },
  {
   "cell_type": "raw",
   "id": "e2a9bd80",
   "metadata": {},
   "source": [
    "Select a drink: K/O/C/S/I: C\n",
    "Quantity: 3\n",
    "\n",
    "Your order is: Kopi C x 3\n",
    "The total price: $6.0"
   ]
  },
  {
   "cell_type": "markdown",
   "id": "b009766c",
   "metadata": {},
   "source": [
    "**Solution**:"
   ]
  },
  {
   "cell_type": "code",
   "execution_count": 50,
   "id": "2dbe774d",
   "metadata": {},
   "outputs": [
    {
     "name": "stdin",
     "output_type": "stream",
     "text": [
      "Select a drink: K/O/C/S/I:  C\n",
      "Quantity:  3\n"
     ]
    },
    {
     "name": "stdout",
     "output_type": "stream",
     "text": [
      "\n",
      "\n",
      "Your order is: Kopi C x 3\n",
      "The total price: $6.0\n"
     ]
    }
   ],
   "source": [
    "order = input('Select a drink: K/O/C/S/I: ')\n",
    "quant = input('Quantity: ')\n",
    "\n",
    "print('\\n')\n",
    "drink = kopis[order]\n",
    "print(f'Your order is: {drink} x {quant}')\n",
    "total_price = prices[drink] * int(quant)\n",
    "print(f'The total price: ${total_price}')"
   ]
  },
  {
   "cell_type": "markdown",
   "id": "2a8d5844",
   "metadata": {},
   "source": [
    "We can combine **Q4.1** and **Q4.2** and create the following program."
   ]
  },
  {
   "cell_type": "code",
   "execution_count": 13,
   "id": "28861cdc",
   "metadata": {
    "scrolled": true
   },
   "outputs": [
    {
     "name": "stdout",
     "output_type": "stream",
     "text": [
      "Welcome to Kopi Pro!\n",
      "Kopi(K):             $1.8\n",
      "Kopi O(O):           $1.6\n",
      "Kopi C(C):           $2.0\n",
      "Kopi Siew Dai(S):    $1.8\n",
      "Iced Kopi(I):        $2.6\n",
      "----------------------------\n",
      "Select a drink: K/O/C/S/I: I\n",
      "Quantity: 2\n",
      "----------------------------\n",
      "Your order is: Iced Kopi x 2\n",
      "The total price: $5.2\n"
     ]
    }
   ],
   "source": [
    "print('Welcome to Kopi Pro!')\n",
    "for letter in kopis:\n",
    "    drink = kopis[letter]\n",
    "    price = prices[drink]\n",
    "    space = ' ' * (15 - len(drink))\n",
    "    print(f'{drink}({letter}): {space} ${price}')\n",
    "\n",
    "print('----------------------------')\n",
    "\n",
    "order = input('Select a drink: K/O/C/S/I: ')\n",
    "quant = input('Quantity: ')\n",
    "\n",
    "print('----------------------------')\n",
    "drink = kopis[order]\n",
    "print(f'Your order is: {drink} x {quant}')\n",
    "total_price = prices[drink] * int(quant)\n",
    "print(f'The total price: ${total_price}')"
   ]
  }
 ],
 "metadata": {
  "kernelspec": {
   "display_name": "python3",
   "language": "python",
   "name": "python3"
  },
  "language_info": {
   "codemirror_mode": {
    "name": "ipython",
    "version": 3
   },
   "file_extension": ".py",
   "mimetype": "text/x-python",
   "name": "python",
   "nbconvert_exporter": "python",
   "pygments_lexer": "ipython3",
   "version": "3.7.11"
  },
  "varInspector": {
   "cols": {
    "lenName": 16,
    "lenType": 16,
    "lenVar": 40
   },
   "kernels_config": {
    "python": {
     "delete_cmd_postfix": "",
     "delete_cmd_prefix": "del ",
     "library": "var_list.py",
     "varRefreshCmd": "print(var_dic_list())"
    },
    "r": {
     "delete_cmd_postfix": ") ",
     "delete_cmd_prefix": "rm(",
     "library": "var_list.r",
     "varRefreshCmd": "cat(var_dic_list()) "
    }
   },
   "types_to_exclude": [
    "module",
    "function",
    "builtin_function_or_method",
    "instance",
    "_Feature"
   ],
   "window_display": false
  }
 },
 "nbformat": 4,
 "nbformat_minor": 5
}
