{
 "cells": [
  {
   "cell_type": "markdown",
   "id": "df9e055f",
   "metadata": {},
   "source": [
    "# Advanced Topics for Lecture 10\n",
    "\n",
    "## The Expected Value and Variance of a Portfolio with $N$ Assets\n",
    "\n",
    "In the exercise questions, we discussed the expected return and variance of the returns of a portfolio with bonds and stocks. In this section, we consider a more general case of portfolios with $N$ assets. Let $r_i$ be a random variable representing the return on the $i$th asset, and $w_i$ be the allocated weight of $i$th asset, with $i=1, 2, ..., N$. Let the return of the portfolio be $R$. The expected return $\\mathbb{E}(R)$ and variance of the returns $\\text{Var}(R)$ of the portfolio can be written as the following equations:\n",
    "\n",
    "$$\n",
    "\\begin{cases}\n",
    "\\mathbb{E}\\left(R\\right) = \\mathbb{E}\\left(\\sum\\limits_{i=1}^Nw_ir_i\\right) = \\sum\\limits_{i=1}^Nw_i\\mathbb{E}(r_i) \\\\\n",
    "\\text{Var}\\left(R\\right) = \\text{Var}\\left(\\sum\\limits_{i=1}^Nw_ir_i\\right) = \\sum\\limits_{i=1}^N\\sum\\limits_{j=1}^Nw_iw_j\\sigma_{ij}\n",
    "\\end{cases}\n",
    "$$\n",
    "\n",
    "where $\\sigma_{ij}$ is the value in the $i$th row and $j$th column of the covariance matrix of asset returns. \n",
    "\n",
    "We will use the \"stocks.csv\" dataset to demonstrate the calculation. "
   ]
  },
  {
   "cell_type": "code",
   "execution_count": 1,
   "id": "3ae50af7",
   "metadata": {},
   "outputs": [
    {
     "data": {
      "text/html": [
       "<div>\n",
       "<style scoped>\n",
       "    .dataframe tbody tr th:only-of-type {\n",
       "        vertical-align: middle;\n",
       "    }\n",
       "\n",
       "    .dataframe tbody tr th {\n",
       "        vertical-align: top;\n",
       "    }\n",
       "\n",
       "    .dataframe thead th {\n",
       "        text-align: right;\n",
       "    }\n",
       "</style>\n",
       "<table border=\"1\" class=\"dataframe\">\n",
       "  <thead>\n",
       "    <tr style=\"text-align: right;\">\n",
       "      <th></th>\n",
       "      <th>JPM</th>\n",
       "      <th>XOM</th>\n",
       "      <th>CRM</th>\n",
       "      <th>AMZN</th>\n",
       "      <th>TSLA</th>\n",
       "      <th>...</th>\n",
       "      <th>MCD</th>\n",
       "      <th>NKE</th>\n",
       "      <th>SBUX</th>\n",
       "      <th>T</th>\n",
       "      <th>KO</th>\n",
       "    </tr>\n",
       "  </thead>\n",
       "  <tbody>\n",
       "    <tr>\n",
       "      <th>0</th>\n",
       "      <td>0.004633</td>\n",
       "      <td>0.024363</td>\n",
       "      <td>-0.015541</td>\n",
       "      <td>-0.004564</td>\n",
       "      <td>-0.002316</td>\n",
       "      <td>...</td>\n",
       "      <td>0.007222</td>\n",
       "      <td>-0.005408</td>\n",
       "      <td>-0.000681</td>\n",
       "      <td>0.016550</td>\n",
       "      <td>0.001411</td>\n",
       "    </tr>\n",
       "    <tr>\n",
       "      <th>1</th>\n",
       "      <td>-0.006045</td>\n",
       "      <td>-0.003813</td>\n",
       "      <td>0.011092</td>\n",
       "      <td>0.004311</td>\n",
       "      <td>0.001611</td>\n",
       "      <td>...</td>\n",
       "      <td>-0.004377</td>\n",
       "      <td>-0.002322</td>\n",
       "      <td>-0.001534</td>\n",
       "      <td>-0.002894</td>\n",
       "      <td>-0.000705</td>\n",
       "    </tr>\n",
       "    <tr>\n",
       "      <th>2</th>\n",
       "      <td>-0.001756</td>\n",
       "      <td>-0.005832</td>\n",
       "      <td>-0.007002</td>\n",
       "      <td>0.008982</td>\n",
       "      <td>0.026378</td>\n",
       "      <td>...</td>\n",
       "      <td>-0.011012</td>\n",
       "      <td>-0.003981</td>\n",
       "      <td>-0.011946</td>\n",
       "      <td>-0.005080</td>\n",
       "      <td>-0.018685</td>\n",
       "    </tr>\n",
       "    <tr>\n",
       "      <th>3</th>\n",
       "      <td>-0.004460</td>\n",
       "      <td>-0.009166</td>\n",
       "      <td>-0.009766</td>\n",
       "      <td>0.004619</td>\n",
       "      <td>0.001262</td>\n",
       "      <td>...</td>\n",
       "      <td>0.010288</td>\n",
       "      <td>-0.011867</td>\n",
       "      <td>0.019432</td>\n",
       "      <td>0.006564</td>\n",
       "      <td>0.013472</td>\n",
       "    </tr>\n",
       "    <tr>\n",
       "      <th>...</th>\n",
       "      <td>...</td>\n",
       "      <td>...</td>\n",
       "      <td>...</td>\n",
       "      <td>...</td>\n",
       "      <td>...</td>\n",
       "      <td>...</td>\n",
       "      <td>...</td>\n",
       "      <td>...</td>\n",
       "      <td>...</td>\n",
       "      <td>...</td>\n",
       "      <td>...</td>\n",
       "    </tr>\n",
       "    <tr>\n",
       "      <th>247</th>\n",
       "      <td>-0.032729</td>\n",
       "      <td>-0.012312</td>\n",
       "      <td>-0.049911</td>\n",
       "      <td>-0.047567</td>\n",
       "      <td>-0.026953</td>\n",
       "      <td>...</td>\n",
       "      <td>-0.021366</td>\n",
       "      <td>-0.043632</td>\n",
       "      <td>-0.038105</td>\n",
       "      <td>-0.011056</td>\n",
       "      <td>-0.024122</td>\n",
       "    </tr>\n",
       "    <tr>\n",
       "      <th>248</th>\n",
       "      <td>-0.002442</td>\n",
       "      <td>0.022990</td>\n",
       "      <td>-0.030382</td>\n",
       "      <td>-0.007342</td>\n",
       "      <td>-0.011351</td>\n",
       "      <td>...</td>\n",
       "      <td>-0.005020</td>\n",
       "      <td>-0.003694</td>\n",
       "      <td>0.000714</td>\n",
       "      <td>-0.006149</td>\n",
       "      <td>-0.006021</td>\n",
       "    </tr>\n",
       "    <tr>\n",
       "      <th>249</th>\n",
       "      <td>0.000175</td>\n",
       "      <td>-0.038054</td>\n",
       "      <td>-0.003371</td>\n",
       "      <td>-0.008167</td>\n",
       "      <td>-0.024998</td>\n",
       "      <td>...</td>\n",
       "      <td>-0.008488</td>\n",
       "      <td>-0.000185</td>\n",
       "      <td>-0.008440</td>\n",
       "      <td>0.002250</td>\n",
       "      <td>-0.009246</td>\n",
       "    </tr>\n",
       "    <tr>\n",
       "      <th>250</th>\n",
       "      <td>-0.005944</td>\n",
       "      <td>-0.007476</td>\n",
       "      <td>-0.022233</td>\n",
       "      <td>-0.015226</td>\n",
       "      <td>-0.007526</td>\n",
       "      <td>...</td>\n",
       "      <td>0.000674</td>\n",
       "      <td>-0.013073</td>\n",
       "      <td>0.007913</td>\n",
       "      <td>-0.015713</td>\n",
       "      <td>-0.007080</td>\n",
       "    </tr>\n",
       "  </tbody>\n",
       "</table>\n",
       "<p>251 rows × 15 columns</p>\n",
       "</div>"
      ],
      "text/plain": [
       "          JPM       XOM       CRM      AMZN      TSLA  ...       MCD  \\\n",
       "0    0.004633  0.024363 -0.015541 -0.004564 -0.002316  ...  0.007222   \n",
       "1   -0.006045 -0.003813  0.011092  0.004311  0.001611  ... -0.004377   \n",
       "2   -0.001756 -0.005832 -0.007002  0.008982  0.026378  ... -0.011012   \n",
       "3   -0.004460 -0.009166 -0.009766  0.004619  0.001262  ...  0.010288   \n",
       "..        ...       ...       ...       ...       ...  ...       ...   \n",
       "247 -0.032729 -0.012312 -0.049911 -0.047567 -0.026953  ... -0.021366   \n",
       "248 -0.002442  0.022990 -0.030382 -0.007342 -0.011351  ... -0.005020   \n",
       "249  0.000175 -0.038054 -0.003371 -0.008167 -0.024998  ... -0.008488   \n",
       "250 -0.005944 -0.007476 -0.022233 -0.015226 -0.007526  ...  0.000674   \n",
       "\n",
       "          NKE      SBUX         T        KO  \n",
       "0   -0.005408 -0.000681  0.016550  0.001411  \n",
       "1   -0.002322 -0.001534 -0.002894 -0.000705  \n",
       "2   -0.003981 -0.011946 -0.005080 -0.018685  \n",
       "3   -0.011867  0.019432  0.006564  0.013472  \n",
       "..        ...       ...       ...       ...  \n",
       "247 -0.043632 -0.038105 -0.011056 -0.024122  \n",
       "248 -0.003694  0.000714 -0.006149 -0.006021  \n",
       "249 -0.000185 -0.008440  0.002250 -0.009246  \n",
       "250 -0.013073  0.007913 -0.015713 -0.007080  \n",
       "\n",
       "[251 rows x 15 columns]"
      ]
     },
     "execution_count": 1,
     "metadata": {},
     "output_type": "execute_result"
    }
   ],
   "source": [
    "import pandas as pd\n",
    "import numpy as np\n",
    "\n",
    "pd.options.display.max_columns = 10\n",
    "pd.options.display.max_rows = 8\n",
    "\n",
    "stocks = pd.read_csv('stocks.csv')\n",
    "returns = stocks.pct_change().dropna().reset_index(drop=True)\n",
    "returns"
   ]
  },
  {
   "cell_type": "code",
   "execution_count": 2,
   "id": "8788c3a0",
   "metadata": {},
   "outputs": [
    {
     "data": {
      "text/plain": [
       "(252, 15)"
      ]
     },
     "execution_count": 2,
     "metadata": {},
     "output_type": "execute_result"
    }
   ],
   "source": [
    "stocks.shape"
   ]
  },
  {
   "cell_type": "markdown",
   "id": "f1be11b7",
   "metadata": {},
   "source": [
    "Here, we will use the sample means and sample covariance of the returns of 15 stocks to approximate their true expected values and covariance. "
   ]
  },
  {
   "cell_type": "code",
   "execution_count": 3,
   "id": "2839d562",
   "metadata": {},
   "outputs": [
    {
     "data": {
      "text/plain": [
       "JPM    -0.001091\n",
       "XOM     0.002696\n",
       "CRM    -0.001772\n",
       "AMZN   -0.000871\n",
       "          ...   \n",
       "NKE    -0.001469\n",
       "SBUX   -0.001028\n",
       "T      -0.000173\n",
       "KO      0.000528\n",
       "Length: 15, dtype: float64"
      ]
     },
     "execution_count": 3,
     "metadata": {},
     "output_type": "execute_result"
    }
   ],
   "source": [
    "means = returns.mean()\n",
    "means"
   ]
  },
  {
   "cell_type": "code",
   "execution_count": 4,
   "id": "9e0a5809",
   "metadata": {},
   "outputs": [
    {
     "data": {
      "text/html": [
       "<div>\n",
       "<style scoped>\n",
       "    .dataframe tbody tr th:only-of-type {\n",
       "        vertical-align: middle;\n",
       "    }\n",
       "\n",
       "    .dataframe tbody tr th {\n",
       "        vertical-align: top;\n",
       "    }\n",
       "\n",
       "    .dataframe thead th {\n",
       "        text-align: right;\n",
       "    }\n",
       "</style>\n",
       "<table border=\"1\" class=\"dataframe\">\n",
       "  <thead>\n",
       "    <tr style=\"text-align: right;\">\n",
       "      <th></th>\n",
       "      <th>JPM</th>\n",
       "      <th>XOM</th>\n",
       "      <th>CRM</th>\n",
       "      <th>AMZN</th>\n",
       "      <th>TSLA</th>\n",
       "      <th>...</th>\n",
       "      <th>MCD</th>\n",
       "      <th>NKE</th>\n",
       "      <th>SBUX</th>\n",
       "      <th>T</th>\n",
       "      <th>KO</th>\n",
       "    </tr>\n",
       "  </thead>\n",
       "  <tbody>\n",
       "    <tr>\n",
       "      <th>JPM</th>\n",
       "      <td>0.000299</td>\n",
       "      <td>0.000110</td>\n",
       "      <td>0.000186</td>\n",
       "      <td>0.000215</td>\n",
       "      <td>0.000233</td>\n",
       "      <td>...</td>\n",
       "      <td>0.000098</td>\n",
       "      <td>0.000181</td>\n",
       "      <td>0.000184</td>\n",
       "      <td>0.000098</td>\n",
       "      <td>0.000078</td>\n",
       "    </tr>\n",
       "    <tr>\n",
       "      <th>XOM</th>\n",
       "      <td>0.000110</td>\n",
       "      <td>0.000450</td>\n",
       "      <td>0.000082</td>\n",
       "      <td>0.000099</td>\n",
       "      <td>0.000113</td>\n",
       "      <td>...</td>\n",
       "      <td>0.000026</td>\n",
       "      <td>0.000070</td>\n",
       "      <td>0.000045</td>\n",
       "      <td>0.000069</td>\n",
       "      <td>0.000037</td>\n",
       "    </tr>\n",
       "    <tr>\n",
       "      <th>CRM</th>\n",
       "      <td>0.000186</td>\n",
       "      <td>0.000082</td>\n",
       "      <td>0.000766</td>\n",
       "      <td>0.000515</td>\n",
       "      <td>0.000582</td>\n",
       "      <td>...</td>\n",
       "      <td>0.000115</td>\n",
       "      <td>0.000367</td>\n",
       "      <td>0.000324</td>\n",
       "      <td>0.000090</td>\n",
       "      <td>0.000077</td>\n",
       "    </tr>\n",
       "    <tr>\n",
       "      <th>AMZN</th>\n",
       "      <td>0.000215</td>\n",
       "      <td>0.000099</td>\n",
       "      <td>0.000515</td>\n",
       "      <td>0.000777</td>\n",
       "      <td>0.000604</td>\n",
       "      <td>...</td>\n",
       "      <td>0.000130</td>\n",
       "      <td>0.000381</td>\n",
       "      <td>0.000324</td>\n",
       "      <td>0.000082</td>\n",
       "      <td>0.000081</td>\n",
       "    </tr>\n",
       "    <tr>\n",
       "      <th>...</th>\n",
       "      <td>...</td>\n",
       "      <td>...</td>\n",
       "      <td>...</td>\n",
       "      <td>...</td>\n",
       "      <td>...</td>\n",
       "      <td>...</td>\n",
       "      <td>...</td>\n",
       "      <td>...</td>\n",
       "      <td>...</td>\n",
       "      <td>...</td>\n",
       "      <td>...</td>\n",
       "    </tr>\n",
       "    <tr>\n",
       "      <th>NKE</th>\n",
       "      <td>0.000181</td>\n",
       "      <td>0.000070</td>\n",
       "      <td>0.000367</td>\n",
       "      <td>0.000381</td>\n",
       "      <td>0.000429</td>\n",
       "      <td>...</td>\n",
       "      <td>0.000110</td>\n",
       "      <td>0.000477</td>\n",
       "      <td>0.000290</td>\n",
       "      <td>0.000080</td>\n",
       "      <td>0.000083</td>\n",
       "    </tr>\n",
       "    <tr>\n",
       "      <th>SBUX</th>\n",
       "      <td>0.000184</td>\n",
       "      <td>0.000045</td>\n",
       "      <td>0.000324</td>\n",
       "      <td>0.000324</td>\n",
       "      <td>0.000399</td>\n",
       "      <td>...</td>\n",
       "      <td>0.000141</td>\n",
       "      <td>0.000290</td>\n",
       "      <td>0.000435</td>\n",
       "      <td>0.000086</td>\n",
       "      <td>0.000085</td>\n",
       "    </tr>\n",
       "    <tr>\n",
       "      <th>T</th>\n",
       "      <td>0.000098</td>\n",
       "      <td>0.000069</td>\n",
       "      <td>0.000090</td>\n",
       "      <td>0.000082</td>\n",
       "      <td>0.000061</td>\n",
       "      <td>...</td>\n",
       "      <td>0.000065</td>\n",
       "      <td>0.000080</td>\n",
       "      <td>0.000086</td>\n",
       "      <td>0.000275</td>\n",
       "      <td>0.000077</td>\n",
       "    </tr>\n",
       "    <tr>\n",
       "      <th>KO</th>\n",
       "      <td>0.000078</td>\n",
       "      <td>0.000037</td>\n",
       "      <td>0.000077</td>\n",
       "      <td>0.000081</td>\n",
       "      <td>0.000059</td>\n",
       "      <td>...</td>\n",
       "      <td>0.000088</td>\n",
       "      <td>0.000083</td>\n",
       "      <td>0.000085</td>\n",
       "      <td>0.000077</td>\n",
       "      <td>0.000140</td>\n",
       "    </tr>\n",
       "  </tbody>\n",
       "</table>\n",
       "<p>15 rows × 15 columns</p>\n",
       "</div>"
      ],
      "text/plain": [
       "           JPM       XOM       CRM      AMZN      TSLA  ...       MCD  \\\n",
       "JPM   0.000299  0.000110  0.000186  0.000215  0.000233  ...  0.000098   \n",
       "XOM   0.000110  0.000450  0.000082  0.000099  0.000113  ...  0.000026   \n",
       "CRM   0.000186  0.000082  0.000766  0.000515  0.000582  ...  0.000115   \n",
       "AMZN  0.000215  0.000099  0.000515  0.000777  0.000604  ...  0.000130   \n",
       "...        ...       ...       ...       ...       ...  ...       ...   \n",
       "NKE   0.000181  0.000070  0.000367  0.000381  0.000429  ...  0.000110   \n",
       "SBUX  0.000184  0.000045  0.000324  0.000324  0.000399  ...  0.000141   \n",
       "T     0.000098  0.000069  0.000090  0.000082  0.000061  ...  0.000065   \n",
       "KO    0.000078  0.000037  0.000077  0.000081  0.000059  ...  0.000088   \n",
       "\n",
       "           NKE      SBUX         T        KO  \n",
       "JPM   0.000181  0.000184  0.000098  0.000078  \n",
       "XOM   0.000070  0.000045  0.000069  0.000037  \n",
       "CRM   0.000367  0.000324  0.000090  0.000077  \n",
       "AMZN  0.000381  0.000324  0.000082  0.000081  \n",
       "...        ...       ...       ...       ...  \n",
       "NKE   0.000477  0.000290  0.000080  0.000083  \n",
       "SBUX  0.000290  0.000435  0.000086  0.000085  \n",
       "T     0.000080  0.000086  0.000275  0.000077  \n",
       "KO    0.000083  0.000085  0.000077  0.000140  \n",
       "\n",
       "[15 rows x 15 columns]"
      ]
     },
     "execution_count": 4,
     "metadata": {},
     "output_type": "execute_result"
    }
   ],
   "source": [
    "sigma = returns.cov()\n",
    "sigma"
   ]
  },
  {
   "cell_type": "markdown",
   "id": "b0af8109",
   "metadata": {},
   "source": [
    "Now we consider a portfolio with equal weight of each stock, i.e. $x_i=1/N$."
   ]
  },
  {
   "cell_type": "code",
   "execution_count": 5,
   "id": "5bbcc069",
   "metadata": {},
   "outputs": [
    {
     "data": {
      "text/plain": [
       "array([0.06666667, 0.06666667, 0.06666667, 0.06666667, 0.06666667,\n",
       "       0.06666667, 0.06666667, 0.06666667, 0.06666667, 0.06666667,\n",
       "       0.06666667, 0.06666667, 0.06666667, 0.06666667, 0.06666667])"
      ]
     },
     "execution_count": 5,
     "metadata": {},
     "output_type": "execute_result"
    }
   ],
   "source": [
    "N = stocks.shape[1]\n",
    "\n",
    "w = np.ones(N) / N\n",
    "w"
   ]
  },
  {
   "cell_type": "markdown",
   "id": "7a200f50",
   "metadata": {},
   "source": [
    "The expected value (`mean_p`) and variance (`var_p`) can be calculated by the following code."
   ]
  },
  {
   "cell_type": "code",
   "execution_count": 6,
   "id": "b0613b42",
   "metadata": {},
   "outputs": [
    {
     "name": "stdout",
     "output_type": "stream",
     "text": [
      "Expected return: -0.0005664798854834127\n",
      "Variance of returns: 0.00023517318687245252\n"
     ]
    }
   ],
   "source": [
    "mean_p = (w * means.values).sum()\n",
    "var_p = (w.reshape((N, 1)) * sigma.values * w).sum()\n",
    "\n",
    "print(f\"Expected return: {mean_p}\")\n",
    "print(f\"Variance of returns: {var_p}\")"
   ]
  },
  {
   "cell_type": "markdown",
   "id": "ab35488e",
   "metadata": {},
   "source": [
    "## Mean-Variance Optimization of Portfolios\n",
    "\n",
    "In the section above, we discussed how to calculate the mean and variance of the return of a portfolio. In this section, we will introduce how to optimize the weights of a portfolio according to the mean-variance analysis, proposed by Harry Markowitz (1952). This work earned him the Nobel Prize in Economics about four decades later. The optimization problem is formulated as follows,\n",
    "\n",
    "$$\n",
    "\\begin{align}\n",
    "\\min~&\\sum\\limits_{i=1}^N\\sum\\limits_{j=1}^Nw_iw_j\\sigma_{ij}\\\\\n",
    "\\text{subject to}~&\\sum\\limits_{i=1}^Nw_i\\mathbb{E}(R_i)\\geq\\tau\\\\\n",
    "&\\sum\\limits_{i=1}^Nw_i = 1\\\\\n",
    "&w_i\\geq0,~~~~i=1,2,...,N.\n",
    "\\end{align}\n",
    "$$\n",
    "\n",
    "The optimization model suggests that we are seeking the smallest risk, in terms of the variance, while the expected return guaranteed to be no lower than a target value $\\tau$, selected by the investor.\n",
    "\n",
    "This model is a quadratic programming problem, and we can also use the RSOME package, introduced in the Advanced Topics for Lecture 9, to solve it. Here, we need to install a free solver ECOS for solving the quadratic programming problem."
   ]
  },
  {
   "cell_type": "code",
   "execution_count": 9,
   "id": "ab424bfd-910f-47ec-9632-738d5cbeaa59",
   "metadata": {
    "scrolled": true
   },
   "outputs": [
    {
     "name": "stdout",
     "output_type": "stream",
     "text": [
      "Collecting rsome\n",
      "  Downloading rsome-1.1.3-py3-none-any.whl (64 kB)\n",
      "\u001b[2K     \u001b[90m━━━━━━━━━━━━━━━━━━━━━━━━━━━━━━━━━━━━━━━━\u001b[0m \u001b[32m64.0/64.0 kB\u001b[0m \u001b[31m2.0 MB/s\u001b[0m eta \u001b[36m0:00:00\u001b[0m\n",
      "\u001b[?25hRequirement already satisfied: ecos in /Users/runyan/anaconda3/envs/dao2702x_py3_9_13/lib/python3.9/site-packages (2.0.12)\n",
      "Requirement already satisfied: scipy>=1.2.1 in /Users/runyan/anaconda3/envs/dao2702x_py3_9_13/lib/python3.9/site-packages (from rsome) (1.9.3)\n",
      "Requirement already satisfied: pandas>=0.25.0 in /Users/runyan/anaconda3/envs/dao2702x_py3_9_13/lib/python3.9/site-packages (from rsome) (1.5.0)\n",
      "Requirement already satisfied: numpy>=1.20.0 in /Users/runyan/anaconda3/envs/dao2702x_py3_9_13/lib/python3.9/site-packages (from rsome) (1.23.3)\n",
      "Requirement already satisfied: python-dateutil>=2.8.1 in /Users/runyan/anaconda3/envs/dao2702x_py3_9_13/lib/python3.9/site-packages (from pandas>=0.25.0->rsome) (2.8.2)\n",
      "Requirement already satisfied: pytz>=2020.1 in /Users/runyan/anaconda3/envs/dao2702x_py3_9_13/lib/python3.9/site-packages (from pandas>=0.25.0->rsome) (2022.2.1)\n",
      "Requirement already satisfied: six>=1.5 in /Users/runyan/anaconda3/envs/dao2702x_py3_9_13/lib/python3.9/site-packages (from python-dateutil>=2.8.1->pandas>=0.25.0->rsome) (1.16.0)\n",
      "Installing collected packages: rsome\n",
      "Successfully installed rsome-1.1.3\n"
     ]
    }
   ],
   "source": [
    "# Uncomment the below and run it to install the rsome and ecos package.\n",
    "# !pip install rsome ecos"
   ]
  },
  {
   "cell_type": "markdown",
   "id": "f1e2c2b6",
   "metadata": {},
   "source": [
    "Now we select a return target $\\tau=0.0005$, the optimization model can be solved by the following code."
   ]
  },
  {
   "cell_type": "code",
   "execution_count": 10,
   "id": "58a45c4e-b7a4-47c1-ab6b-f5a8639c89fd",
   "metadata": {},
   "outputs": [
    {
     "name": "stdout",
     "output_type": "stream",
     "text": [
      "Being solved by ECOS...\n",
      "Solution status: Optimal solution found\n",
      "Running time: 0.0243s\n"
     ]
    }
   ],
   "source": [
    "from rsome import ro                       # Import ro models\n",
    "from rsome import eco_solver as eco        # Import the ECOS solver\n",
    "\n",
    "N = stocks.shape[1]\n",
    "tau = 0.0005                               # Target return\n",
    "\n",
    "model = ro.Model()                         # Create a model\n",
    "\n",
    "w = model.dvar(N)                          # Define decision variables\n",
    "\n",
    "model.min(w.quad(sigma.values))            # Define objective function\n",
    "model.st((w * means.values).sum() >= tau)  # The 1st constraint\n",
    "model.st(w.sum() == 1)                     # The 2nd constraint\n",
    "model.st(w >= 0)                           # The 3rd constraint\n",
    "\n",
    "model.solve(eco)                           # Solve the model by ECOS solver"
   ]
  },
  {
   "cell_type": "markdown",
   "id": "5487f590-2e8d-4ce7-aa30-3fdb7fb106fc",
   "metadata": {},
   "source": [
    "The optimal weights of the selected assets are displayed below."
   ]
  },
  {
   "cell_type": "code",
   "execution_count": 35,
   "id": "2e310006-951f-49e7-8ced-0d713f5332db",
   "metadata": {},
   "outputs": [
    {
     "data": {
      "image/png": "[encoded data removed]",
      "text/plain": [
       "<Figure size 800x280 with 1 Axes>"
      ]
     },
     "metadata": {},
     "output_type": "display_data"
    }
   ],
   "source": [
    "import matplotlib.pyplot as plt\n",
    "\n",
    "plt.figure(figsize=(8, 2.8))\n",
    "plt.bar(means.index, w.get())\n",
    "plt.title(\"Stock Allocation\", fontsize=11)\n",
    "plt.ylabel('Weight', fontsize=10)\n",
    "plt.xlabel('Stocks', fontsize=10)\n",
    "plt.xticks(fontsize=8)\n",
    "plt.yticks(fontsize=8)\n",
    "plt.show()"
   ]
  },
  {
   "cell_type": "markdown",
   "id": "59ad950b",
   "metadata": {},
   "source": [
    "You may choose different values for the target $\\tau$ to explore how it influence the decision on portfolio selections."
   ]
  }
 ],
 "metadata": {
  "kernelspec": {
   "display_name": "dao2702x_py3_9_13",
   "language": "python",
   "name": "dao2702x_py3_9_13"
  },
  "language_info": {
   "codemirror_mode": {
    "name": "ipython",
    "version": 3
   },
   "file_extension": ".py",
   "mimetype": "text/x-python",
   "name": "python",
   "nbconvert_exporter": "python",
   "pygments_lexer": "ipython3",
   "version": "3.9.13"
  },
  "varInspector": {
   "cols": {
    "lenName": 16,
    "lenType": 16,
    "lenVar": 40
   },
   "kernels_config": {
    "python": {
     "delete_cmd_postfix": "",
     "delete_cmd_prefix": "del ",
     "library": "var_list.py",
     "varRefreshCmd": "print(var_dic_list())"
    },
    "r": {
     "delete_cmd_postfix": ") ",
     "delete_cmd_prefix": "rm(",
     "library": "var_list.r",
     "varRefreshCmd": "cat(var_dic_list()) "
    }
   },
   "types_to_exclude": [
    "module",
    "function",
    "builtin_function_or_method",
    "instance",
    "_Feature"
   ],
   "window_display": false
  }
 },
 "nbformat": 4,
 "nbformat_minor": 5
}
