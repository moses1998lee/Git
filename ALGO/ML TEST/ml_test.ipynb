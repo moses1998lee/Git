{
 "cells": [
  {
   "attachments": {},
   "cell_type": "markdown",
   "metadata": {},
   "source": [
    "# Import relevant packages"
   ]
  },
  {
   "cell_type": "code",
   "execution_count": 143,
   "metadata": {},
   "outputs": [],
   "source": [
    "import pandas as pd\n",
    "import numpy as np\n",
    "import plotly.express as px\n",
    "import plotly.graph_objects as go\n",
    "from datetime import datetime\n",
    "import matplotlib.pyplot as plt\n",
    "import yfinance as yf\n",
    "import ta\n",
    "from binance.client import Client\n",
    "client = Client()"
   ]
  },
  {
   "cell_type": "markdown",
   "metadata": {},
   "source": [
    "# Get Data Function"
   ]
  },
  {
   "cell_type": "code",
   "execution_count": 144,
   "metadata": {},
   "outputs": [],
   "source": [
    "# Download data\n",
    "def getdata(symbol, start, end):\n",
    "    frame = pd.DataFrame(client.get_historical_klines(symbol,'1h', start, end))\n",
    "    frame = frame.iloc[:,:6]\n",
    "    frame.columns = ['Time', 'Open', 'High', 'Low', 'Close', 'Volume']\n",
    "    frame.set_index('Time', inplace = True)\n",
    "    frame.index = pd.to_datetime(frame.index, unit = 'ms')\n",
    "    frame = frame.astype(float)\n",
    "    return frame"
   ]
  },
  {
   "cell_type": "code",
   "execution_count": 145,
   "metadata": {},
   "outputs": [
    {
     "name": "stdout",
     "output_type": "stream",
     "text": [
      "<class 'pandas.core.frame.DataFrame'>\n",
      "DatetimeIndex: 8737 entries, 2022-01-01 00:00:00 to 2022-12-31 00:00:00\n",
      "Data columns (total 5 columns):\n",
      " #   Column  Non-Null Count  Dtype  \n",
      "---  ------  --------------  -----  \n",
      " 0   Open    8737 non-null   float64\n",
      " 1   High    8737 non-null   float64\n",
      " 2   Low     8737 non-null   float64\n",
      " 3   Close   8737 non-null   float64\n",
      " 4   Volume  8737 non-null   float64\n",
      "dtypes: float64(5)\n",
      "memory usage: 409.5 KB\n"
     ]
    },
    {
     "data": {
      "text/html": [
       "<div>\n",
       "<style scoped>\n",
       "    .dataframe tbody tr th:only-of-type {\n",
       "        vertical-align: middle;\n",
       "    }\n",
       "\n",
       "    .dataframe tbody tr th {\n",
       "        vertical-align: top;\n",
       "    }\n",
       "\n",
       "    .dataframe thead th {\n",
       "        text-align: right;\n",
       "    }\n",
       "</style>\n",
       "<table border=\"1\" class=\"dataframe\">\n",
       "  <thead>\n",
       "    <tr style=\"text-align: right;\">\n",
       "      <th></th>\n",
       "      <th>Open</th>\n",
       "      <th>High</th>\n",
       "      <th>Low</th>\n",
       "      <th>Close</th>\n",
       "      <th>Volume</th>\n",
       "    </tr>\n",
       "    <tr>\n",
       "      <th>Time</th>\n",
       "      <th></th>\n",
       "      <th></th>\n",
       "      <th></th>\n",
       "      <th></th>\n",
       "      <th></th>\n",
       "    </tr>\n",
       "  </thead>\n",
       "  <tbody>\n",
       "    <tr>\n",
       "      <th>2022-12-30 20:00:00</th>\n",
       "      <td>16525.91</td>\n",
       "      <td>16571.51</td>\n",
       "      <td>16523.91</td>\n",
       "      <td>16568.69</td>\n",
       "      <td>6253.72281</td>\n",
       "    </tr>\n",
       "    <tr>\n",
       "      <th>2022-12-30 21:00:00</th>\n",
       "      <td>16569.36</td>\n",
       "      <td>16677.35</td>\n",
       "      <td>16568.31</td>\n",
       "      <td>16585.06</td>\n",
       "      <td>8873.19505</td>\n",
       "    </tr>\n",
       "    <tr>\n",
       "      <th>2022-12-30 22:00:00</th>\n",
       "      <td>16585.06</td>\n",
       "      <td>16597.00</td>\n",
       "      <td>16577.57</td>\n",
       "      <td>16583.27</td>\n",
       "      <td>3950.19324</td>\n",
       "    </tr>\n",
       "    <tr>\n",
       "      <th>2022-12-30 23:00:00</th>\n",
       "      <td>16582.81</td>\n",
       "      <td>16618.75</td>\n",
       "      <td>16568.00</td>\n",
       "      <td>16607.48</td>\n",
       "      <td>4986.34147</td>\n",
       "    </tr>\n",
       "    <tr>\n",
       "      <th>2022-12-31 00:00:00</th>\n",
       "      <td>16607.48</td>\n",
       "      <td>16616.37</td>\n",
       "      <td>16578.00</td>\n",
       "      <td>16580.32</td>\n",
       "      <td>4264.25848</td>\n",
       "    </tr>\n",
       "  </tbody>\n",
       "</table>\n",
       "</div>"
      ],
      "text/plain": [
       "                         Open      High       Low     Close      Volume\n",
       "Time                                                                   \n",
       "2022-12-30 20:00:00  16525.91  16571.51  16523.91  16568.69  6253.72281\n",
       "2022-12-30 21:00:00  16569.36  16677.35  16568.31  16585.06  8873.19505\n",
       "2022-12-30 22:00:00  16585.06  16597.00  16577.57  16583.27  3950.19324\n",
       "2022-12-30 23:00:00  16582.81  16618.75  16568.00  16607.48  4986.34147\n",
       "2022-12-31 00:00:00  16607.48  16616.37  16578.00  16580.32  4264.25848"
      ]
     },
     "execution_count": 145,
     "metadata": {},
     "output_type": "execute_result"
    }
   ],
   "source": [
    "data_start_date = '2022-01-01' # Change this variable to get more data\n",
    "data_end_date = '2022-12-31'\n",
    "\n",
    "df = getdata('BTCUSDT', data_start_date, data_end_date)\n",
    "df.info()\n",
    "df.tail()"
   ]
  },
  {
   "attachments": {},
   "cell_type": "markdown",
   "metadata": {},
   "source": [
    "# Get Levels Function\n"
   ]
  },
  {
   "cell_type": "code",
   "execution_count": 146,
   "metadata": {},
   "outputs": [],
   "source": [
    "def get_levels(date):\n",
    "    ratios = [-0.618 , 0.618, 1.618]\n",
    "    series = df.loc[date:][1:2].squeeze()\n",
    "    diff = series.High - series.Low\n",
    "    levels = [i * diff + series.Low for i in ratios]\n",
    "    \n",
    "    return levels"
   ]
  },
  {
   "attachments": {},
   "cell_type": "markdown",
   "metadata": {},
   "source": [
    "# Fixing up data & Implementation of backtest"
   ]
  },
  {
   "cell_type": "code",
   "execution_count": 147,
   "metadata": {},
   "outputs": [],
   "source": [
    "# Get unique dates so that we can iterate through it later\n",
    "dates = np.unique(df.index.date)\n",
    "\n",
    "# Create price column such that the price for execution for a datarow is the next data row's open\n",
    "df['price'] = df.Open.shift(-1)"
   ]
  },
  {
   "cell_type": "code",
   "execution_count": 148,
   "metadata": {},
   "outputs": [],
   "source": [
    "buys, sells = [], []\n",
    "trade_dates = []\n",
    "\n",
    "in_position = False\n",
    "\n",
    "for date in dates:\n",
    "    for index, row in df[date:][2:].iterrows():\n",
    "        if not in_position:\n",
    "            sl, entry, tp = get_levels(date)\n",
    "            if row.Close >= entry:\n",
    "                buys.append(row.price)\n",
    "                trade_dates.append(date)\n",
    "                in_position = True\n",
    "        \n",
    "        if in_position:\n",
    "            if row.Close >= tp or row.Close <= sl:\n",
    "                sells.append(row.price)\n",
    "                in_position = False\n",
    "                break"
   ]
  },
  {
   "cell_type": "code",
   "execution_count": 149,
   "metadata": {},
   "outputs": [],
   "source": [
    "# Create a df for buying and selling prices\n",
    "trades = pd.DataFrame([buys, sells])\n",
    "trades.columns = trade_dates # Set the columns to dates that trades were taken\n",
    "trades.index = ['Buy', 'Sell'] # Set row index to buy and sell\n",
    "trades = trades.T # Transpose data\n",
    "\n",
    "trades['PnL'] = trades.Sell - trades.Buy # Create column with PnL for the trades\n",
    "trades['PnL_rel'] = trades.PnL / trades.Buy # Create % of profit column"
   ]
  },
  {
   "cell_type": "code",
   "execution_count": 164,
   "metadata": {},
   "outputs": [
    {
     "data": {
      "text/plain": [
       "array([2022], dtype=int64)"
      ]
     },
     "execution_count": 164,
     "metadata": {},
     "output_type": "execute_result"
    }
   ],
   "source": [
    "months = np.unique(df.index.month)\n",
    "years = np.unique(df.index.year)\n",
    "\n",
    "for date, trade in trades.iterrows():\n",
    "    for month in months:\n",
    "        \n"
   ]
  },
  {
   "attachments": {},
   "cell_type": "markdown",
   "metadata": {},
   "source": [
    "# Results"
   ]
  },
  {
   "cell_type": "markdown",
   "metadata": {},
   "source": [
    "### Using Algorithm"
   ]
  },
  {
   "cell_type": "code",
   "execution_count": 150,
   "metadata": {},
   "outputs": [
    {
     "name": "stdout",
     "output_type": "stream",
     "text": [
      "PnL for algo would be: 54.85 %\n"
     ]
    }
   ],
   "source": [
    "# Cumulative of % change\n",
    "cum_series = (trades.PnL_rel + 1).cumprod()\n",
    "print('PnL for algo would be: {} %'.format(round((cum_series[-1] - 1)*100, 2)))"
   ]
  },
  {
   "cell_type": "markdown",
   "metadata": {},
   "source": [
    "### If we just held the trade"
   ]
  },
  {
   "cell_type": "code",
   "execution_count": 151,
   "metadata": {},
   "outputs": [
    {
     "name": "stdout",
     "output_type": "stream",
     "text": [
      "PnL for holding would be: -64.13 %\n"
     ]
    }
   ],
   "source": [
    "buy_price = df.iloc[0].Open\n",
    "sell_price = df.iloc[-1].Close\n",
    "PnL_rel = (sell_price - buy_price) / buy_price\n",
    "print('PnL for holding would be: {} %'.format(round(PnL_rel*100, 2)))"
   ]
  },
  {
   "cell_type": "markdown",
   "metadata": {},
   "source": [
    "# Visualisation"
   ]
  },
  {
   "cell_type": "code",
   "execution_count": 152,
   "metadata": {},
   "outputs": [
    {
     "ename": "ValueError",
     "evalue": "The truth value of a Series is ambiguous. Use a.empty, a.bool(), a.item(), a.any() or a.all().",
     "output_type": "error",
     "traceback": [
      "\u001b[1;31m---------------------------------------------------------------------------\u001b[0m",
      "\u001b[1;31mValueError\u001b[0m                                Traceback (most recent call last)",
      "Cell \u001b[1;32mIn[152], line 22\u001b[0m\n\u001b[0;32m     19\u001b[0m colors \u001b[39m=\u001b[39m [\u001b[39m'\u001b[39m\u001b[39mk\u001b[39m\u001b[39m'\u001b[39m, \u001b[39m'\u001b[39m\u001b[39mg\u001b[39m\u001b[39m'\u001b[39m, \u001b[39m'\u001b[39m\u001b[39mb\u001b[39m\u001b[39m'\u001b[39m]\n\u001b[0;32m     21\u001b[0m \u001b[39mfor\u001b[39;00m i \u001b[39min\u001b[39;00m \u001b[39mrange\u001b[39m(\u001b[39m3\u001b[39m):\n\u001b[1;32m---> 22\u001b[0m     plt\u001b[39m.\u001b[39;49maxhline(y \u001b[39m=\u001b[39;49m levels_[i], color \u001b[39m=\u001b[39;49m colors[i], linestyle \u001b[39m=\u001b[39;49m \u001b[39m'\u001b[39;49m\u001b[39m-\u001b[39;49m\u001b[39m'\u001b[39;49m )\n\u001b[0;32m     24\u001b[0m plt\u001b[39m.\u001b[39mfigure(figsize \u001b[39m=\u001b[39m (\u001b[39m15\u001b[39m,\u001b[39m3\u001b[39m))\n",
      "File \u001b[1;32mc:\\Users\\moses\\AppData\\Local\\Programs\\Python\\Python311\\Lib\\site-packages\\matplotlib\\pyplot.py:2401\u001b[0m, in \u001b[0;36maxhline\u001b[1;34m(y, xmin, xmax, **kwargs)\u001b[0m\n\u001b[0;32m   2399\u001b[0m \u001b[39m@_copy_docstring_and_deprecators\u001b[39m(Axes\u001b[39m.\u001b[39maxhline)\n\u001b[0;32m   2400\u001b[0m \u001b[39mdef\u001b[39;00m \u001b[39maxhline\u001b[39m(y\u001b[39m=\u001b[39m\u001b[39m0\u001b[39m, xmin\u001b[39m=\u001b[39m\u001b[39m0\u001b[39m, xmax\u001b[39m=\u001b[39m\u001b[39m1\u001b[39m, \u001b[39m*\u001b[39m\u001b[39m*\u001b[39mkwargs):\n\u001b[1;32m-> 2401\u001b[0m     \u001b[39mreturn\u001b[39;00m gca()\u001b[39m.\u001b[39;49maxhline(y\u001b[39m=\u001b[39;49my, xmin\u001b[39m=\u001b[39;49mxmin, xmax\u001b[39m=\u001b[39;49mxmax, \u001b[39m*\u001b[39;49m\u001b[39m*\u001b[39;49mkwargs)\n",
      "File \u001b[1;32mc:\\Users\\moses\\AppData\\Local\\Programs\\Python\\Python311\\Lib\\site-packages\\matplotlib\\axes\\_axes.py:769\u001b[0m, in \u001b[0;36mAxes.axhline\u001b[1;34m(self, y, xmin, xmax, **kwargs)\u001b[0m\n\u001b[0;32m    767\u001b[0m \u001b[39m# Strip away the units for comparison with non-unitized bounds.\u001b[39;00m\n\u001b[0;32m    768\u001b[0m yy, \u001b[39m=\u001b[39m \u001b[39mself\u001b[39m\u001b[39m.\u001b[39m_process_unit_info([(\u001b[39m\"\u001b[39m\u001b[39my\u001b[39m\u001b[39m\"\u001b[39m, y)], kwargs)\n\u001b[1;32m--> 769\u001b[0m scaley \u001b[39m=\u001b[39m (yy \u001b[39m<\u001b[39;49m ymin) \u001b[39mor\u001b[39;49;00m (yy \u001b[39m>\u001b[39;49m ymax)\n\u001b[0;32m    771\u001b[0m trans \u001b[39m=\u001b[39m \u001b[39mself\u001b[39m\u001b[39m.\u001b[39mget_yaxis_transform(which\u001b[39m=\u001b[39m\u001b[39m'\u001b[39m\u001b[39mgrid\u001b[39m\u001b[39m'\u001b[39m)\n\u001b[0;32m    772\u001b[0m l \u001b[39m=\u001b[39m mlines\u001b[39m.\u001b[39mLine2D([xmin, xmax], [y, y], transform\u001b[39m=\u001b[39mtrans, \u001b[39m*\u001b[39m\u001b[39m*\u001b[39mkwargs)\n",
      "File \u001b[1;32mc:\\Users\\moses\\AppData\\Local\\Programs\\Python\\Python311\\Lib\\site-packages\\pandas\\core\\generic.py:1527\u001b[0m, in \u001b[0;36mNDFrame.__nonzero__\u001b[1;34m(self)\u001b[0m\n\u001b[0;32m   1525\u001b[0m \u001b[39m@final\u001b[39m\n\u001b[0;32m   1526\u001b[0m \u001b[39mdef\u001b[39;00m \u001b[39m__nonzero__\u001b[39m(\u001b[39mself\u001b[39m) \u001b[39m-\u001b[39m\u001b[39m>\u001b[39m NoReturn:\n\u001b[1;32m-> 1527\u001b[0m     \u001b[39mraise\u001b[39;00m \u001b[39mValueError\u001b[39;00m(\n\u001b[0;32m   1528\u001b[0m         \u001b[39mf\u001b[39m\u001b[39m\"\u001b[39m\u001b[39mThe truth value of a \u001b[39m\u001b[39m{\u001b[39;00m\u001b[39mtype\u001b[39m(\u001b[39mself\u001b[39m)\u001b[39m.\u001b[39m\u001b[39m__name__\u001b[39m\u001b[39m}\u001b[39;00m\u001b[39m is ambiguous. \u001b[39m\u001b[39m\"\u001b[39m\n\u001b[0;32m   1529\u001b[0m         \u001b[39m\"\u001b[39m\u001b[39mUse a.empty, a.bool(), a.item(), a.any() or a.all().\u001b[39m\u001b[39m\"\u001b[39m\n\u001b[0;32m   1530\u001b[0m     )\n",
      "\u001b[1;31mValueError\u001b[0m: The truth value of a Series is ambiguous. Use a.empty, a.bool(), a.item(), a.any() or a.all()."
     ]
    },
    {
     "data": {
      "image/png": "[encoded data removed]",
      "text/plain": [
       "<Figure size 640x480 with 1 Axes>"
      ]
     },
     "metadata": {},
     "output_type": "display_data"
    }
   ],
   "source": [
    "date = '2023-01-01'\n",
    "\n",
    "# Extracting first trading hour of the day to find Fibonacci values\n",
    "series = df.loc[date:][1:2].squeeze()\n",
    "\n",
    "# Calculating difference to multiply by fibonacci ratios\n",
    "diff_ = series.High - series.Low\n",
    "\n",
    "# Fib ratios\n",
    "ratios_ = [-0.618, 0.618, 1.618] # SL, Entry, TP Ratios\n",
    "\n",
    "# Actual price @ ratios\n",
    "levels_ = [i * diff_ + series.Close for i in ratios_]\n",
    "\n",
    "# Visualise Data\n",
    "plt.plot(df.loc[date:][:25].Close) # Plot first 25 rows of data from date (all data of first day)\n",
    "\n",
    "# Plot horizontal lines\n",
    "colors = ['k', 'g', 'b']\n",
    "\n",
    "for i in range(3):\n",
    "    plt.axhline(y = levels_[i], color = colors[i], linestyle = '-' )\n",
    "\n",
    "plt.figure(figsize = (15,3))\n"
   ]
  }
 ],
 "metadata": {
  "kernelspec": {
   "display_name": "Python 3",
   "language": "python",
   "name": "python3"
  },
  "language_info": {
   "codemirror_mode": {
    "name": "ipython",
    "version": 3
   },
   "file_extension": ".py",
   "mimetype": "text/x-python",
   "name": "python",
   "nbconvert_exporter": "python",
   "pygments_lexer": "ipython3",
   "version": "3.11.2"
  },
  "orig_nbformat": 4
 },
 "nbformat": 4,
 "nbformat_minor": 2
}
