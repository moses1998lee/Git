{
 "cells": [
  {
   "attachments": {},
   "cell_type": "markdown",
   "metadata": {},
   "source": [
    "# Import relevant packages"
   ]
  },
  {
   "cell_type": "code",
   "execution_count": 323,
   "metadata": {},
   "outputs": [],
   "source": [
    "import pandas as pd\n",
    "import numpy as np\n",
    "import plotly.express as px\n",
    "import plotly.graph_objects as go\n",
    "from datetime import datetime\n",
    "import matplotlib.pyplot as plt\n",
    "import yfinance as yf\n",
    "import ta\n",
    "from binance.client import Client\n",
    "import calendar\n",
    "client = Client()"
   ]
  },
  {
   "cell_type": "markdown",
   "metadata": {},
   "source": [
    "# Get Data Function"
   ]
  },
  {
   "cell_type": "code",
   "execution_count": 324,
   "metadata": {},
   "outputs": [],
   "source": [
    "# Download data\n",
    "def getdata(symbol, start, end):\n",
    "    frame = pd.DataFrame(client.get_historical_klines(symbol,'1h', start, end))\n",
    "    frame = frame.iloc[:,:6]\n",
    "    frame.columns = ['Time', 'Open', 'High', 'Low', 'Close', 'Volume']\n",
    "    frame.set_index('Time', inplace = True)\n",
    "    frame.index = pd.to_datetime(frame.index, unit = 'ms')\n",
    "    frame = frame.astype(float)\n",
    "    return frame"
   ]
  },
  {
   "cell_type": "code",
   "execution_count": 322,
   "metadata": {},
   "outputs": [
    {
     "name": "stdout",
     "output_type": "stream",
     "text": [
      "<class 'pandas.core.frame.DataFrame'>\n",
      "DatetimeIndex: 10896 entries, 2022-01-01 00:00:00 to 2023-03-31 00:00:00\n",
      "Data columns (total 5 columns):\n",
      " #   Column  Non-Null Count  Dtype  \n",
      "---  ------  --------------  -----  \n",
      " 0   Open    10896 non-null  float64\n",
      " 1   High    10896 non-null  float64\n",
      " 2   Low     10896 non-null  float64\n",
      " 3   Close   10896 non-null  float64\n",
      " 4   Volume  10896 non-null  float64\n",
      "dtypes: float64(5)\n",
      "memory usage: 510.8 KB\n"
     ]
    },
    {
     "data": {
      "text/html": [
       "<div>\n",
       "<style scoped>\n",
       "    .dataframe tbody tr th:only-of-type {\n",
       "        vertical-align: middle;\n",
       "    }\n",
       "\n",
       "    .dataframe tbody tr th {\n",
       "        vertical-align: top;\n",
       "    }\n",
       "\n",
       "    .dataframe thead th {\n",
       "        text-align: right;\n",
       "    }\n",
       "</style>\n",
       "<table border=\"1\" class=\"dataframe\">\n",
       "  <thead>\n",
       "    <tr style=\"text-align: right;\">\n",
       "      <th></th>\n",
       "      <th>Open</th>\n",
       "      <th>High</th>\n",
       "      <th>Low</th>\n",
       "      <th>Close</th>\n",
       "      <th>Volume</th>\n",
       "    </tr>\n",
       "    <tr>\n",
       "      <th>Time</th>\n",
       "      <th></th>\n",
       "      <th></th>\n",
       "      <th></th>\n",
       "      <th></th>\n",
       "      <th></th>\n",
       "    </tr>\n",
       "  </thead>\n",
       "  <tbody>\n",
       "    <tr>\n",
       "      <th>2023-03-30 20:00:00</th>\n",
       "      <td>27986.10</td>\n",
       "      <td>28179.70</td>\n",
       "      <td>27900.00</td>\n",
       "      <td>28149.80</td>\n",
       "      <td>3422.58634</td>\n",
       "    </tr>\n",
       "    <tr>\n",
       "      <th>2023-03-30 21:00:00</th>\n",
       "      <td>28149.80</td>\n",
       "      <td>28197.96</td>\n",
       "      <td>28012.10</td>\n",
       "      <td>28068.50</td>\n",
       "      <td>1900.85772</td>\n",
       "    </tr>\n",
       "    <tr>\n",
       "      <th>2023-03-30 22:00:00</th>\n",
       "      <td>28068.50</td>\n",
       "      <td>28140.00</td>\n",
       "      <td>27786.66</td>\n",
       "      <td>27898.59</td>\n",
       "      <td>2716.85368</td>\n",
       "    </tr>\n",
       "    <tr>\n",
       "      <th>2023-03-30 23:00:00</th>\n",
       "      <td>27898.59</td>\n",
       "      <td>28055.00</td>\n",
       "      <td>27841.47</td>\n",
       "      <td>28028.53</td>\n",
       "      <td>1986.44740</td>\n",
       "    </tr>\n",
       "    <tr>\n",
       "      <th>2023-03-31 00:00:00</th>\n",
       "      <td>28028.53</td>\n",
       "      <td>28338.34</td>\n",
       "      <td>27916.34</td>\n",
       "      <td>28249.17</td>\n",
       "      <td>4149.41210</td>\n",
       "    </tr>\n",
       "  </tbody>\n",
       "</table>\n",
       "</div>"
      ],
      "text/plain": [
       "                         Open      High       Low     Close      Volume\n",
       "Time                                                                   \n",
       "2023-03-30 20:00:00  27986.10  28179.70  27900.00  28149.80  3422.58634\n",
       "2023-03-30 21:00:00  28149.80  28197.96  28012.10  28068.50  1900.85772\n",
       "2023-03-30 22:00:00  28068.50  28140.00  27786.66  27898.59  2716.85368\n",
       "2023-03-30 23:00:00  27898.59  28055.00  27841.47  28028.53  1986.44740\n",
       "2023-03-31 00:00:00  28028.53  28338.34  27916.34  28249.17  4149.41210"
      ]
     },
     "execution_count": 322,
     "metadata": {},
     "output_type": "execute_result"
    }
   ],
   "source": [
    "data_start_date = '2022-01-01' # Change this variable to get more data\n",
    "data_end_date = '2023-03-31'\n",
    "\n",
    "df = getdata('BTCUSDT', data_start_date, data_end_date)\n",
    "df.info()\n",
    "df.tail()"
   ]
  },
  {
   "attachments": {},
   "cell_type": "markdown",
   "metadata": {},
   "source": [
    "# Get Levels Function\n"
   ]
  },
  {
   "cell_type": "code",
   "execution_count": 325,
   "metadata": {},
   "outputs": [],
   "source": [
    "def get_levels(date):\n",
    "    ratios = [-0.618 , 0.618, 1.618]\n",
    "    series = df.loc[date:][1:2].squeeze()\n",
    "    diff = series.High - series.Low\n",
    "    levels = [i * diff + series.Low for i in ratios]\n",
    "    \n",
    "    return levels"
   ]
  },
  {
   "attachments": {},
   "cell_type": "markdown",
   "metadata": {},
   "source": [
    "# Fixing up data & Implementation of backtest"
   ]
  },
  {
   "cell_type": "code",
   "execution_count": 326,
   "metadata": {},
   "outputs": [],
   "source": [
    "# Get unique dates so that we can iterate through it later\n",
    "dates = np.unique(df.index.date)\n",
    "\n",
    "# Create price column such that the price for execution for a datarow is the next data row's open\n",
    "df['price'] = df.Open.shift(-1)"
   ]
  },
  {
   "cell_type": "code",
   "execution_count": 327,
   "metadata": {},
   "outputs": [],
   "source": [
    "buys, sells = [], []\n",
    "trade_dates = []\n",
    "\n",
    "in_position = False\n",
    "\n",
    "for date in dates:\n",
    "    for index, row in df[date:][2:].iterrows():\n",
    "        if not in_position:\n",
    "            sl, entry, tp = get_levels(date)\n",
    "            if row.Close >= entry:\n",
    "                buys.append(row.price)\n",
    "                trade_dates.append(date)\n",
    "                in_position = True\n",
    "        \n",
    "        if in_position:\n",
    "            if row.Close >= tp or row.Close <= sl:\n",
    "                sells.append(row.price)\n",
    "                in_position = False\n",
    "                break"
   ]
  },
  {
   "cell_type": "code",
   "execution_count": 328,
   "metadata": {},
   "outputs": [],
   "source": [
    "# Create a df for buying and selling prices\n",
    "trades = pd.DataFrame([buys, sells])\n",
    "trades.columns = trade_dates # Set the columns to dates that trades were taken\n",
    "trades.index = ['Buy', 'Sell'] # Set row index to buy and sell\n",
    "trades = trades.T # Transpose data\n",
    "\n",
    "trades['PnL'] = trades.Sell - trades.Buy # Create column with PnL for the trades\n",
    "trades['PnL_rel'] = trades.PnL / trades.Buy # Create % of profit column\n"
   ]
  },
  {
   "attachments": {},
   "cell_type": "markdown",
   "metadata": {},
   "source": [
    "# Results"
   ]
  },
  {
   "attachments": {},
   "cell_type": "markdown",
   "metadata": {},
   "source": [
    "## Algorithm (From start to end)"
   ]
  },
  {
   "cell_type": "code",
   "execution_count": 329,
   "metadata": {},
   "outputs": [
    {
     "name": "stdout",
     "output_type": "stream",
     "text": [
      "PnL for algo would be: 98.61 %\n"
     ]
    }
   ],
   "source": [
    "# Cumulative of % change\n",
    "cum_series = (trades.PnL_rel + 1).cumprod()\n",
    "print('PnL for algo would be: {} %'.format(round((cum_series[-1] - 1)*100, 2)))"
   ]
  },
  {
   "attachments": {},
   "cell_type": "markdown",
   "metadata": {},
   "source": [
    "## Holding (From start to end)"
   ]
  },
  {
   "cell_type": "code",
   "execution_count": 330,
   "metadata": {},
   "outputs": [
    {
     "name": "stdout",
     "output_type": "stream",
     "text": [
      "PnL for holding would be: -38.88 %\n"
     ]
    }
   ],
   "source": [
    "buy_price = df.iloc[0].Open\n",
    "sell_price = df.iloc[-1].Close\n",
    "PnL_rel = (sell_price - buy_price) / buy_price\n",
    "print('PnL for holding would be: {} %'.format(round(PnL_rel*100, 2)))"
   ]
  },
  {
   "attachments": {},
   "cell_type": "markdown",
   "metadata": {},
   "source": [
    "## Algorithm (Returns per month)"
   ]
  },
  {
   "attachments": {},
   "cell_type": "markdown",
   "metadata": {},
   "source": [
    "### Cumulative for each Month"
   ]
  },
  {
   "cell_type": "code",
   "execution_count": 331,
   "metadata": {},
   "outputs": [
    {
     "name": "stdout",
     "output_type": "stream",
     "text": [
      "PnL - ALGO (%) \n",
      "--------------\n",
      "2022 January : 7.39 %\n",
      "2022 February : 9.3 %\n",
      "2022 March : 29.71 %\n",
      "2022 April : 25.65 %\n",
      "2022 May : 30.37 %\n",
      "2022 June : 42.46 %\n",
      "2022 July : 58.68 %\n",
      "2022 August : 52.4 %\n",
      "2022 September : 46.66 %\n",
      "2022 October : 47.6 %\n",
      "2022 November : 48.46 %\n",
      "2022 December : 51.3 %\n",
      "2023 January : 72.91 %\n",
      "2023 February : 77.97 %\n",
      "2023 March : 98.61 %\n"
     ]
    }
   ],
   "source": [
    "# Converting trades to date time format\n",
    "trades.index = pd.to_datetime(trades.index)\n",
    "\n",
    "# Evaluating the % change for each month\n",
    "monthly_PnL_series = (trades.PnL_rel + 1).cumprod().resample('M').last()\n",
    "\n",
    "# Show cumulative percentage gained continuously for each month with algorithm\n",
    "print('PnL (Continuous) - ALGO (%) \\n--------------')\n",
    "for date, pnl in monthly_PnL_series.items():\n",
    "    print('{} {} : {} %'.format(date.year, calendar.month_name[date.month], round((pnl-1) * 100, 2)))"
   ]
  },
  {
   "attachments": {},
   "cell_type": "markdown",
   "metadata": {},
   "source": [
    "### Individual Month"
   ]
  },
  {
   "cell_type": "code",
   "execution_count": 366,
   "metadata": {},
   "outputs": [
    {
     "name": "stdout",
     "output_type": "stream",
     "text": [
      "PnL (Monthly) - ALGO (%) \n",
      "------------------------\n",
      "2022 January : 7.39 %\n",
      "2022 February : 1.78 %\n",
      "2022 March : 18.67 %\n",
      "2022 April : -3.13 %\n",
      "2022 May : 3.76 %\n",
      "2022 June : 9.28 %\n",
      "2022 July : 11.38 %\n",
      "2022 August : -3.96 %\n",
      "2022 September : -3.76 %\n",
      "2022 October : 0.64 %\n",
      "2022 November : 0.58 %\n",
      "2022 December : 1.92 %\n",
      "2023 January : 14.28 %\n",
      "2023 February : 2.93 %\n",
      "2023 March : 11.59 %\n"
     ]
    }
   ],
   "source": [
    "# Resampling by month & then applying cumulative product for each month to find percentage change per month with algorithm\n",
    "per_month_PnL = trades['PnL_rel'].resample('M').apply(lambda x: (1+x).prod(axis = 0) - 1)\n",
    "\n",
    "#Show individual percentage change for each month with algorithm\n",
    "print('PnL (Monthly) - ALGO (%) \\n------------------------')\n",
    "for date, pnl in per_month_PnL.items():\n",
    "    print('{} {} : {} %'.format(date.year, calendar.month_name[date.month], round(pnl * 100, 2)))"
   ]
  },
  {
   "attachments": {},
   "cell_type": "markdown",
   "metadata": {},
   "source": [
    "## Holding (Returns per month)"
   ]
  },
  {
   "cell_type": "code",
   "execution_count": 332,
   "metadata": {},
   "outputs": [
    {
     "name": "stdout",
     "output_type": "stream",
     "text": [
      "PnL - Holding (%) \n",
      "-----------------\n",
      "2022 January : -17.55 %\n",
      "2022 February : 12.56 %\n",
      "2022 March : 4.48 %\n",
      "2022 April : -17.37 %\n",
      "2022 May : -15.6 %\n",
      "2022 June : -37.56 %\n",
      "2022 July : 14.79 %\n",
      "2022 August : -14.24 %\n",
      "2022 September : -3.2 %\n",
      "2022 October : 5.61 %\n",
      "2022 November : -16.08 %\n",
      "2022 December : -3.61 %\n",
      "2023 January : 39.9 %\n",
      "2023 February : 0.24 %\n",
      "2023 March : 21.33 %\n"
     ]
    }
   ],
   "source": [
    "df_ = df.copy()\n",
    "\n",
    "# Resampling data to return first and last data of month\n",
    "month_start = df_.resample('M').first()\n",
    "month_end = df_.resample('M').last()\n",
    "\n",
    "# Finding the change in price if derivative was held from start to end of month\n",
    "month_diff = month_end.price - month_start.price\n",
    "\n",
    "# Percentage change \n",
    "p_change = (month_diff / month_start.price) * 100\n",
    "\n",
    "# Show individual percentage change per month for holding strategy\n",
    "print('PnL - Holding (%) \\n-----------------')\n",
    "for date, pnl in p_change.items():\n",
    "    print('{} {} : {} %'.format(date.year, calendar.month_name[date.month], round(pnl, 2)))"
   ]
  }
 ],
 "metadata": {
  "kernelspec": {
   "display_name": "Python 3",
   "language": "python",
   "name": "python3"
  },
  "language_info": {
   "codemirror_mode": {
    "name": "ipython",
    "version": 3
   },
   "file_extension": ".py",
   "mimetype": "text/x-python",
   "name": "python",
   "nbconvert_exporter": "python",
   "pygments_lexer": "ipython3",
   "version": "3.11.2"
  },
  "orig_nbformat": 4
 },
 "nbformat": 4,
 "nbformat_minor": 2
}
