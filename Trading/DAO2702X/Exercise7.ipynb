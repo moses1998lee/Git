{
 "cells": [
  {
   "cell_type": "markdown",
   "metadata": {},
   "source": [
    "## Question 1\n",
    "\n",
    "1. Given the data table `wage_data` below,\n",
    "\n",
    "```python\n",
    "####################\n",
    "import pandas as pd\n",
    "\n",
    "wage_data = pd.DataFrame({'wage': [3.10, 3.24, 3.00, 6.00, 5.30],\n",
    "                          'educ': [11.0, 12.0, 11.0, 8.0, 12.0],\n",
    "                          'expr': [2.0, 22.0, 2.0, 44.0, 7.0],\n",
    "                          'female': [1.0, 1.0, 0.0, 0.0, 0.0],\n",
    "                          'married': [0.0, 1.0, 0.0, 0.0, 1.0]})\n",
    "####################\n",
    "```\n",
    "\n",
    "which of the following code gives the median of variable `wage`?\n",
    "\n",
    "    A.\n",
    "```python\n",
    "####################\n",
    "wage_summary = wage_data.describe()\n",
    "print(wage_summary.loc['wage', 'median'])\n",
    "####################\n",
    "```\n",
    "\n",
    "    B.\n",
    "```python\n",
    "####################\n",
    "wage_summary = wage_data.describe()\n",
    "print(wage_summary.loc['median', 'wage'])\n",
    "####################\n",
    "```\n",
    "\n",
    "    C.\n",
    "```python\n",
    "####################\n",
    "wage_summary = wage_data.describe()\n",
    "print((wage_summary.loc['wage', 'min'] + wage_summary.loc['wage', 'max']) / 2)\n",
    "####################\n",
    "```\n",
    "\n",
    "    D.\n",
    "```python\n",
    "####################\n",
    "wage_summary = wage_data.describe()\n",
    "print((wage_summary.loc['50%', 'wage']))\n",
    "####################\n",
    "```\n",
    "\n",
    "**Solution:**"
   ]
  },
  {
   "cell_type": "code",
   "execution_count": null,
   "metadata": {},
   "outputs": [],
   "source": []
  },
  {
   "cell_type": "markdown",
   "metadata": {},
   "source": [
    "2. For the same dataset `wage_data`, which of the following code segments is correct in printing the correlation between `educ` and `expr`.\n",
    "\n",
    "    A.\n",
    "```python\n",
    "####################\n",
    "corr_table = wage_data.corr()\n",
    "print(corr_table.iloc['educ', 'expr']) \n",
    "####################\n",
    "```\n",
    "\n",
    "    B.\n",
    "```python\n",
    "####################\n",
    "corr_table = wage_data.corr()\n",
    "print(corr_table.iloc[1, 2])\n",
    "####################\n",
    "```\n",
    "\n",
    "    C.\n",
    "```python\n",
    "####################\n",
    "corr_table = wage_data.corr()\n",
    "print(corr_table.loc[:, 'educ'].loc[:, 'expr'])\n",
    "####################\n",
    "```\n",
    "\n",
    "    D.\n",
    "```python\n",
    "####################\n",
    "corr_table = wage_data.corr()\n",
    "print(corr_table.loc[:, 'educ':'expr'])\n",
    "####################\n",
    "```\n",
    "\n",
    "**Solution:**"
   ]
  },
  {
   "cell_type": "code",
   "execution_count": null,
   "metadata": {},
   "outputs": [],
   "source": []
  },
  {
   "cell_type": "markdown",
   "metadata": {},
   "source": [
    "---"
   ]
  },
  {
   "cell_type": "markdown",
   "metadata": {},
   "source": [
    "## Question 2\n",
    "\n",
    "Considering the following dataset on Singapore private house properties."
   ]
  },
  {
   "cell_type": "code",
   "execution_count": 25,
   "metadata": {},
   "outputs": [],
   "source": [
    "import pandas as pd\n",
    "import statistics as st"
   ]
  },
  {
   "cell_type": "markdown",
   "metadata": {},
   "source": [
    "Details of the variables are given below:\n",
    "- `project`: The name of the property project.\n",
    "- `street`: The street name of the property.\n",
    "- `type`: The type of the property: apartment or condominium.\n",
    "- `district`: Location of the property, given as the district code of Singapore, details can be found [here](https://www.mingproperty.sg/singapore-district-code/).\n",
    "- `segment`: Location of the property, given as the region segment of Singapore: Core Central Region (CCR), Rest of Central Region (RCR), or the Outside Central Region (OCR).\n",
    "- `tenure`: The tenure type of the property: 99 years or freehold.\n",
    "- `commence`: The commencing year of the property.\n",
    "- `sale`: The sales type of the property: new sale or resale.\n",
    "- `total_price`: The total price (in Singapore Dollars) of the property.\n",
    "- `area`: The area of the property in square feet.\n",
    "- `level`: The levels of the condos.\n",
    "- `unit_price`: The per square feet price of the property (in Singapore Dollars).\n",
    "- `date`: The date of the transaction. \n",
    "\n",
    "1. What is the average unit price of all **new sale freehold condos smaller than 2000 square feet**?\n",
    "\n",
    "**Solution:**"
   ]
  },
  {
   "cell_type": "code",
   "execution_count": 28,
   "metadata": {},
   "outputs": [
    {
     "data": {
      "text/plain": [
       "8367086.815907759"
      ]
     },
     "execution_count": 28,
     "metadata": {},
     "output_type": "execute_result"
    }
   ],
   "source": [
    "df = pd.read_csv(r\"C:\\Users\\moses\\Desktop\\Y4S1\\DAO2702X\\Seminar 6\\properties.csv\")\n",
    "\n",
    "st.mean(df.loc[df['area'] > 2000, 'total_price'])"
   ]
  },
  {
   "cell_type": "markdown",
   "metadata": {},
   "source": [
    "2. Considering all **new sale freehold condos smaller than 2000 square feet**, use proper data visualization method to show how prices of condos in different regions, CCR, RCR, or OCR, are affected by their areas.\n",
    "\n",
    "**Solution:**"
   ]
  },
  {
   "cell_type": "code",
   "execution_count": null,
   "metadata": {},
   "outputs": [],
   "source": [
    "import matplotlib.pyplot as plt"
   ]
  },
  {
   "cell_type": "markdown",
   "metadata": {},
   "source": [
    "---"
   ]
  },
  {
   "cell_type": "markdown",
   "metadata": {},
   "source": [
    "## Question 3\n",
    "\n",
    "The prices of fifteen stocks between September 2021 and August 2021 are included in the data file 'stocks.csv'. "
   ]
  },
  {
   "cell_type": "code",
   "execution_count": null,
   "metadata": {},
   "outputs": [],
   "source": []
  },
  {
   "cell_type": "markdown",
   "metadata": {},
   "source": [
    "1. Visualize the price trend of ONE select stock. \n",
    "\n",
    "**Solution**:"
   ]
  },
  {
   "cell_type": "code",
   "execution_count": null,
   "metadata": {},
   "outputs": [],
   "source": []
  },
  {
   "cell_type": "markdown",
   "metadata": {},
   "source": [
    "2. Calculate the daily return rate in percentage of each stock, and visualize the trend of the return rate of ONE stock.\n",
    "\n",
    "*Hint*: you could use the `stocks.pct_change()` method to calculate the rate of change between rows.\n",
    "\n",
    "**Solution**:"
   ]
  },
  {
   "cell_type": "code",
   "execution_count": null,
   "metadata": {},
   "outputs": [],
   "source": []
  },
  {
   "cell_type": "markdown",
   "metadata": {},
   "source": [
    "3. What are the average values and variances of the daily return rates of these stocks?\n",
    "\n",
    "**Solution**:"
   ]
  },
  {
   "cell_type": "code",
   "execution_count": null,
   "metadata": {},
   "outputs": [],
   "source": []
  },
  {
   "cell_type": "markdown",
   "metadata": {},
   "source": [
    "4. Visualize the risk-return trade-off, where the x-data are the standard deviations of return rates, and the y-data indicate the average return rates.\n",
    "\n",
    "**Solution**:"
   ]
  },
  {
   "cell_type": "code",
   "execution_count": null,
   "metadata": {},
   "outputs": [],
   "source": []
  },
  {
   "cell_type": "markdown",
   "metadata": {},
   "source": [
    "Using the visualization from (4), add bubble sizes to indicate the average prices of these stocks.\n",
    "\n",
    "**Solution:**"
   ]
  },
  {
   "cell_type": "code",
   "execution_count": null,
   "metadata": {},
   "outputs": [],
   "source": []
  },
  {
   "cell_type": "markdown",
   "metadata": {},
   "source": [
    "5. Calculate the correlations between these stock prices. \n",
    "\n",
    "**Solution**:"
   ]
  },
  {
   "cell_type": "code",
   "execution_count": null,
   "metadata": {},
   "outputs": [],
   "source": []
  },
  {
   "cell_type": "markdown",
   "metadata": {},
   "source": [
    "6. Visualize the histogram of the return rate of ONE selected stock. \n",
    "\n",
    "**Solution**:"
   ]
  },
  {
   "cell_type": "code",
   "execution_count": null,
   "metadata": {},
   "outputs": [],
   "source": []
  },
  {
   "cell_type": "markdown",
   "metadata": {},
   "source": [
    "7. Moving average is a commonly used tool in analyzing stock markets. Pandas also provides a method called `rolling()` for calculating the moving average of a number of rows. For example, `stock.rolling(5).mean()` calculates the 5-day moving averages of the given stocks. Visualize the trend of the $k$-day moving average of ONE selected stock. You could explore how the trend is affected by different values of $k$. \n",
    "\n",
    "**Solution**:"
   ]
  },
  {
   "cell_type": "code",
   "execution_count": null,
   "metadata": {},
   "outputs": [],
   "source": []
  }
 ],
 "metadata": {
  "kernelspec": {
   "display_name": "base",
   "language": "python",
   "name": "python3"
  },
  "language_info": {
   "codemirror_mode": {
    "name": "ipython",
    "version": 3
   },
   "file_extension": ".py",
   "mimetype": "text/x-python",
   "name": "python",
   "nbconvert_exporter": "python",
   "pygments_lexer": "ipython3",
   "version": "3.8.5"
  },
  "varInspector": {
   "cols": {
    "lenName": 16,
    "lenType": 16,
    "lenVar": 40
   },
   "kernels_config": {
    "python": {
     "delete_cmd_postfix": "",
     "delete_cmd_prefix": "del ",
     "library": "var_list.py",
     "varRefreshCmd": "print(var_dic_list())"
    },
    "r": {
     "delete_cmd_postfix": ") ",
     "delete_cmd_prefix": "rm(",
     "library": "var_list.r",
     "varRefreshCmd": "cat(var_dic_list()) "
    }
   },
   "types_to_exclude": [
    "module",
    "function",
    "builtin_function_or_method",
    "instance",
    "_Feature"
   ],
   "window_display": false
  },
  "vscode": {
   "interpreter": {
    "hash": "00073238948e3e314995d1c989df02e5591cbd633de70172eca577de89016890"
   }
  }
 },
 "nbformat": 4,
 "nbformat_minor": 4
}
